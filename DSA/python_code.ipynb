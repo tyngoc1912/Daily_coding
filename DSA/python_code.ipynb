{
 "cells": [
  {
   "cell_type": "markdown",
   "id": "e30cb964",
   "metadata": {},
   "source": [
    "# **Python Code**"
   ]
  },
  {
   "cell_type": "markdown",
   "id": "a5870531",
   "metadata": {},
   "source": [
    "## Basic"
   ]
  },
  {
   "cell_type": "markdown",
   "id": "fa03f545",
   "metadata": {},
   "source": [
    "### Input - Output"
   ]
  },
  {
   "cell_type": "code",
   "execution_count": null,
   "id": "41364e72",
   "metadata": {},
   "outputs": [
    {
     "name": "stdout",
     "output_type": "stream",
     "text": [
      "12\n"
     ]
    }
   ],
   "source": [
    "# one variable\n",
    "one_variable = int(input(\"Nhap: \")) # không ép kiểu int() -> res có kiểu str\n",
    "print(one_variable)"
   ]
  },
  {
   "cell_type": "code",
   "execution_count": 5,
   "id": "76cce956",
   "metadata": {},
   "outputs": [
    {
     "name": "stdout",
     "output_type": "stream",
     "text": [
      "1.0, 2.0, 3.0"
     ]
    }
   ],
   "source": [
    "# multiple\n",
    "x, y, z = map(float, input(\"Nhap 3 so tren 1 dong: \").split())\n",
    "print(x, y, z, sep=', ', end='')"
   ]
  },
  {
   "cell_type": "code",
   "execution_count": 10,
   "id": "6801954d",
   "metadata": {},
   "outputs": [
    {
     "name": "stdout",
     "output_type": "stream",
     "text": [
      "cach 1: 0.97\n",
      "cach 2: 0.97\n",
      "\n",
      "\n",
      "cach 1: Mary 22\n",
      "cach 2: Mary 22\n",
      "cach 3: Mary 22\n"
     ]
    }
   ],
   "source": [
    "float_num1 = 0.97283\n",
    "print(\"cach 1: %.2f\" % float_num1)\n",
    "print(\"cach 2: {:.2f}\".format(float_num1))\n",
    "\n",
    "# cách 1 dòng\n",
    "print(\"\\n\")\n",
    "\n",
    "name = \"Mary\"\n",
    "age = 22\n",
    "print(\"cach 1: %s %d\" % (name, age))\n",
    "print(f\"cach 2: {name} {age}\")\n",
    "print(\"cach 3: {0} {1}\".format(name, age))"
   ]
  },
  {
   "cell_type": "markdown",
   "id": "70964b3d",
   "metadata": {},
   "source": [
    "### Data types"
   ]
  },
  {
   "cell_type": "code",
   "execution_count": null,
   "id": "fa06c576",
   "metadata": {},
   "outputs": [
    {
     "name": "stdout",
     "output_type": "stream",
     "text": [
      "1 4 8\n",
      "4\n",
      "<class 'int'>\n",
      "hello\n",
      "Hello, world3\n",
      "word\n",
      "UPCASE\n",
      "My name is ty\n",
      "hello--this--is\n",
      "my name is James\n"
     ]
    }
   ],
   "source": [
    "# number\n",
    "x = 2\n",
    "print(x-1, x*2, x**3)\n",
    "x += 2\n",
    "print(x)\n",
    "print(type(x))\n",
    "\n",
    "# string\n",
    "print(\"hello\")\n",
    "mess = \"Hello\" + \", \" + \"world\"\n",
    "mess1 = \"%s\" % mess\n",
    "print(mess1 + f\" {len(\"cau\")}\")\n",
    "print(\"    word  \".strip()) # loại bỏ khoảng trắng thừa\n",
    "print(\"upcase\".upper()) # in hoa\n",
    "print(\"my name is Ty\".capitalize()) # Viết hoa chữ cái đầu tiên\n",
    "mess2 = \"   hello  this is\"\n",
    "print(\"--\".join(mess2.split())) # chuyển thành list rồi join vào\n",
    "mess3 = \"my name is Ty\"\n",
    "print(mess3.replace('Ty', 'James')) # thay thế chuỗi khác"
   ]
  },
  {
   "cell_type": "markdown",
   "id": "27ed1ea5",
   "metadata": {},
   "source": [
    "### If-Else Statement"
   ]
  },
  {
   "cell_type": "code",
   "execution_count": 13,
   "id": "a960435f",
   "metadata": {},
   "outputs": [
    {
     "name": "stdout",
     "output_type": "stream",
     "text": [
      "bigger\n",
      "big\n",
      "end\n",
      "300\n"
     ]
    }
   ],
   "source": [
    "# Cách 1\n",
    "if 5 > 2:\n",
    "    print('bigger')\n",
    "elif 5 < 6:\n",
    "    print(\"less\")\n",
    "else:\n",
    "    print('equal')\n",
    "    \n",
    "# cách 2\n",
    "a, b = 10, -20\n",
    "if a < abs(b): print('big'); print(\"end\")\n",
    "else: print(\"less\")\n",
    "\n",
    "# cách 3\n",
    "num1, num2 = 100, 200\n",
    "res = num1+num2 if num1 < num2 else num2 - num1\n",
    "print(res)"
   ]
  },
  {
   "cell_type": "markdown",
   "id": "8bddd5f2",
   "metadata": {},
   "source": [
    "### Loop"
   ]
  },
  {
   "cell_type": "markdown",
   "id": "26e22c5b",
   "metadata": {},
   "source": [
    "#### for loop"
   ]
  },
  {
   "cell_type": "code",
   "execution_count": null,
   "id": "211cf90d",
   "metadata": {},
   "outputs": [
    {
     "name": "stdout",
     "output_type": "stream",
     "text": [
      "1\n",
      "4\n",
      "7\n",
      "10\n",
      "0 1 2 3 4 5 6 7 8 9 10 \n",
      "\n",
      "1 2 knife apple 4 \n",
      "\n",
      "0 1 2 3 \n",
      "0 1 2 3 \n",
      "0 1 2 3 \n",
      "0 1 2 3 \n"
     ]
    }
   ],
   "source": [
    "# range(start=0, end, step=1)\n",
    "# cách 1\n",
    "for i in range(1, 11, 3):\n",
    "    print(i, sep=', ')\n",
    "\n",
    "# cách 2\n",
    "for i in range(11):\n",
    "    print(i, end=' ')\n",
    "print(\"\\n\")\n",
    "\n",
    "# cách 3\n",
    "items = [1, 2, 'knife', 'apple', 4]\n",
    "for item in items:\n",
    "    print(item, sep=', ', end=' ')\n",
    "print('\\n')\n",
    "\n",
    "# nested for loop -> ma trận\n",
    "for i in range(4):\n",
    "    for j in range(4):\n",
    "        print(j, end=' ')\n",
    "    print()"
   ]
  },
  {
   "cell_type": "markdown",
   "id": "62aba669",
   "metadata": {},
   "source": [
    "#### while loop"
   ]
  },
  {
   "cell_type": "code",
   "execution_count": null,
   "id": "efa477e8",
   "metadata": {},
   "outputs": [
    {
     "name": "stdout",
     "output_type": "stream",
     "text": [
      "con con con con con con con con \n",
      "\n",
      "12345 54321\n",
      "1\n"
     ]
    }
   ],
   "source": [
    "n = 10\n",
    "while n > 0:\n",
    "    print(f'con tiep {n}', end=' ')\n",
    "    n -= 1\n",
    "    if n == 8: continue\n",
    "    if n == 2: break\n",
    "print(\"\\n\")\n",
    "    \n",
    "# reverse number\n",
    "number = 12345\n",
    "print(number, end=' ')\n",
    "rev_num = 0\n",
    "while number != 0:\n",
    "    rev_num = rev_num * 10 + number % 10\n",
    "    number //= 10\n",
    "print(rev_num)\n",
    "\n",
    "# infinite loop\n",
    "check = 0\n",
    "while True:\n",
    "    check = int(input('number > 0: '))\n",
    "    if check > 0: break\n",
    "print(check)"
   ]
  },
  {
   "cell_type": "markdown",
   "id": "994e8b1b",
   "metadata": {},
   "source": [
    "### Function"
   ]
  },
  {
   "cell_type": "code",
   "execution_count": null,
   "id": "37baf9f3",
   "metadata": {},
   "outputs": [
    {
     "name": "stdout",
     "output_type": "stream",
     "text": [
      "Ty-A2025-(25, 'Ice cream')\n",
      "Ty, A2024, {'age': 20, 'hometown': 'Khanh Hoa'}\n",
      "[]-[1, 2, 'bike', 'ring']\n",
      "[1, 2, 3, 4]-[1, 2, 3, 4]\n",
      "[230, -10, 10, 5, -4, -3]\n"
     ]
    }
   ],
   "source": [
    "\"\"\"\n",
    "*args -> tuple -> pass no limit arguments\n",
    "*kwargs -> dictionary -> pass must have key=value\n",
    "\"\"\"\n",
    "def show_info1(name:str, id:str, *arg) -> None:\n",
    "    print(name, id, arg, sep='-')\n",
    "# positional arguments -> change positions affect result\n",
    "show_info1('Ty', 'A2025', 25, 'Ice cream')\n",
    "    \n",
    "def show_info2(name, id, **kwargs):\n",
    "    print(name, id, kwargs, sep=', ')\n",
    "# keyword argument\n",
    "show_info2(\"Ty\",\"A2024\", age=20, hometown=\"Khanh Hoa\")\n",
    "\n",
    "# modify vs unmodify\n",
    "def move_list(list1, list2):\n",
    "    while list1:\n",
    "        item = list1.pop()\n",
    "        list2.append(item) # thêm vào cuối\n",
    "    list2.reverse() # đảo list\n",
    "# modified\n",
    "original_list = [1, 2, 'bike', 'ring']\n",
    "edit_list = []\n",
    "move_list(original_list, edit_list)\n",
    "print(original_list, edit_list, sep='-')\n",
    "# unmodified\n",
    "ori_list = [1, 2, 3, 4]\n",
    "ed_list = []\n",
    "move_list(ori_list[:], ed_list)\n",
    "print(ori_list, ed_list, sep='-')\n",
    "\n",
    "# lambda function\n",
    "test_list = [-10, 230, 5, -4, -3, 10]\n",
    "test_list.sort(key = lambda x : abs(x), reverse = True)\n",
    "print(test_list)"
   ]
  },
  {
   "cell_type": "markdown",
   "id": "066ca5c4",
   "metadata": {},
   "source": [
    "### Containers"
   ]
  },
  {
   "cell_type": "markdown",
   "id": "d99e89c9",
   "metadata": {},
   "source": [
    "#### list"
   ]
  },
  {
   "cell_type": "code",
   "execution_count": 10,
   "id": "d67f12bd",
   "metadata": {},
   "outputs": [
    {
     "name": "stdout",
     "output_type": "stream",
     "text": [
      "[2, 'bike', 'car']\n",
      "3\n",
      "[0, 4, 16, 36, 64]\n",
      "[64] [64, 36, 16, 4, 0] [0, 4, 8, 9, 64]\n",
      "0 cat\n",
      "1 dog\n",
      "2 monkey\n",
      "[2, 'bike', 'car', 2, 'bike', 'car']\n"
     ]
    }
   ],
   "source": [
    "list_item = [1, 2, 'apple', 'bike']\n",
    "list_item.append('car')\n",
    "list_item.insert(len(list_item), 6)\n",
    "list_item.pop() # last\n",
    "list_item.pop(0) # first\n",
    "list_item.remove('apple') # value\n",
    "print(list_item)\n",
    "print(len(list_item))\n",
    "\n",
    "# list comprehension\n",
    "number = [x**2 for x in range(10) if x % 2 == 0]\n",
    "print(number)\n",
    "\n",
    "# slicing -> list[first:last:step]\n",
    "number1 = number[-1:] # last element\n",
    "number2 = number[::-1] # reverse list\n",
    "change_list_number = number[:] #copy list\n",
    "change_list_number[2:4] = [8, 9]\n",
    "print(number1, number2, change_list_number)\n",
    "\n",
    "# enumerate\n",
    "animals = ['cat', 'dog', 'monkey']\n",
    "for i, name in enumerate(animals):\n",
    "    print(i, name)\n",
    "    \n",
    "# double list\n",
    "double_list = list_item * 2\n",
    "print(double_list)"
   ]
  },
  {
   "cell_type": "markdown",
   "id": "738f1662",
   "metadata": {},
   "source": [
    "#### dictionary"
   ]
  },
  {
   "cell_type": "code",
   "execution_count": 9,
   "id": "1f7ec9bf",
   "metadata": {},
   "outputs": [
    {
     "name": "stdout",
     "output_type": "stream",
     "text": [
      "1: dev\n",
      "2: AI\n",
      "3: FE\n",
      "1 dev\n",
      "2 AI\n",
      "3 FE\n",
      "dict_keys([1, 2, 3])\n",
      "{1: 'DS', 2: 'AI', 3: 'FE'}\n",
      "{1: 'DS', 2: 'AI', 3: 'FE', 4: 'BI'}\n",
      "{2: 'AI', 3: 'FE', 4: 'BI'}\n",
      "False\n",
      "N/A\n",
      "{1: 'cat', 2: 'dog', 3: 'fish', 4: 'tiger'}\n",
      "{1: 'your name', 2: 'nisekoi', 3: 'MHA', 4: 'JJK'}\n"
     ]
    }
   ],
   "source": [
    "job_dicts = {1:'dev', 2:'AI', 3:'FE'}\n",
    "\n",
    "# duyệt các phần tử\n",
    "# cách 1:\n",
    "for i, job in job_dicts.items():\n",
    "    print(f\"{i}: {job}\")\n",
    "# cách 2:\n",
    "for i in job_dicts:\n",
    "    print(i, job_dicts[i])\n",
    "\n",
    "# truy cập chỉ số    \n",
    "idx = job_dicts.keys() #job_dicts.values() -> value\n",
    "print(idx) # -> list\n",
    "\n",
    "# chỉnh sửa\n",
    "job_dicts[1] = 'DS'\n",
    "print(job_dicts)\n",
    "\n",
    "# thêm\n",
    "job_dicts[4] = 'BI'\n",
    "print(job_dicts)\n",
    "\n",
    "# xóa\n",
    "job_dicts.pop(1) #xóa key\n",
    "print(job_dicts)\n",
    "\n",
    "# nhận dạng -> key khong phai value\n",
    "print('AI' in job_dicts)\n",
    "\n",
    "# tránh bị lỗi truy cập value không tồn tại\n",
    "print(job_dicts.get('BE', 'N/A'))\n",
    "\n",
    "# gộp 2 list -> dict\n",
    "merge_list1 = [1, 2, 3, 4]\n",
    "merge_list2 = ['cat', 'dog', 'fish', 'tiger']\n",
    "merge_dict = dict(zip(merge_list1, merge_list2))\n",
    "print(merge_dict)\n",
    "\n",
    "# dict comprehension\n",
    "anime_list = ['your name', 'nisekoi', 'MHA', 'JJK']\n",
    "anime_dict = {idx + 1: name for idx, name in enumerate(anime_list)}\n",
    "print(anime_dict)"
   ]
  },
  {
   "cell_type": "markdown",
   "id": "f6625eab",
   "metadata": {},
   "source": [
    "#### set"
   ]
  },
  {
   "cell_type": "code",
   "execution_count": null,
   "id": "4bc3430f",
   "metadata": {},
   "outputs": [
    {
     "name": "stdout",
     "output_type": "stream",
     "text": [
      "{'dog', 'bird', 'cat', 'tiger'}\n",
      "4\n",
      "{'dog', 'bird', 'tiger'}\n",
      "True\n",
      "{'bird', 'butterfly', 'dog', 'tiger'}\n",
      "{'url3', 'url2', 'url1'}\n",
      "['url1', 'url2', 'url3']\n"
     ]
    }
   ],
   "source": [
    "# thao tác với set\n",
    "animals = {'cat', 'dog', 'bird'}\n",
    "animals.add('tiger') #chưa tồn tại nên thêm như bình thường\n",
    "print(animals)\n",
    "animals.add('bird') #tồn tại rồi nên không thêm được\n",
    "print(len(animals))\n",
    "animals.remove('cat')\n",
    "print(animals)\n",
    "\n",
    "# thao tác với set\n",
    "more_animal = animals\n",
    "more_animal.add('butterfly')\n",
    "print(more_animal.issuperset(animals)) #issubset ...\n",
    "print(more_animal | animals) # ^, &, ... \n",
    "\n",
    "# set comprehension\n",
    "urls = ['url1', 'url2', 'url3', 'url1']\n",
    "urls_set = {url for url in urls}\n",
    "print(urls_set)\n",
    "\n",
    "# sắp xếp với set -> đổi về list\n",
    "urls_sets=list(urls_set)\n",
    "urls_sets.sort()\n",
    "print(urls_sets)"
   ]
  },
  {
   "cell_type": "markdown",
   "id": "6d3b9cca",
   "metadata": {},
   "source": [
    "#### tuple"
   ]
  },
  {
   "cell_type": "code",
   "execution_count": null,
   "id": "fdfb999b",
   "metadata": {},
   "outputs": [
    {
     "name": "stdout",
     "output_type": "stream",
     "text": [
      "('string', 3, 3.4, [1, 3, 6])\n",
      "0\n",
      "0 1\n",
      "1 2\n",
      "2 One\n",
      "3 Apple eaten\n"
     ]
    }
   ],
   "source": [
    "# khởi tạo\n",
    "tuple1 = (3,)\n",
    "tuple2 = (1, 2, 'One', 'Apple eaten')\n",
    "tuple3 = 1, 2, 'three four'\n",
    "tuple4 = tuple(\"string covert to tuple\")\n",
    "tuple5 = ('string', 3, 3.4, [1, 3, 4])\n",
    "\n",
    "# unmodified + các thao tác giống các kiểu dữ liệu trên\n",
    "tuple5[-1][2] = 6 # chỉnh được\n",
    "print(tuple5)\n",
    "\n",
    "# truy cập chỉ số và đếm phần tử\n",
    "element = tuple2.index(1)\n",
    "print(tuple2.count(element))\n",
    "\n",
    "# duyệt tuple\n",
    "for i in range(len(tuple2)):\n",
    "    print(i, tuple2[i])"
   ]
  },
  {
   "cell_type": "markdown",
   "id": "9421eb89",
   "metadata": {},
   "source": [
    "### OOP"
   ]
  },
  {
   "cell_type": "markdown",
   "id": "15dabff4",
   "metadata": {},
   "source": [
    "#### Class không tham số"
   ]
  },
  {
   "cell_type": "code",
   "execution_count": 25,
   "id": "fd30641b",
   "metadata": {},
   "outputs": [
    {
     "name": "stdout",
     "output_type": "stream",
     "text": [
      "Ty\n",
      "Name:  Ty\n",
      "Nationality: Vietnam\n",
      "National ID: 123ABC\n"
     ]
    }
   ],
   "source": [
    "# 3 phương thức : __init__ ,__getitem__ ,__str__\n",
    "# mặc định giá trị\n",
    "class Person():\n",
    "    def __init__(self): # constructor\n",
    "        self.info = {\n",
    "            'name' : 'Ty'\n",
    "            , 'nationality' : 'Vietnam'\n",
    "            , 'id' : '123ABC'\n",
    "        }\n",
    "    # overloading\n",
    "    def __getitem__(self, i): \n",
    "        return self.info[i]\n",
    "    def __str__(self):\n",
    "        return  \"Name:  {}\\nNationality: {}\\nNational ID: {}\".format(self.info['name'], self.info['nationality'], self.info['id'])\n",
    "    \n",
    "    # methods\n",
    "    def print_info(self):\n",
    "        print(\"Name:  {}\\nNationality: {}\\nNational ID: {}\".format(self.info['name'], self.info['nationality'], self.info['id']))\n",
    "              \n",
    "# test\n",
    "p1 = Person()\n",
    "print(p1['name'])\n",
    "print(p1)"
   ]
  },
  {
   "cell_type": "markdown",
   "id": "4bd100b7",
   "metadata": {},
   "source": [
    "#### Class có tham số"
   ]
  },
  {
   "cell_type": "code",
   "execution_count": null,
   "id": "1308bdb9",
   "metadata": {},
   "outputs": [],
   "source": [
    "import math as m\n",
    "class PhanSo:\n",
    "    def __init__(self, tu, mau): # encapsulation\n",
    "        self.__tu = tu # _attr : protected, __attr : private\n",
    "        self.__mau = mau\n",
    "    \n",
    "    # getter vs setter    \n",
    "    def get_ps(self):\n",
    "        return self.__tu, self.__mau\n",
    "    def set_ps(self, x, y):\n",
    "        self.__tu = x\n",
    "        self.__mau = y\n",
    "    \n",
    "    # method\n",
    "    def rut_gon(self):\n",
    "        temp = m.gcd(self.__tu, self.__mau)\n",
    "        self.__tu = self.__tu / temp\n",
    "        self.__mau = self.__mau / temp\n",
    "    def print_ps(self):\n",
    "        print(f\"{int(self.__tu)} / {int(self.__mau)}\")\n",
    "    \n",
    "    def __str__(self): # overloading\n",
    "        return \"{} / {}\".format(int(self.__tu), int(self.__mau))"
   ]
  },
  {
   "cell_type": "code",
   "execution_count": 16,
   "id": "adeeb0b8",
   "metadata": {},
   "outputs": [
    {
     "name": "stdout",
     "output_type": "stream",
     "text": [
      "40 / 100\n",
      "2 / 5\n",
      "4 / 35\n"
     ]
    }
   ],
   "source": [
    "ps = PhanSo(40, 100)\n",
    "print(ps)\n",
    "ps.rut_gon()\n",
    "ps.print_ps()\n",
    "x, y = ps.get_ps()\n",
    "ps.set_ps(x+2, y*7)\n",
    "print(ps)"
   ]
  },
  {
   "cell_type": "markdown",
   "id": "35e3da65",
   "metadata": {},
   "source": [
    "#### Kế thừa"
   ]
  },
  {
   "cell_type": "code",
   "execution_count": 28,
   "id": "7e18612f",
   "metadata": {},
   "outputs": [
    {
     "name": "stdout",
     "output_type": "stream",
     "text": [
      "Name:  Ty\n",
      "Nationality: Vietnam\n",
      "National ID: 123ABC\n",
      "5 gio 30 phut\n",
      "\n",
      "Name:  Ty\n",
      "Nationality: Vietnam\n",
      "National ID: 123ABC\n",
      "3 gio 0 phut\n",
      "\n",
      "Name:  Ty\n",
      "Nationality: Vietnam\n",
      "National ID: 123ABC\n",
      "2 gio 0 phut\n",
      "\n"
     ]
    }
   ],
   "source": [
    "# Inheritance\n",
    "import datetime\n",
    "class PersonTime(Person):\n",
    "    def __init__(self, time_in, time_out):\n",
    "        super().__init__()\n",
    "        self.time_in = time_in\n",
    "        self.time_out = time_out\n",
    "        self.time = 0\n",
    "    \n",
    "    def time_play(self):\n",
    "        time_in = datetime.datetime.strptime(self.time_in, '%H:%M')\n",
    "        time_out = datetime.datetime.strptime(self.time_out, '%H:%M')\n",
    "        self.time = time_out - time_in\n",
    "        \n",
    "    def display_result(self):\n",
    "        self.time = str(self.time)\n",
    "        self.print_info()\n",
    "        time_array = [int(st) for st in self.time.split(':')]\n",
    "        print(\"{} gio {} phut\\n\".format(time_array[0],time_array[1]))\n",
    "    \n",
    "# testing\n",
    "result = []\n",
    "p1 = PersonTime('09:00', '11:00')\n",
    "p2 = PersonTime('11:00', '14:00')\n",
    "p3 = PersonTime('15:00', '20:30')\n",
    "\n",
    "for p in [p1, p2, p3]:\n",
    "    p.time_play()\n",
    "\n",
    "result = [p1, p2, p3]\n",
    "result.sort(key=lambda x : x.time, reverse=True)\n",
    "\n",
    "for i in result:\n",
    "    i.display_result()"
   ]
  },
  {
   "cell_type": "code",
   "execution_count": 29,
   "id": "57f3fe0b",
   "metadata": {},
   "outputs": [
    {
     "name": "stdout",
     "output_type": "stream",
     "text": [
      "x and y is: 10 200\n",
      "False\n",
      "True\n"
     ]
    }
   ],
   "source": [
    "#Overiding\n",
    "class Base(): #nền tảng\n",
    "\tdef __init__(self, x):\n",
    "\t\tself.x = x\n",
    "class Derived(Base): #nhận được từ, lấy được từ, tìm thấy nguồn gốc từ.\n",
    "\tdef __init__(self, x, y):\n",
    "\t\tsuper(Derived, self).__init__(x)\n",
    "\t\tself.y = y\n",
    "\tdef printXY(self):\n",
    "\t    print(\"x and y is:\",self.x, self.y)\n",
    "d = Derived(10, 200)\n",
    "d.printXY()\n",
    "print(issubclass(Base,Derived)) #class A là lớp con của class B?\n",
    "print(isinstance(d,Derived)) #obj là một instance của lớp Class hoặc là một instance của lớp con của Class."
   ]
  },
  {
   "cell_type": "markdown",
   "id": "6f154fb9",
   "metadata": {},
   "source": [
    "### PEP8"
   ]
  },
  {
   "cell_type": "code",
   "execution_count": 30,
   "id": "6d655d19",
   "metadata": {},
   "outputs": [],
   "source": [
    "\"\"\"\n",
    "Các tên quy ước đặt tên phổ biến:\n",
    "function_variable_name\n",
    "GLOBAL_VAR_NAME\n",
    "ClassName\n",
    "camelCase\n",
    "\"\"\"\n",
    "\n",
    "import math\n",
    "\n",
    "PI = 3.14\n",
    "\n",
    "def add_number_v1():# không được Thừa ký tự space ở trước dấu :\n",
    "    # add number version 1\n",
    "    pass\n",
    "\n",
    "def add_number_v2():\n",
    "    # add number version 2\n",
    "    pass\n",
    "\n",
    "def is_prime_optimal(number):\n",
    "    \"\"\"\n",
    "    Write docstrings for ALL public classes, funcs and methods.\n",
    "    \"\"\"\n",
    "    if number in [2, 3, 5]:\n",
    "        return True\n",
    "    if number % 2 == 0 or number % 3 == 0 or number % 5 == 0 or number < 2:\n",
    "        return False\n",
    "    if number < 49:\n",
    "        return True\n",
    "    # Chúng ta sẽ phải xử lý xuống dòng thật khéo léo để xóa bỏ phần warning\n",
    "    if (number % 7) == 0 or (number % 11) == 0 or (number % 13) == 0 or \\\n",
    "        (number % 17) == 0 or (number % 19) == 0 or (number % 23) == 0 or \\\n",
    "        (number % 29) == 0 or (number % 31) == 0 or (number % 37) == 0 or \\\n",
    "            (number % 41) == 0 or (number % 43) == 0 or (number % 47) == 0:  # note\n",
    "        return False\n",
    "    if number < 2809:\n",
    "        return True\n",
    "\n",
    "    max_range = int(math.sqrt(number)) + 1\n",
    "    for value in range(53, max_range, 2):  # khoảng trắng xung quanh dấu phẩy bên trái thì không , phải thì có\n",
    "        if number % value == 0:\n",
    "            return False\n",
    "    return True\n",
    "\n",
    "class SubNumber:\n",
    "    def check_number_v1(self):\n",
    "        # sub number version 1\n",
    "        pass\n",
    "\n",
    "    def check_number_v2(self):  #Các function trong một class được bao xung quanh bởi 01 dòng trắng\n",
    "        pass\n",
    "# Dòng cuối cùng của một file sẽ là 01 dòng trắng."
   ]
  },
  {
   "cell_type": "markdown",
   "id": "1fd15d34",
   "metadata": {},
   "source": [
    "## Pandas"
   ]
  },
  {
   "cell_type": "markdown",
   "id": "ab0359f6",
   "metadata": {},
   "source": [
    "### Đọc và thao tác ban đầu"
   ]
  },
  {
   "cell_type": "code",
   "execution_count": 38,
   "id": "e3a72e06",
   "metadata": {},
   "outputs": [],
   "source": [
    "# import lib\n",
    "import pandas as pd\n",
    "\n",
    "#read csv\n",
    "df = pd.read_csv('data.csv')\n",
    "\n",
    "# check head(), tail(), sample(), .columns, .dtypes, .shape->(rows, cols)\n",
    "# info() -> count of null values\n",
    "# describe() -> summary stats of numeric columns"
   ]
  },
  {
   "cell_type": "code",
   "execution_count": 39,
   "id": "0f02ef0a",
   "metadata": {},
   "outputs": [
    {
     "data": {
      "application/vnd.microsoft.datawrangler.viewer.v0+json": {
       "columns": [
        {
         "name": "index",
         "rawType": "int64",
         "type": "integer"
        },
        {
         "name": "name",
         "rawType": "object",
         "type": "string"
        },
        {
         "name": "price_old",
         "rawType": "object",
         "type": "string"
        },
        {
         "name": "price_new",
         "rawType": "object",
         "type": "string"
        },
        {
         "name": "warranty",
         "rawType": "object",
         "type": "string"
        },
        {
         "name": "CPU",
         "rawType": "object",
         "type": "string"
        },
        {
         "name": "Ram_size",
         "rawType": "object",
         "type": "string"
        },
        {
         "name": "Ram_type",
         "rawType": "object",
         "type": "string"
        },
        {
         "name": "Hard_Drive",
         "rawType": "object",
         "type": "string"
        },
        {
         "name": "screen",
         "rawType": "object",
         "type": "string"
        },
        {
         "name": "resolution",
         "rawType": "object",
         "type": "string"
        },
        {
         "name": "graphics",
         "rawType": "object",
         "type": "string"
        },
        {
         "name": "size_weight",
         "rawType": "object",
         "type": "string"
        },
        {
         "name": "material",
         "rawType": "object",
         "type": "string"
        },
        {
         "name": "os",
         "rawType": "object",
         "type": "string"
        },
        {
         "name": "year",
         "rawType": "int64",
         "type": "integer"
        },
        {
         "name": "battery",
         "rawType": "object",
         "type": "string"
        }
       ],
       "conversionMethod": "pd.DataFrame",
       "ref": "2ba05e78-7c8a-40f9-8013-1daa48e37361",
       "rows": [
        [
         "4",
         "Laptop Acer Swift 3 SF315 52 50T9 i5 8250U/8GB/256GB/Win10 (NX.GZBSV.002)",
         "5.760.000₫",
         "16.990.000₫",
         "1 tháng tại TGDĐ",
         "Intel Core i5 Coffee Lake - 8250U",
         "8 GB",
         "DDR4 (Onboard +1 khe)",
         "Hỗ trợ khe cắm HDD SATA\n256 GB SSD M.2 SATA 3",
         "15.6 inch",
         "Full HD (1920 x 1080)",
         "Card tích hợp - Intel UHD Graphics 620",
         "Dài Dài 359 mm - Rộng Rộng 243 mm - Dày Dày 16.9 mm - Nặng 1.7 kg",
         "Vỏ kim loại",
         "Windows 10 Home SL",
         "2018",
         "Li-Polymer, 80 Wh"
        ],
        [
         "8",
         "Laptop CHUWI CoreBook X i5 8259U/16GB/512GB/Win10",
         "5.740.000₫",
         "15.490.000₫",
         "3.5 tháng chính hãng",
         "Intel Core i5 Coffee Lake - 8259U",
         "16 GB",
         "DDR4 (Onboard)",
         "512 GB SSD\nHỗ trợ khe cắm SSD M.2 SATA3 (nâng cấp tối đa 1 TB)",
         "14 inch",
         "2.2K (2240x1400)",
         "Card tích hợp - Intel Iris Plus Graphics 655",
         "Dài 310 mm - Rộng 229.5 mm - Dày 20.6 mm - Nặng 1.5 kg",
         "Vỏ kim loại",
         "Windows 10 Home SL",
         "2021",
         "46.2 Wh"
        ],
        [
         "2",
         "Laptop Acer Swift 7 SF714 52T 76C6 i7 8500Y/16GB/512GB/Touch/Túi/Win10 (NX.H98SV.001)",
         "16.940.000₫",
         "49.990.000₫",
         "1 tháng tại TGDĐ",
         "Intel Core i7 Coffee Lake - 8500Y",
         "16 GB",
         "DDR3 (Onboard)",
         "512 GB SSD NVMe PCIe",
         "14 inch",
         "Full HD (1920 x 1080)",
         "Card tích hợp - Intel UHD Graphics 615",
         "Dài Dài 317.9 mm - Rộng Rộng 191.5 - Dày Dày 9.95 mm - Nặng 890 gram",
         "Nhôm - Magie",
         "Windows 10 Home SL",
         "2019",
         "3-cell Li-ion"
        ],
        [
         "1",
         "Laptop Acer Swift 5 SF514 53T 51EX i5 8265U/8GB/256GB/Touch/Win10 (NX.H7KSV.001)",
         "8.130.000₫",
         "23.990.000₫",
         "1 tháng tại TGDĐ",
         "Intel Core i5 Coffee Lake - 8265U",
         "8 GB",
         "DDR4 (Onboard)",
         "256 GB SSD NVMe PCIe",
         "14 inch",
         "Full HD (1920 x 1080)",
         "Card tích hợp - Intel UHD Graphics 620",
         "Dài 329 mm - Rộng 228 mm - Dày 14.9 mm - Nặng 0.97 kg",
         "Nhôm - Magie",
         "Windows 10 Home SL",
         "2018",
         "2-cell Li-Polymer"
        ],
        [
         "5",
         "Laptop CHUWI CoreBook X i5 8259U/16GB/512GB/Win10",
         "5.580.000₫",
         "15.490.000₫",
         "1 tháng tại TGDĐ",
         "Intel Core i5 Coffee Lake - 8259U",
         "16 GB",
         "DDR4 (Onboard)",
         "512 GB SSD\nHỗ trợ khe cắm SSD M.2 SATA3 (nâng cấp tối đa 1 TB)",
         "14 inch",
         "2.2K (2240x1400)",
         "Card tích hợp - Intel Iris Plus Graphics 655",
         "Dài 310 mm - Rộng 229.5 mm - Dày 20.6 mm - Nặng 1.5 kg",
         "Vỏ kim loại",
         "Windows 10 Home SL",
         "2021",
         "46.2 Wh"
        ],
        [
         "3",
         "Laptop Acer Switch 5 SW512 52P 34RS i3 7130U/4GB/128GB/Touch/Pen/Win10 (NT.LDTSV.004)",
         "7.620.000₫",
         "22.490.000₫",
         "1 tháng tại TGDĐ",
         "Intel Core i3 Kabylake - 7130U",
         "4 GB",
         "DDR3L",
         "128 GB SSD M2 PCIe",
         "12 inch",
         "2K (2160 x 1440)",
         "Card tích hợp - Intel UHD Graphics 620",
         "Dài Dài 292.9 mm - Rộng Rộng 201.8 mm - Dày Dày 9.6 mm - Nặng 0.92 kg",
         "Vỏ kim loại",
         "Windows 10 Home SL",
         "2019",
         "2-cell Li-ion"
        ],
        [
         "0",
         "Laptop Acer Swift 5 SF514 53T 740R i7 8565U/8GB/256GB/Touch/Win10 (NX.H7KSV.002)",
         "9.480.000₫",
         "27.990.000₫",
         "1 tháng tại TGDĐ",
         "Intel Core i7 Coffee Lake - 8565U",
         "8 GB",
         "DDR4 (Onboard)",
         "256 GB SSD NVMe PCIe",
         "14 inch",
         "Full HD (1920 x 1080)",
         "Card tích hợp - Intel UHD Graphics 620",
         "Dài 329 mm - Rộng 228 mm - Dày 14.9 mm - Nặng 0.94 kg",
         "Nhôm - Magie",
         "Windows 10 Home SL",
         "2018",
         "2-cell Li-Polymer"
        ],
        [
         "9",
         "Laptop CHUWI CoreBook X i5 8259U/16GB/512GB/Win10",
         "5.770.000₫",
         "15.490.000₫",
         "4 tháng chính hãng",
         "Intel Core i5 Coffee Lake - 8259U",
         "16 GB",
         "DDR4 (Onboard)",
         "512 GB SSD\nHỗ trợ khe cắm SSD M.2 SATA3 (nâng cấp tối đa 1 TB)",
         "14 inch",
         "2.2K (2240x1400)",
         "Card tích hợp - Intel Iris Plus Graphics 655",
         "Dài 310 mm - Rộng 229.5 mm - Dày 20.6 mm - Nặng 1.5 kg",
         "Vỏ kim loại",
         "Windows 10 Home SL",
         "2021",
         "46.2 Wh"
        ],
        [
         "7",
         "Laptop CHUWI CoreBook X i5 8259U/16GB/512GB/Win10",
         "5.710.000₫",
         "15.490.000₫",
         "3 tháng chính hãng",
         "Intel Core i5 Coffee Lake - 8259U",
         "16 GB",
         "DDR4 (Onboard)",
         "512 GB SSD\nHỗ trợ khe cắm SSD M.2 SATA3 (nâng cấp tối đa 1 TB)",
         "14 inch",
         "2.2K (2240x1400)",
         "Card tích hợp - Intel Iris Plus Graphics 655",
         "Dài 310 mm - Rộng 229.5 mm - Dày 20.6 mm - Nặng 1.5 kg",
         "Vỏ kim loại",
         "Windows 10 Home SL",
         "2021",
         "46.2 Wh"
        ],
        [
         "6",
         "Laptop CHUWI CoreBook X i5 8259U/16GB/512GB/Win10",
         "5.680.000₫",
         "15.490.000₫",
         "2.5 tháng chính hãng",
         "Intel Core i5 Coffee Lake - 8259U",
         "16 GB",
         "DDR4 (Onboard)",
         "512 GB SSD\nHỗ trợ khe cắm SSD M.2 SATA3 (nâng cấp tối đa 1 TB)",
         "14 inch",
         "2.2K (2240x1400)",
         "Card tích hợp - Intel Iris Plus Graphics 655",
         "Dài 310 mm - Rộng 229.5 mm - Dày 20.6 mm - Nặng 1.5 kg",
         "Vỏ kim loại",
         "Windows 10 Home SL",
         "2021",
         "46.2 Wh"
        ]
       ],
       "shape": {
        "columns": 16,
        "rows": 10
       }
      },
      "text/html": [
       "<div>\n",
       "<style scoped>\n",
       "    .dataframe tbody tr th:only-of-type {\n",
       "        vertical-align: middle;\n",
       "    }\n",
       "\n",
       "    .dataframe tbody tr th {\n",
       "        vertical-align: top;\n",
       "    }\n",
       "\n",
       "    .dataframe thead th {\n",
       "        text-align: right;\n",
       "    }\n",
       "</style>\n",
       "<table border=\"1\" class=\"dataframe\">\n",
       "  <thead>\n",
       "    <tr style=\"text-align: right;\">\n",
       "      <th></th>\n",
       "      <th>name</th>\n",
       "      <th>price_old</th>\n",
       "      <th>price_new</th>\n",
       "      <th>warranty</th>\n",
       "      <th>CPU</th>\n",
       "      <th>Ram_size</th>\n",
       "      <th>Ram_type</th>\n",
       "      <th>Hard_Drive</th>\n",
       "      <th>screen</th>\n",
       "      <th>resolution</th>\n",
       "      <th>graphics</th>\n",
       "      <th>size_weight</th>\n",
       "      <th>material</th>\n",
       "      <th>os</th>\n",
       "      <th>year</th>\n",
       "      <th>battery</th>\n",
       "    </tr>\n",
       "  </thead>\n",
       "  <tbody>\n",
       "    <tr>\n",
       "      <th>4</th>\n",
       "      <td>Laptop Acer Swift 3 SF315 52 50T9 i5 8250U/8GB...</td>\n",
       "      <td>5.760.000₫</td>\n",
       "      <td>16.990.000₫</td>\n",
       "      <td>1 tháng tại TGDĐ</td>\n",
       "      <td>Intel Core i5 Coffee Lake - 8250U</td>\n",
       "      <td>8 GB</td>\n",
       "      <td>DDR4 (Onboard +1 khe)</td>\n",
       "      <td>Hỗ trợ khe cắm HDD SATA\\n256 GB SSD M.2 SATA 3</td>\n",
       "      <td>15.6 inch</td>\n",
       "      <td>Full HD (1920 x 1080)</td>\n",
       "      <td>Card tích hợp - Intel UHD Graphics 620</td>\n",
       "      <td>Dài Dài 359 mm - Rộng Rộng 243 mm - Dày Dày 16...</td>\n",
       "      <td>Vỏ kim loại</td>\n",
       "      <td>Windows 10 Home SL</td>\n",
       "      <td>2018</td>\n",
       "      <td>Li-Polymer, 80 Wh</td>\n",
       "    </tr>\n",
       "    <tr>\n",
       "      <th>8</th>\n",
       "      <td>Laptop CHUWI CoreBook X i5 8259U/16GB/512GB/Win10</td>\n",
       "      <td>5.740.000₫</td>\n",
       "      <td>15.490.000₫</td>\n",
       "      <td>3.5 tháng chính hãng</td>\n",
       "      <td>Intel Core i5 Coffee Lake - 8259U</td>\n",
       "      <td>16 GB</td>\n",
       "      <td>DDR4 (Onboard)</td>\n",
       "      <td>512 GB SSD\\nHỗ trợ khe cắm SSD M.2 SATA3 (nâng...</td>\n",
       "      <td>14 inch</td>\n",
       "      <td>2.2K (2240x1400)</td>\n",
       "      <td>Card tích hợp - Intel Iris Plus Graphics 655</td>\n",
       "      <td>Dài 310 mm - Rộng 229.5 mm - Dày 20.6 mm - Nặn...</td>\n",
       "      <td>Vỏ kim loại</td>\n",
       "      <td>Windows 10 Home SL</td>\n",
       "      <td>2021</td>\n",
       "      <td>46.2 Wh</td>\n",
       "    </tr>\n",
       "    <tr>\n",
       "      <th>2</th>\n",
       "      <td>Laptop Acer Swift 7 SF714 52T 76C6 i7 8500Y/16...</td>\n",
       "      <td>16.940.000₫</td>\n",
       "      <td>49.990.000₫</td>\n",
       "      <td>1 tháng tại TGDĐ</td>\n",
       "      <td>Intel Core i7 Coffee Lake - 8500Y</td>\n",
       "      <td>16 GB</td>\n",
       "      <td>DDR3 (Onboard)</td>\n",
       "      <td>512 GB SSD NVMe PCIe</td>\n",
       "      <td>14 inch</td>\n",
       "      <td>Full HD (1920 x 1080)</td>\n",
       "      <td>Card tích hợp - Intel UHD Graphics 615</td>\n",
       "      <td>Dài Dài 317.9 mm - Rộng Rộng 191.5 - Dày Dày 9...</td>\n",
       "      <td>Nhôm - Magie</td>\n",
       "      <td>Windows 10 Home SL</td>\n",
       "      <td>2019</td>\n",
       "      <td>3-cell Li-ion</td>\n",
       "    </tr>\n",
       "    <tr>\n",
       "      <th>1</th>\n",
       "      <td>Laptop Acer Swift 5 SF514 53T 51EX i5 8265U/8G...</td>\n",
       "      <td>8.130.000₫</td>\n",
       "      <td>23.990.000₫</td>\n",
       "      <td>1 tháng tại TGDĐ</td>\n",
       "      <td>Intel Core i5 Coffee Lake - 8265U</td>\n",
       "      <td>8 GB</td>\n",
       "      <td>DDR4 (Onboard)</td>\n",
       "      <td>256 GB SSD NVMe PCIe</td>\n",
       "      <td>14 inch</td>\n",
       "      <td>Full HD (1920 x 1080)</td>\n",
       "      <td>Card tích hợp - Intel UHD Graphics 620</td>\n",
       "      <td>Dài 329 mm - Rộng 228 mm - Dày 14.9 mm - Nặng ...</td>\n",
       "      <td>Nhôm - Magie</td>\n",
       "      <td>Windows 10 Home SL</td>\n",
       "      <td>2018</td>\n",
       "      <td>2-cell Li-Polymer</td>\n",
       "    </tr>\n",
       "    <tr>\n",
       "      <th>5</th>\n",
       "      <td>Laptop CHUWI CoreBook X i5 8259U/16GB/512GB/Win10</td>\n",
       "      <td>5.580.000₫</td>\n",
       "      <td>15.490.000₫</td>\n",
       "      <td>1 tháng tại TGDĐ</td>\n",
       "      <td>Intel Core i5 Coffee Lake - 8259U</td>\n",
       "      <td>16 GB</td>\n",
       "      <td>DDR4 (Onboard)</td>\n",
       "      <td>512 GB SSD\\nHỗ trợ khe cắm SSD M.2 SATA3 (nâng...</td>\n",
       "      <td>14 inch</td>\n",
       "      <td>2.2K (2240x1400)</td>\n",
       "      <td>Card tích hợp - Intel Iris Plus Graphics 655</td>\n",
       "      <td>Dài 310 mm - Rộng 229.5 mm - Dày 20.6 mm - Nặn...</td>\n",
       "      <td>Vỏ kim loại</td>\n",
       "      <td>Windows 10 Home SL</td>\n",
       "      <td>2021</td>\n",
       "      <td>46.2 Wh</td>\n",
       "    </tr>\n",
       "    <tr>\n",
       "      <th>3</th>\n",
       "      <td>Laptop Acer Switch 5 SW512 52P 34RS i3 7130U/4...</td>\n",
       "      <td>7.620.000₫</td>\n",
       "      <td>22.490.000₫</td>\n",
       "      <td>1 tháng tại TGDĐ</td>\n",
       "      <td>Intel Core i3 Kabylake - 7130U</td>\n",
       "      <td>4 GB</td>\n",
       "      <td>DDR3L</td>\n",
       "      <td>128 GB SSD M2 PCIe</td>\n",
       "      <td>12 inch</td>\n",
       "      <td>2K (2160 x 1440)</td>\n",
       "      <td>Card tích hợp - Intel UHD Graphics 620</td>\n",
       "      <td>Dài Dài 292.9 mm - Rộng Rộng 201.8 mm - Dày Dà...</td>\n",
       "      <td>Vỏ kim loại</td>\n",
       "      <td>Windows 10 Home SL</td>\n",
       "      <td>2019</td>\n",
       "      <td>2-cell Li-ion</td>\n",
       "    </tr>\n",
       "    <tr>\n",
       "      <th>0</th>\n",
       "      <td>Laptop Acer Swift 5 SF514 53T 740R i7 8565U/8G...</td>\n",
       "      <td>9.480.000₫</td>\n",
       "      <td>27.990.000₫</td>\n",
       "      <td>1 tháng tại TGDĐ</td>\n",
       "      <td>Intel Core i7 Coffee Lake - 8565U</td>\n",
       "      <td>8 GB</td>\n",
       "      <td>DDR4 (Onboard)</td>\n",
       "      <td>256 GB SSD NVMe PCIe</td>\n",
       "      <td>14 inch</td>\n",
       "      <td>Full HD (1920 x 1080)</td>\n",
       "      <td>Card tích hợp - Intel UHD Graphics 620</td>\n",
       "      <td>Dài 329 mm - Rộng 228 mm - Dày 14.9 mm - Nặng ...</td>\n",
       "      <td>Nhôm - Magie</td>\n",
       "      <td>Windows 10 Home SL</td>\n",
       "      <td>2018</td>\n",
       "      <td>2-cell Li-Polymer</td>\n",
       "    </tr>\n",
       "    <tr>\n",
       "      <th>9</th>\n",
       "      <td>Laptop CHUWI CoreBook X i5 8259U/16GB/512GB/Win10</td>\n",
       "      <td>5.770.000₫</td>\n",
       "      <td>15.490.000₫</td>\n",
       "      <td>4 tháng chính hãng</td>\n",
       "      <td>Intel Core i5 Coffee Lake - 8259U</td>\n",
       "      <td>16 GB</td>\n",
       "      <td>DDR4 (Onboard)</td>\n",
       "      <td>512 GB SSD\\nHỗ trợ khe cắm SSD M.2 SATA3 (nâng...</td>\n",
       "      <td>14 inch</td>\n",
       "      <td>2.2K (2240x1400)</td>\n",
       "      <td>Card tích hợp - Intel Iris Plus Graphics 655</td>\n",
       "      <td>Dài 310 mm - Rộng 229.5 mm - Dày 20.6 mm - Nặn...</td>\n",
       "      <td>Vỏ kim loại</td>\n",
       "      <td>Windows 10 Home SL</td>\n",
       "      <td>2021</td>\n",
       "      <td>46.2 Wh</td>\n",
       "    </tr>\n",
       "    <tr>\n",
       "      <th>7</th>\n",
       "      <td>Laptop CHUWI CoreBook X i5 8259U/16GB/512GB/Win10</td>\n",
       "      <td>5.710.000₫</td>\n",
       "      <td>15.490.000₫</td>\n",
       "      <td>3 tháng chính hãng</td>\n",
       "      <td>Intel Core i5 Coffee Lake - 8259U</td>\n",
       "      <td>16 GB</td>\n",
       "      <td>DDR4 (Onboard)</td>\n",
       "      <td>512 GB SSD\\nHỗ trợ khe cắm SSD M.2 SATA3 (nâng...</td>\n",
       "      <td>14 inch</td>\n",
       "      <td>2.2K (2240x1400)</td>\n",
       "      <td>Card tích hợp - Intel Iris Plus Graphics 655</td>\n",
       "      <td>Dài 310 mm - Rộng 229.5 mm - Dày 20.6 mm - Nặn...</td>\n",
       "      <td>Vỏ kim loại</td>\n",
       "      <td>Windows 10 Home SL</td>\n",
       "      <td>2021</td>\n",
       "      <td>46.2 Wh</td>\n",
       "    </tr>\n",
       "    <tr>\n",
       "      <th>6</th>\n",
       "      <td>Laptop CHUWI CoreBook X i5 8259U/16GB/512GB/Win10</td>\n",
       "      <td>5.680.000₫</td>\n",
       "      <td>15.490.000₫</td>\n",
       "      <td>2.5 tháng chính hãng</td>\n",
       "      <td>Intel Core i5 Coffee Lake - 8259U</td>\n",
       "      <td>16 GB</td>\n",
       "      <td>DDR4 (Onboard)</td>\n",
       "      <td>512 GB SSD\\nHỗ trợ khe cắm SSD M.2 SATA3 (nâng...</td>\n",
       "      <td>14 inch</td>\n",
       "      <td>2.2K (2240x1400)</td>\n",
       "      <td>Card tích hợp - Intel Iris Plus Graphics 655</td>\n",
       "      <td>Dài 310 mm - Rộng 229.5 mm - Dày 20.6 mm - Nặn...</td>\n",
       "      <td>Vỏ kim loại</td>\n",
       "      <td>Windows 10 Home SL</td>\n",
       "      <td>2021</td>\n",
       "      <td>46.2 Wh</td>\n",
       "    </tr>\n",
       "  </tbody>\n",
       "</table>\n",
       "</div>"
      ],
      "text/plain": [
       "                                                name    price_old  \\\n",
       "4  Laptop Acer Swift 3 SF315 52 50T9 i5 8250U/8GB...   5.760.000₫   \n",
       "8  Laptop CHUWI CoreBook X i5 8259U/16GB/512GB/Win10   5.740.000₫   \n",
       "2  Laptop Acer Swift 7 SF714 52T 76C6 i7 8500Y/16...  16.940.000₫   \n",
       "1  Laptop Acer Swift 5 SF514 53T 51EX i5 8265U/8G...   8.130.000₫   \n",
       "5  Laptop CHUWI CoreBook X i5 8259U/16GB/512GB/Win10   5.580.000₫   \n",
       "3  Laptop Acer Switch 5 SW512 52P 34RS i3 7130U/4...   7.620.000₫   \n",
       "0  Laptop Acer Swift 5 SF514 53T 740R i7 8565U/8G...   9.480.000₫   \n",
       "9  Laptop CHUWI CoreBook X i5 8259U/16GB/512GB/Win10   5.770.000₫   \n",
       "7  Laptop CHUWI CoreBook X i5 8259U/16GB/512GB/Win10   5.710.000₫   \n",
       "6  Laptop CHUWI CoreBook X i5 8259U/16GB/512GB/Win10   5.680.000₫   \n",
       "\n",
       "     price_new              warranty                                CPU  \\\n",
       "4  16.990.000₫      1 tháng tại TGDĐ  Intel Core i5 Coffee Lake - 8250U   \n",
       "8  15.490.000₫  3.5 tháng chính hãng  Intel Core i5 Coffee Lake - 8259U   \n",
       "2  49.990.000₫      1 tháng tại TGDĐ  Intel Core i7 Coffee Lake - 8500Y   \n",
       "1  23.990.000₫      1 tháng tại TGDĐ  Intel Core i5 Coffee Lake - 8265U   \n",
       "5  15.490.000₫      1 tháng tại TGDĐ  Intel Core i5 Coffee Lake - 8259U   \n",
       "3  22.490.000₫      1 tháng tại TGDĐ     Intel Core i3 Kabylake - 7130U   \n",
       "0  27.990.000₫      1 tháng tại TGDĐ  Intel Core i7 Coffee Lake - 8565U   \n",
       "9  15.490.000₫    4 tháng chính hãng  Intel Core i5 Coffee Lake - 8259U   \n",
       "7  15.490.000₫    3 tháng chính hãng  Intel Core i5 Coffee Lake - 8259U   \n",
       "6  15.490.000₫  2.5 tháng chính hãng  Intel Core i5 Coffee Lake - 8259U   \n",
       "\n",
       "  Ram_size               Ram_type  \\\n",
       "4     8 GB  DDR4 (Onboard +1 khe)   \n",
       "8    16 GB         DDR4 (Onboard)   \n",
       "2    16 GB         DDR3 (Onboard)   \n",
       "1     8 GB         DDR4 (Onboard)   \n",
       "5    16 GB         DDR4 (Onboard)   \n",
       "3     4 GB                  DDR3L   \n",
       "0     8 GB         DDR4 (Onboard)   \n",
       "9    16 GB         DDR4 (Onboard)   \n",
       "7    16 GB         DDR4 (Onboard)   \n",
       "6    16 GB         DDR4 (Onboard)   \n",
       "\n",
       "                                          Hard_Drive     screen  \\\n",
       "4     Hỗ trợ khe cắm HDD SATA\\n256 GB SSD M.2 SATA 3  15.6 inch   \n",
       "8  512 GB SSD\\nHỗ trợ khe cắm SSD M.2 SATA3 (nâng...    14 inch   \n",
       "2                               512 GB SSD NVMe PCIe    14 inch   \n",
       "1                               256 GB SSD NVMe PCIe    14 inch   \n",
       "5  512 GB SSD\\nHỗ trợ khe cắm SSD M.2 SATA3 (nâng...    14 inch   \n",
       "3                                 128 GB SSD M2 PCIe    12 inch   \n",
       "0                               256 GB SSD NVMe PCIe    14 inch   \n",
       "9  512 GB SSD\\nHỗ trợ khe cắm SSD M.2 SATA3 (nâng...    14 inch   \n",
       "7  512 GB SSD\\nHỗ trợ khe cắm SSD M.2 SATA3 (nâng...    14 inch   \n",
       "6  512 GB SSD\\nHỗ trợ khe cắm SSD M.2 SATA3 (nâng...    14 inch   \n",
       "\n",
       "              resolution                                      graphics  \\\n",
       "4  Full HD (1920 x 1080)        Card tích hợp - Intel UHD Graphics 620   \n",
       "8       2.2K (2240x1400)  Card tích hợp - Intel Iris Plus Graphics 655   \n",
       "2  Full HD (1920 x 1080)        Card tích hợp - Intel UHD Graphics 615   \n",
       "1  Full HD (1920 x 1080)        Card tích hợp - Intel UHD Graphics 620   \n",
       "5       2.2K (2240x1400)  Card tích hợp - Intel Iris Plus Graphics 655   \n",
       "3       2K (2160 x 1440)        Card tích hợp - Intel UHD Graphics 620   \n",
       "0  Full HD (1920 x 1080)        Card tích hợp - Intel UHD Graphics 620   \n",
       "9       2.2K (2240x1400)  Card tích hợp - Intel Iris Plus Graphics 655   \n",
       "7       2.2K (2240x1400)  Card tích hợp - Intel Iris Plus Graphics 655   \n",
       "6       2.2K (2240x1400)  Card tích hợp - Intel Iris Plus Graphics 655   \n",
       "\n",
       "                                         size_weight      material  \\\n",
       "4  Dài Dài 359 mm - Rộng Rộng 243 mm - Dày Dày 16...   Vỏ kim loại   \n",
       "8  Dài 310 mm - Rộng 229.5 mm - Dày 20.6 mm - Nặn...   Vỏ kim loại   \n",
       "2  Dài Dài 317.9 mm - Rộng Rộng 191.5 - Dày Dày 9...  Nhôm - Magie   \n",
       "1  Dài 329 mm - Rộng 228 mm - Dày 14.9 mm - Nặng ...  Nhôm - Magie   \n",
       "5  Dài 310 mm - Rộng 229.5 mm - Dày 20.6 mm - Nặn...   Vỏ kim loại   \n",
       "3  Dài Dài 292.9 mm - Rộng Rộng 201.8 mm - Dày Dà...   Vỏ kim loại   \n",
       "0  Dài 329 mm - Rộng 228 mm - Dày 14.9 mm - Nặng ...  Nhôm - Magie   \n",
       "9  Dài 310 mm - Rộng 229.5 mm - Dày 20.6 mm - Nặn...   Vỏ kim loại   \n",
       "7  Dài 310 mm - Rộng 229.5 mm - Dày 20.6 mm - Nặn...   Vỏ kim loại   \n",
       "6  Dài 310 mm - Rộng 229.5 mm - Dày 20.6 mm - Nặn...   Vỏ kim loại   \n",
       "\n",
       "                   os  year            battery  \n",
       "4  Windows 10 Home SL  2018  Li-Polymer, 80 Wh  \n",
       "8  Windows 10 Home SL  2021            46.2 Wh  \n",
       "2  Windows 10 Home SL  2019      3-cell Li-ion  \n",
       "1  Windows 10 Home SL  2018  2-cell Li-Polymer  \n",
       "5  Windows 10 Home SL  2021            46.2 Wh  \n",
       "3  Windows 10 Home SL  2019      2-cell Li-ion  \n",
       "0  Windows 10 Home SL  2018  2-cell Li-Polymer  \n",
       "9  Windows 10 Home SL  2021            46.2 Wh  \n",
       "7  Windows 10 Home SL  2021            46.2 Wh  \n",
       "6  Windows 10 Home SL  2021            46.2 Wh  "
      ]
     },
     "execution_count": 39,
     "metadata": {},
     "output_type": "execute_result"
    }
   ],
   "source": [
    "df.sample(10)"
   ]
  },
  {
   "cell_type": "code",
   "execution_count": 55,
   "id": "ff84c62d",
   "metadata": {},
   "outputs": [
    {
     "name": "stdout",
     "output_type": "stream",
     "text": [
      "<class 'pandas.core.frame.DataFrame'>\n",
      "RangeIndex: 10 entries, 0 to 9\n",
      "Data columns (total 16 columns):\n",
      " #   Column       Non-Null Count  Dtype \n",
      "---  ------       --------------  ----- \n",
      " 0   name         10 non-null     object\n",
      " 1   price_old    10 non-null     object\n",
      " 2   price_new    10 non-null     object\n",
      " 3   warranty     10 non-null     object\n",
      " 4   CPU          10 non-null     object\n",
      " 5   Ram_size     10 non-null     object\n",
      " 6   Ram_type     10 non-null     object\n",
      " 7   Hard_Drive   10 non-null     object\n",
      " 8   screen       10 non-null     object\n",
      " 9   resolution   10 non-null     object\n",
      " 10  graphics     10 non-null     object\n",
      " 11  size_weight  10 non-null     object\n",
      " 12  material     10 non-null     object\n",
      " 13  os           10 non-null     object\n",
      " 14  year         10 non-null     int64 \n",
      " 15  battery      10 non-null     object\n",
      "dtypes: int64(1), object(15)\n",
      "memory usage: 1.4+ KB\n"
     ]
    }
   ],
   "source": [
    "df.info()"
   ]
  },
  {
   "cell_type": "code",
   "execution_count": 56,
   "id": "373f2c1b",
   "metadata": {},
   "outputs": [
    {
     "data": {
      "application/vnd.microsoft.datawrangler.viewer.v0+json": {
       "columns": [
        {
         "name": "index",
         "rawType": "object",
         "type": "string"
        },
        {
         "name": "year",
         "rawType": "float64",
         "type": "float"
        }
       ],
       "conversionMethod": "pd.DataFrame",
       "ref": "ce42cacc-76c1-4d1d-9612-3e6997649004",
       "rows": [
        [
         "count",
         "10.0"
        ],
        [
         "mean",
         "2019.7"
        ],
        [
         "std",
         "1.4181364924121764"
        ],
        [
         "min",
         "2018.0"
        ],
        [
         "25%",
         "2018.25"
        ],
        [
         "50%",
         "2020.0"
        ],
        [
         "75%",
         "2021.0"
        ],
        [
         "max",
         "2021.0"
        ]
       ],
       "shape": {
        "columns": 1,
        "rows": 8
       }
      },
      "text/html": [
       "<div>\n",
       "<style scoped>\n",
       "    .dataframe tbody tr th:only-of-type {\n",
       "        vertical-align: middle;\n",
       "    }\n",
       "\n",
       "    .dataframe tbody tr th {\n",
       "        vertical-align: top;\n",
       "    }\n",
       "\n",
       "    .dataframe thead th {\n",
       "        text-align: right;\n",
       "    }\n",
       "</style>\n",
       "<table border=\"1\" class=\"dataframe\">\n",
       "  <thead>\n",
       "    <tr style=\"text-align: right;\">\n",
       "      <th></th>\n",
       "      <th>year</th>\n",
       "    </tr>\n",
       "  </thead>\n",
       "  <tbody>\n",
       "    <tr>\n",
       "      <th>count</th>\n",
       "      <td>10.000000</td>\n",
       "    </tr>\n",
       "    <tr>\n",
       "      <th>mean</th>\n",
       "      <td>2019.700000</td>\n",
       "    </tr>\n",
       "    <tr>\n",
       "      <th>std</th>\n",
       "      <td>1.418136</td>\n",
       "    </tr>\n",
       "    <tr>\n",
       "      <th>min</th>\n",
       "      <td>2018.000000</td>\n",
       "    </tr>\n",
       "    <tr>\n",
       "      <th>25%</th>\n",
       "      <td>2018.250000</td>\n",
       "    </tr>\n",
       "    <tr>\n",
       "      <th>50%</th>\n",
       "      <td>2020.000000</td>\n",
       "    </tr>\n",
       "    <tr>\n",
       "      <th>75%</th>\n",
       "      <td>2021.000000</td>\n",
       "    </tr>\n",
       "    <tr>\n",
       "      <th>max</th>\n",
       "      <td>2021.000000</td>\n",
       "    </tr>\n",
       "  </tbody>\n",
       "</table>\n",
       "</div>"
      ],
      "text/plain": [
       "              year\n",
       "count    10.000000\n",
       "mean   2019.700000\n",
       "std       1.418136\n",
       "min    2018.000000\n",
       "25%    2018.250000\n",
       "50%    2020.000000\n",
       "75%    2021.000000\n",
       "max    2021.000000"
      ]
     },
     "execution_count": 56,
     "metadata": {},
     "output_type": "execute_result"
    }
   ],
   "source": [
    "df.describe()"
   ]
  },
  {
   "cell_type": "markdown",
   "id": "b5bd116c",
   "metadata": {},
   "source": [
    "### Tạo và chọn từng data"
   ]
  },
  {
   "cell_type": "code",
   "execution_count": 113,
   "id": "bdf3efa0",
   "metadata": {},
   "outputs": [
    {
     "data": {
      "text/plain": [
       "mango         30\n",
       "apple          6\n",
       "pineapple    yes\n",
       "orange        no\n",
       "dtype: object"
      ]
     },
     "execution_count": 113,
     "metadata": {},
     "output_type": "execute_result"
    }
   ],
   "source": [
    "# tạo series bằng pandas\n",
    "fruit_df = pd.Series(data=[30, 6, 'yes', 'no'],\n",
    "                     index=['mango', 'apple', 'pineapple', 'orange'])\n",
    "fruit_df"
   ]
  },
  {
   "cell_type": "code",
   "execution_count": 61,
   "id": "5d7d074e",
   "metadata": {},
   "outputs": [
    {
     "name": "stdout",
     "output_type": "stream",
     "text": [
      "4\n"
     ]
    }
   ],
   "source": [
    "print(fruit_df.size)"
   ]
  },
  {
   "cell_type": "code",
   "execution_count": 62,
   "id": "892d309a",
   "metadata": {},
   "outputs": [
    {
     "data": {
      "text/plain": [
       "0    Laptop Acer Swift 5 SF514 53T 740R i7 8565U/8G...\n",
       "1    Laptop Acer Swift 5 SF514 53T 51EX i5 8265U/8G...\n",
       "2    Laptop Acer Swift 7 SF714 52T 76C6 i7 8500Y/16...\n",
       "3    Laptop Acer Switch 5 SW512 52P 34RS i3 7130U/4...\n",
       "4    Laptop Acer Swift 3 SF315 52 50T9 i5 8250U/8GB...\n",
       "5    Laptop CHUWI CoreBook X i5 8259U/16GB/512GB/Win10\n",
       "6    Laptop CHUWI CoreBook X i5 8259U/16GB/512GB/Win10\n",
       "7    Laptop CHUWI CoreBook X i5 8259U/16GB/512GB/Win10\n",
       "8    Laptop CHUWI CoreBook X i5 8259U/16GB/512GB/Win10\n",
       "9    Laptop CHUWI CoreBook X i5 8259U/16GB/512GB/Win10\n",
       "Name: name, dtype: object"
      ]
     },
     "execution_count": 62,
     "metadata": {},
     "output_type": "execute_result"
    }
   ],
   "source": [
    "# truy cập 1 chỉ mục\n",
    "df['name']"
   ]
  },
  {
   "cell_type": "code",
   "execution_count": 63,
   "id": "913f957b",
   "metadata": {},
   "outputs": [
    {
     "data": {
      "application/vnd.microsoft.datawrangler.viewer.v0+json": {
       "columns": [
        {
         "name": "index",
         "rawType": "int64",
         "type": "integer"
        },
        {
         "name": "name",
         "rawType": "object",
         "type": "string"
        },
        {
         "name": "CPU",
         "rawType": "object",
         "type": "string"
        }
       ],
       "conversionMethod": "pd.DataFrame",
       "ref": "79bc1f43-9467-41df-94f9-7dd0af3ad06c",
       "rows": [
        [
         "0",
         "Laptop Acer Swift 5 SF514 53T 740R i7 8565U/8GB/256GB/Touch/Win10 (NX.H7KSV.002)",
         "Intel Core i7 Coffee Lake - 8565U"
        ],
        [
         "1",
         "Laptop Acer Swift 5 SF514 53T 51EX i5 8265U/8GB/256GB/Touch/Win10 (NX.H7KSV.001)",
         "Intel Core i5 Coffee Lake - 8265U"
        ],
        [
         "2",
         "Laptop Acer Swift 7 SF714 52T 76C6 i7 8500Y/16GB/512GB/Touch/Túi/Win10 (NX.H98SV.001)",
         "Intel Core i7 Coffee Lake - 8500Y"
        ],
        [
         "3",
         "Laptop Acer Switch 5 SW512 52P 34RS i3 7130U/4GB/128GB/Touch/Pen/Win10 (NT.LDTSV.004)",
         "Intel Core i3 Kabylake - 7130U"
        ],
        [
         "4",
         "Laptop Acer Swift 3 SF315 52 50T9 i5 8250U/8GB/256GB/Win10 (NX.GZBSV.002)",
         "Intel Core i5 Coffee Lake - 8250U"
        ],
        [
         "5",
         "Laptop CHUWI CoreBook X i5 8259U/16GB/512GB/Win10",
         "Intel Core i5 Coffee Lake - 8259U"
        ],
        [
         "6",
         "Laptop CHUWI CoreBook X i5 8259U/16GB/512GB/Win10",
         "Intel Core i5 Coffee Lake - 8259U"
        ],
        [
         "7",
         "Laptop CHUWI CoreBook X i5 8259U/16GB/512GB/Win10",
         "Intel Core i5 Coffee Lake - 8259U"
        ],
        [
         "8",
         "Laptop CHUWI CoreBook X i5 8259U/16GB/512GB/Win10",
         "Intel Core i5 Coffee Lake - 8259U"
        ],
        [
         "9",
         "Laptop CHUWI CoreBook X i5 8259U/16GB/512GB/Win10",
         "Intel Core i5 Coffee Lake - 8259U"
        ]
       ],
       "shape": {
        "columns": 2,
        "rows": 10
       }
      },
      "text/html": [
       "<div>\n",
       "<style scoped>\n",
       "    .dataframe tbody tr th:only-of-type {\n",
       "        vertical-align: middle;\n",
       "    }\n",
       "\n",
       "    .dataframe tbody tr th {\n",
       "        vertical-align: top;\n",
       "    }\n",
       "\n",
       "    .dataframe thead th {\n",
       "        text-align: right;\n",
       "    }\n",
       "</style>\n",
       "<table border=\"1\" class=\"dataframe\">\n",
       "  <thead>\n",
       "    <tr style=\"text-align: right;\">\n",
       "      <th></th>\n",
       "      <th>name</th>\n",
       "      <th>CPU</th>\n",
       "    </tr>\n",
       "  </thead>\n",
       "  <tbody>\n",
       "    <tr>\n",
       "      <th>0</th>\n",
       "      <td>Laptop Acer Swift 5 SF514 53T 740R i7 8565U/8G...</td>\n",
       "      <td>Intel Core i7 Coffee Lake - 8565U</td>\n",
       "    </tr>\n",
       "    <tr>\n",
       "      <th>1</th>\n",
       "      <td>Laptop Acer Swift 5 SF514 53T 51EX i5 8265U/8G...</td>\n",
       "      <td>Intel Core i5 Coffee Lake - 8265U</td>\n",
       "    </tr>\n",
       "    <tr>\n",
       "      <th>2</th>\n",
       "      <td>Laptop Acer Swift 7 SF714 52T 76C6 i7 8500Y/16...</td>\n",
       "      <td>Intel Core i7 Coffee Lake - 8500Y</td>\n",
       "    </tr>\n",
       "    <tr>\n",
       "      <th>3</th>\n",
       "      <td>Laptop Acer Switch 5 SW512 52P 34RS i3 7130U/4...</td>\n",
       "      <td>Intel Core i3 Kabylake - 7130U</td>\n",
       "    </tr>\n",
       "    <tr>\n",
       "      <th>4</th>\n",
       "      <td>Laptop Acer Swift 3 SF315 52 50T9 i5 8250U/8GB...</td>\n",
       "      <td>Intel Core i5 Coffee Lake - 8250U</td>\n",
       "    </tr>\n",
       "    <tr>\n",
       "      <th>5</th>\n",
       "      <td>Laptop CHUWI CoreBook X i5 8259U/16GB/512GB/Win10</td>\n",
       "      <td>Intel Core i5 Coffee Lake - 8259U</td>\n",
       "    </tr>\n",
       "    <tr>\n",
       "      <th>6</th>\n",
       "      <td>Laptop CHUWI CoreBook X i5 8259U/16GB/512GB/Win10</td>\n",
       "      <td>Intel Core i5 Coffee Lake - 8259U</td>\n",
       "    </tr>\n",
       "    <tr>\n",
       "      <th>7</th>\n",
       "      <td>Laptop CHUWI CoreBook X i5 8259U/16GB/512GB/Win10</td>\n",
       "      <td>Intel Core i5 Coffee Lake - 8259U</td>\n",
       "    </tr>\n",
       "    <tr>\n",
       "      <th>8</th>\n",
       "      <td>Laptop CHUWI CoreBook X i5 8259U/16GB/512GB/Win10</td>\n",
       "      <td>Intel Core i5 Coffee Lake - 8259U</td>\n",
       "    </tr>\n",
       "    <tr>\n",
       "      <th>9</th>\n",
       "      <td>Laptop CHUWI CoreBook X i5 8259U/16GB/512GB/Win10</td>\n",
       "      <td>Intel Core i5 Coffee Lake - 8259U</td>\n",
       "    </tr>\n",
       "  </tbody>\n",
       "</table>\n",
       "</div>"
      ],
      "text/plain": [
       "                                                name  \\\n",
       "0  Laptop Acer Swift 5 SF514 53T 740R i7 8565U/8G...   \n",
       "1  Laptop Acer Swift 5 SF514 53T 51EX i5 8265U/8G...   \n",
       "2  Laptop Acer Swift 7 SF714 52T 76C6 i7 8500Y/16...   \n",
       "3  Laptop Acer Switch 5 SW512 52P 34RS i3 7130U/4...   \n",
       "4  Laptop Acer Swift 3 SF315 52 50T9 i5 8250U/8GB...   \n",
       "5  Laptop CHUWI CoreBook X i5 8259U/16GB/512GB/Win10   \n",
       "6  Laptop CHUWI CoreBook X i5 8259U/16GB/512GB/Win10   \n",
       "7  Laptop CHUWI CoreBook X i5 8259U/16GB/512GB/Win10   \n",
       "8  Laptop CHUWI CoreBook X i5 8259U/16GB/512GB/Win10   \n",
       "9  Laptop CHUWI CoreBook X i5 8259U/16GB/512GB/Win10   \n",
       "\n",
       "                                 CPU  \n",
       "0  Intel Core i7 Coffee Lake - 8565U  \n",
       "1  Intel Core i5 Coffee Lake - 8265U  \n",
       "2  Intel Core i7 Coffee Lake - 8500Y  \n",
       "3     Intel Core i3 Kabylake - 7130U  \n",
       "4  Intel Core i5 Coffee Lake - 8250U  \n",
       "5  Intel Core i5 Coffee Lake - 8259U  \n",
       "6  Intel Core i5 Coffee Lake - 8259U  \n",
       "7  Intel Core i5 Coffee Lake - 8259U  \n",
       "8  Intel Core i5 Coffee Lake - 8259U  \n",
       "9  Intel Core i5 Coffee Lake - 8259U  "
      ]
     },
     "execution_count": 63,
     "metadata": {},
     "output_type": "execute_result"
    }
   ],
   "source": [
    "# truy cập nhiều chỉ mục\n",
    "df[['name', 'CPU']]"
   ]
  },
  {
   "cell_type": "code",
   "execution_count": null,
   "id": "e974e9cd",
   "metadata": {},
   "outputs": [
    {
     "data": {
      "text/plain": [
       "pineapple    yes\n",
       "orange        no\n",
       "dtype: object"
      ]
     },
     "execution_count": 82,
     "metadata": {},
     "output_type": "execute_result"
    }
   ],
   "source": [
    "# dùng loc[]->lấy theo hàng bằng nhãn\n",
    "fruit_df.loc[['pineapple', 'orange']]"
   ]
  },
  {
   "cell_type": "code",
   "execution_count": 100,
   "id": "23f863d6",
   "metadata": {},
   "outputs": [
    {
     "data": {
      "application/vnd.microsoft.datawrangler.viewer.v0+json": {
       "columns": [
        {
         "name": "index",
         "rawType": "int64",
         "type": "integer"
        },
        {
         "name": "warranty",
         "rawType": "object",
         "type": "string"
        },
        {
         "name": "CPU",
         "rawType": "object",
         "type": "string"
        }
       ],
       "conversionMethod": "pd.DataFrame",
       "ref": "9e926b16-8994-47f0-a490-32aecd8d3522",
       "rows": [
        [
         "0",
         "1 tháng tại TGDĐ",
         "Intel Core i7 Coffee Lake - 8565U"
        ],
        [
         "1",
         "1 tháng tại TGDĐ",
         "Intel Core i5 Coffee Lake - 8265U"
        ],
        [
         "2",
         "1 tháng tại TGDĐ",
         "Intel Core i7 Coffee Lake - 8500Y"
        ],
        [
         "3",
         "1 tháng tại TGDĐ",
         "Intel Core i3 Kabylake - 7130U"
        ],
        [
         "4",
         "1 tháng tại TGDĐ",
         "Intel Core i5 Coffee Lake - 8250U"
        ],
        [
         "5",
         "1 tháng tại TGDĐ",
         "Intel Core i5 Coffee Lake - 8259U"
        ],
        [
         "6",
         "2.5 tháng chính hãng",
         "Intel Core i5 Coffee Lake - 8259U"
        ],
        [
         "7",
         "3 tháng chính hãng",
         "Intel Core i5 Coffee Lake - 8259U"
        ],
        [
         "8",
         "3.5 tháng chính hãng",
         "Intel Core i5 Coffee Lake - 8259U"
        ]
       ],
       "shape": {
        "columns": 2,
        "rows": 9
       }
      },
      "text/html": [
       "<div>\n",
       "<style scoped>\n",
       "    .dataframe tbody tr th:only-of-type {\n",
       "        vertical-align: middle;\n",
       "    }\n",
       "\n",
       "    .dataframe tbody tr th {\n",
       "        vertical-align: top;\n",
       "    }\n",
       "\n",
       "    .dataframe thead th {\n",
       "        text-align: right;\n",
       "    }\n",
       "</style>\n",
       "<table border=\"1\" class=\"dataframe\">\n",
       "  <thead>\n",
       "    <tr style=\"text-align: right;\">\n",
       "      <th></th>\n",
       "      <th>warranty</th>\n",
       "      <th>CPU</th>\n",
       "    </tr>\n",
       "  </thead>\n",
       "  <tbody>\n",
       "    <tr>\n",
       "      <th>0</th>\n",
       "      <td>1 tháng tại TGDĐ</td>\n",
       "      <td>Intel Core i7 Coffee Lake - 8565U</td>\n",
       "    </tr>\n",
       "    <tr>\n",
       "      <th>1</th>\n",
       "      <td>1 tháng tại TGDĐ</td>\n",
       "      <td>Intel Core i5 Coffee Lake - 8265U</td>\n",
       "    </tr>\n",
       "    <tr>\n",
       "      <th>2</th>\n",
       "      <td>1 tháng tại TGDĐ</td>\n",
       "      <td>Intel Core i7 Coffee Lake - 8500Y</td>\n",
       "    </tr>\n",
       "    <tr>\n",
       "      <th>3</th>\n",
       "      <td>1 tháng tại TGDĐ</td>\n",
       "      <td>Intel Core i3 Kabylake - 7130U</td>\n",
       "    </tr>\n",
       "    <tr>\n",
       "      <th>4</th>\n",
       "      <td>1 tháng tại TGDĐ</td>\n",
       "      <td>Intel Core i5 Coffee Lake - 8250U</td>\n",
       "    </tr>\n",
       "    <tr>\n",
       "      <th>5</th>\n",
       "      <td>1 tháng tại TGDĐ</td>\n",
       "      <td>Intel Core i5 Coffee Lake - 8259U</td>\n",
       "    </tr>\n",
       "    <tr>\n",
       "      <th>6</th>\n",
       "      <td>2.5 tháng chính hãng</td>\n",
       "      <td>Intel Core i5 Coffee Lake - 8259U</td>\n",
       "    </tr>\n",
       "    <tr>\n",
       "      <th>7</th>\n",
       "      <td>3 tháng chính hãng</td>\n",
       "      <td>Intel Core i5 Coffee Lake - 8259U</td>\n",
       "    </tr>\n",
       "    <tr>\n",
       "      <th>8</th>\n",
       "      <td>3.5 tháng chính hãng</td>\n",
       "      <td>Intel Core i5 Coffee Lake - 8259U</td>\n",
       "    </tr>\n",
       "  </tbody>\n",
       "</table>\n",
       "</div>"
      ],
      "text/plain": [
       "               warranty                                CPU\n",
       "0      1 tháng tại TGDĐ  Intel Core i7 Coffee Lake - 8565U\n",
       "1      1 tháng tại TGDĐ  Intel Core i5 Coffee Lake - 8265U\n",
       "2      1 tháng tại TGDĐ  Intel Core i7 Coffee Lake - 8500Y\n",
       "3      1 tháng tại TGDĐ     Intel Core i3 Kabylake - 7130U\n",
       "4      1 tháng tại TGDĐ  Intel Core i5 Coffee Lake - 8250U\n",
       "5      1 tháng tại TGDĐ  Intel Core i5 Coffee Lake - 8259U\n",
       "6  2.5 tháng chính hãng  Intel Core i5 Coffee Lake - 8259U\n",
       "7    3 tháng chính hãng  Intel Core i5 Coffee Lake - 8259U\n",
       "8  3.5 tháng chính hãng  Intel Core i5 Coffee Lake - 8259U"
      ]
     },
     "execution_count": 100,
     "metadata": {},
     "output_type": "execute_result"
    }
   ],
   "source": [
    "# iloc -> lấy theo hàng bằng chỉ số\n",
    "df.iloc[[x for x in range(9)], [3, 4]]"
   ]
  },
  {
   "cell_type": "code",
   "execution_count": null,
   "id": "348f9be2",
   "metadata": {},
   "outputs": [
    {
     "data": {
      "application/vnd.microsoft.datawrangler.viewer.v0+json": {
       "columns": [
        {
         "name": "index",
         "rawType": "int64",
         "type": "integer"
        },
        {
         "name": "name",
         "rawType": "object",
         "type": "string"
        },
        {
         "name": "price_old",
         "rawType": "object",
         "type": "string"
        },
        {
         "name": "price_new",
         "rawType": "object",
         "type": "string"
        },
        {
         "name": "warranty",
         "rawType": "object",
         "type": "string"
        },
        {
         "name": "CPU",
         "rawType": "object",
         "type": "string"
        },
        {
         "name": "Ram_size",
         "rawType": "object",
         "type": "string"
        },
        {
         "name": "Ram_type",
         "rawType": "object",
         "type": "string"
        },
        {
         "name": "Hard_Drive",
         "rawType": "object",
         "type": "string"
        },
        {
         "name": "screen",
         "rawType": "object",
         "type": "string"
        },
        {
         "name": "resolution",
         "rawType": "object",
         "type": "string"
        },
        {
         "name": "graphics",
         "rawType": "object",
         "type": "string"
        },
        {
         "name": "size_weight",
         "rawType": "object",
         "type": "string"
        },
        {
         "name": "material",
         "rawType": "object",
         "type": "string"
        },
        {
         "name": "os",
         "rawType": "object",
         "type": "string"
        },
        {
         "name": "year",
         "rawType": "int64",
         "type": "integer"
        },
        {
         "name": "battery",
         "rawType": "object",
         "type": "string"
        }
       ],
       "conversionMethod": "pd.DataFrame",
       "ref": "8edf0c43-e706-45df-a4b9-39793230e487",
       "rows": [
        [
         "1",
         "Laptop Acer Swift 5 SF514 53T 51EX i5 8265U/8GB/256GB/Touch/Win10 (NX.H7KSV.001)",
         "8.130.000₫",
         "23.990.000₫",
         "1 tháng tại TGDĐ",
         "Intel Core i5 Coffee Lake - 8265U",
         "8 GB",
         "DDR4 (Onboard)",
         "256 GB SSD NVMe PCIe",
         "14 inch",
         "Full HD (1920 x 1080)",
         "Card tích hợp - Intel UHD Graphics 620",
         "Dài 329 mm - Rộng 228 mm - Dày 14.9 mm - Nặng 0.97 kg",
         "Nhôm - Magie",
         "Windows 10 Home SL",
         "2018",
         "2-cell Li-Polymer"
        ],
        [
         "2",
         "Laptop Acer Swift 7 SF714 52T 76C6 i7 8500Y/16GB/512GB/Touch/Túi/Win10 (NX.H98SV.001)",
         "16.940.000₫",
         "49.990.000₫",
         "1 tháng tại TGDĐ",
         "Intel Core i7 Coffee Lake - 8500Y",
         "16 GB",
         "DDR3 (Onboard)",
         "512 GB SSD NVMe PCIe",
         "14 inch",
         "Full HD (1920 x 1080)",
         "Card tích hợp - Intel UHD Graphics 615",
         "Dài Dài 317.9 mm - Rộng Rộng 191.5 - Dày Dày 9.95 mm - Nặng 890 gram",
         "Nhôm - Magie",
         "Windows 10 Home SL",
         "2019",
         "3-cell Li-ion"
        ],
        [
         "3",
         "Laptop Acer Switch 5 SW512 52P 34RS i3 7130U/4GB/128GB/Touch/Pen/Win10 (NT.LDTSV.004)",
         "7.620.000₫",
         "22.490.000₫",
         "1 tháng tại TGDĐ",
         "Intel Core i3 Kabylake - 7130U",
         "4 GB",
         "DDR3L",
         "128 GB SSD M2 PCIe",
         "12 inch",
         "2K (2160 x 1440)",
         "Card tích hợp - Intel UHD Graphics 620",
         "Dài Dài 292.9 mm - Rộng Rộng 201.8 mm - Dày Dày 9.6 mm - Nặng 0.92 kg",
         "Vỏ kim loại",
         "Windows 10 Home SL",
         "2019",
         "2-cell Li-ion"
        ]
       ],
       "shape": {
        "columns": 16,
        "rows": 3
       }
      },
      "text/html": [
       "<div>\n",
       "<style scoped>\n",
       "    .dataframe tbody tr th:only-of-type {\n",
       "        vertical-align: middle;\n",
       "    }\n",
       "\n",
       "    .dataframe tbody tr th {\n",
       "        vertical-align: top;\n",
       "    }\n",
       "\n",
       "    .dataframe thead th {\n",
       "        text-align: right;\n",
       "    }\n",
       "</style>\n",
       "<table border=\"1\" class=\"dataframe\">\n",
       "  <thead>\n",
       "    <tr style=\"text-align: right;\">\n",
       "      <th></th>\n",
       "      <th>name</th>\n",
       "      <th>price_old</th>\n",
       "      <th>price_new</th>\n",
       "      <th>warranty</th>\n",
       "      <th>CPU</th>\n",
       "      <th>Ram_size</th>\n",
       "      <th>Ram_type</th>\n",
       "      <th>Hard_Drive</th>\n",
       "      <th>screen</th>\n",
       "      <th>resolution</th>\n",
       "      <th>graphics</th>\n",
       "      <th>size_weight</th>\n",
       "      <th>material</th>\n",
       "      <th>os</th>\n",
       "      <th>year</th>\n",
       "      <th>battery</th>\n",
       "    </tr>\n",
       "  </thead>\n",
       "  <tbody>\n",
       "    <tr>\n",
       "      <th>1</th>\n",
       "      <td>Laptop Acer Swift 5 SF514 53T 51EX i5 8265U/8G...</td>\n",
       "      <td>8.130.000₫</td>\n",
       "      <td>23.990.000₫</td>\n",
       "      <td>1 tháng tại TGDĐ</td>\n",
       "      <td>Intel Core i5 Coffee Lake - 8265U</td>\n",
       "      <td>8 GB</td>\n",
       "      <td>DDR4 (Onboard)</td>\n",
       "      <td>256 GB SSD NVMe PCIe</td>\n",
       "      <td>14 inch</td>\n",
       "      <td>Full HD (1920 x 1080)</td>\n",
       "      <td>Card tích hợp - Intel UHD Graphics 620</td>\n",
       "      <td>Dài 329 mm - Rộng 228 mm - Dày 14.9 mm - Nặng ...</td>\n",
       "      <td>Nhôm - Magie</td>\n",
       "      <td>Windows 10 Home SL</td>\n",
       "      <td>2018</td>\n",
       "      <td>2-cell Li-Polymer</td>\n",
       "    </tr>\n",
       "    <tr>\n",
       "      <th>2</th>\n",
       "      <td>Laptop Acer Swift 7 SF714 52T 76C6 i7 8500Y/16...</td>\n",
       "      <td>16.940.000₫</td>\n",
       "      <td>49.990.000₫</td>\n",
       "      <td>1 tháng tại TGDĐ</td>\n",
       "      <td>Intel Core i7 Coffee Lake - 8500Y</td>\n",
       "      <td>16 GB</td>\n",
       "      <td>DDR3 (Onboard)</td>\n",
       "      <td>512 GB SSD NVMe PCIe</td>\n",
       "      <td>14 inch</td>\n",
       "      <td>Full HD (1920 x 1080)</td>\n",
       "      <td>Card tích hợp - Intel UHD Graphics 615</td>\n",
       "      <td>Dài Dài 317.9 mm - Rộng Rộng 191.5 - Dày Dày 9...</td>\n",
       "      <td>Nhôm - Magie</td>\n",
       "      <td>Windows 10 Home SL</td>\n",
       "      <td>2019</td>\n",
       "      <td>3-cell Li-ion</td>\n",
       "    </tr>\n",
       "    <tr>\n",
       "      <th>3</th>\n",
       "      <td>Laptop Acer Switch 5 SW512 52P 34RS i3 7130U/4...</td>\n",
       "      <td>7.620.000₫</td>\n",
       "      <td>22.490.000₫</td>\n",
       "      <td>1 tháng tại TGDĐ</td>\n",
       "      <td>Intel Core i3 Kabylake - 7130U</td>\n",
       "      <td>4 GB</td>\n",
       "      <td>DDR3L</td>\n",
       "      <td>128 GB SSD M2 PCIe</td>\n",
       "      <td>12 inch</td>\n",
       "      <td>2K (2160 x 1440)</td>\n",
       "      <td>Card tích hợp - Intel UHD Graphics 620</td>\n",
       "      <td>Dài Dài 292.9 mm - Rộng Rộng 201.8 mm - Dày Dà...</td>\n",
       "      <td>Vỏ kim loại</td>\n",
       "      <td>Windows 10 Home SL</td>\n",
       "      <td>2019</td>\n",
       "      <td>2-cell Li-ion</td>\n",
       "    </tr>\n",
       "  </tbody>\n",
       "</table>\n",
       "</div>"
      ],
      "text/plain": [
       "                                                name    price_old  \\\n",
       "1  Laptop Acer Swift 5 SF514 53T 51EX i5 8265U/8G...   8.130.000₫   \n",
       "2  Laptop Acer Swift 7 SF714 52T 76C6 i7 8500Y/16...  16.940.000₫   \n",
       "3  Laptop Acer Switch 5 SW512 52P 34RS i3 7130U/4...   7.620.000₫   \n",
       "\n",
       "     price_new          warranty                                CPU Ram_size  \\\n",
       "1  23.990.000₫  1 tháng tại TGDĐ  Intel Core i5 Coffee Lake - 8265U     8 GB   \n",
       "2  49.990.000₫  1 tháng tại TGDĐ  Intel Core i7 Coffee Lake - 8500Y    16 GB   \n",
       "3  22.490.000₫  1 tháng tại TGDĐ     Intel Core i3 Kabylake - 7130U     4 GB   \n",
       "\n",
       "         Ram_type            Hard_Drive   screen             resolution  \\\n",
       "1  DDR4 (Onboard)  256 GB SSD NVMe PCIe  14 inch  Full HD (1920 x 1080)   \n",
       "2  DDR3 (Onboard)  512 GB SSD NVMe PCIe  14 inch  Full HD (1920 x 1080)   \n",
       "3           DDR3L    128 GB SSD M2 PCIe  12 inch       2K (2160 x 1440)   \n",
       "\n",
       "                                 graphics  \\\n",
       "1  Card tích hợp - Intel UHD Graphics 620   \n",
       "2  Card tích hợp - Intel UHD Graphics 615   \n",
       "3  Card tích hợp - Intel UHD Graphics 620   \n",
       "\n",
       "                                         size_weight      material  \\\n",
       "1  Dài 329 mm - Rộng 228 mm - Dày 14.9 mm - Nặng ...  Nhôm - Magie   \n",
       "2  Dài Dài 317.9 mm - Rộng Rộng 191.5 - Dày Dày 9...  Nhôm - Magie   \n",
       "3  Dài Dài 292.9 mm - Rộng Rộng 201.8 mm - Dày Dà...   Vỏ kim loại   \n",
       "\n",
       "                   os  year            battery  \n",
       "1  Windows 10 Home SL  2018  2-cell Li-Polymer  \n",
       "2  Windows 10 Home SL  2019      3-cell Li-ion  \n",
       "3  Windows 10 Home SL  2019      2-cell Li-ion  "
      ]
     },
     "execution_count": 101,
     "metadata": {},
     "output_type": "execute_result"
    }
   ],
   "source": [
    "# số hàng bằng [x; y-1]\n",
    "df.iloc[1:4]"
   ]
  },
  {
   "cell_type": "code",
   "execution_count": 104,
   "id": "05e51bff",
   "metadata": {},
   "outputs": [
    {
     "data": {
      "application/vnd.microsoft.datawrangler.viewer.v0+json": {
       "columns": [
        {
         "name": "index",
         "rawType": "int64",
         "type": "integer"
        },
        {
         "name": "Ram_size",
         "rawType": "object",
         "type": "string"
        }
       ],
       "conversionMethod": "pd.DataFrame",
       "ref": "067b5476-014d-4cf5-8e71-62df357fc4ba",
       "rows": [
        [
         "9",
         "16 GB"
        ]
       ],
       "shape": {
        "columns": 1,
        "rows": 1
       }
      },
      "text/html": [
       "<div>\n",
       "<style scoped>\n",
       "    .dataframe tbody tr th:only-of-type {\n",
       "        vertical-align: middle;\n",
       "    }\n",
       "\n",
       "    .dataframe tbody tr th {\n",
       "        vertical-align: top;\n",
       "    }\n",
       "\n",
       "    .dataframe thead th {\n",
       "        text-align: right;\n",
       "    }\n",
       "</style>\n",
       "<table border=\"1\" class=\"dataframe\">\n",
       "  <thead>\n",
       "    <tr style=\"text-align: right;\">\n",
       "      <th></th>\n",
       "      <th>Ram_size</th>\n",
       "    </tr>\n",
       "  </thead>\n",
       "  <tbody>\n",
       "    <tr>\n",
       "      <th>9</th>\n",
       "      <td>16 GB</td>\n",
       "    </tr>\n",
       "  </tbody>\n",
       "</table>\n",
       "</div>"
      ],
      "text/plain": [
       "  Ram_size\n",
       "9    16 GB"
      ]
     },
     "execution_count": 104,
     "metadata": {},
     "output_type": "execute_result"
    }
   ],
   "source": [
    "# hàng cuối, cột thứ 5\n",
    "df.iloc[[-1], [5]]"
   ]
  },
  {
   "cell_type": "code",
   "execution_count": 107,
   "id": "8353a74d",
   "metadata": {},
   "outputs": [
    {
     "data": {
      "text/plain": [
       "mango         30\n",
       "apple        100\n",
       "pineapple    yes\n",
       "orange        no\n",
       "dtype: object"
      ]
     },
     "execution_count": 107,
     "metadata": {},
     "output_type": "execute_result"
    }
   ],
   "source": [
    "fruit_df['apple'] = 100\n",
    "fruit_df"
   ]
  },
  {
   "cell_type": "code",
   "execution_count": null,
   "id": "f6af2ac8",
   "metadata": {},
   "outputs": [
    {
     "data": {
      "text/plain": [
       "mango         30\n",
       "apple          6\n",
       "pineapple    yes\n",
       "dtype: object"
      ]
     },
     "execution_count": 114,
     "metadata": {},
     "output_type": "execute_result"
    }
   ],
   "source": [
    "# `.pop()` dùng để delete cột\n",
    "# `.drop()` thì cả cột và hàng bằng cách thay đổi chỉ số axis (số 1 là cột, số 0 là hàng)\n",
    "fruit_df.drop('orange', inplace=True)\n",
    "fruit_df"
   ]
  },
  {
   "cell_type": "code",
   "execution_count": null,
   "id": "6c870513",
   "metadata": {},
   "outputs": [
    {
     "name": "stdout",
     "output_type": "stream",
     "text": [
      "mango            60\n",
      "apple            12\n",
      "pineapple    yesyes\n",
      "dtype: object\n"
     ]
    },
    {
     "data": {
      "text/plain": [
       "mango         30\n",
       "apple          6\n",
       "pineapple    yes\n",
       "dtype: object"
      ]
     },
     "execution_count": 118,
     "metadata": {},
     "output_type": "execute_result"
    }
   ],
   "source": [
    "# cộng trừ nhân chia cho toàn bộ phần tử trong pandas -> ảo không bị đổi thật\n",
    "print(fruit_df * 2)\n",
    "fruit_df"
   ]
  },
  {
   "cell_type": "code",
   "execution_count": 124,
   "id": "2668a48f",
   "metadata": {},
   "outputs": [
    {
     "data": {
      "application/vnd.microsoft.datawrangler.viewer.v0+json": {
       "columns": [
        {
         "name": "index",
         "rawType": "int64",
         "type": "integer"
        },
        {
         "name": "store1",
         "rawType": "object",
         "type": "string"
        },
        {
         "name": "store2",
         "rawType": "object",
         "type": "string"
        }
       ],
       "conversionMethod": "pd.DataFrame",
       "ref": "2eff6661-77f6-4b52-bc4a-008c8c60e72d",
       "rows": [
        [
         "0",
         "pants",
         "jeans"
        ],
        [
         "1",
         "socks",
         "glasses"
        ]
       ],
       "shape": {
        "columns": 2,
        "rows": 2
       }
      },
      "text/html": [
       "<div>\n",
       "<style scoped>\n",
       "    .dataframe tbody tr th:only-of-type {\n",
       "        vertical-align: middle;\n",
       "    }\n",
       "\n",
       "    .dataframe tbody tr th {\n",
       "        vertical-align: top;\n",
       "    }\n",
       "\n",
       "    .dataframe thead th {\n",
       "        text-align: right;\n",
       "    }\n",
       "</style>\n",
       "<table border=\"1\" class=\"dataframe\">\n",
       "  <thead>\n",
       "    <tr style=\"text-align: right;\">\n",
       "      <th></th>\n",
       "      <th>store1</th>\n",
       "      <th>store2</th>\n",
       "    </tr>\n",
       "  </thead>\n",
       "  <tbody>\n",
       "    <tr>\n",
       "      <th>0</th>\n",
       "      <td>pants</td>\n",
       "      <td>jeans</td>\n",
       "    </tr>\n",
       "    <tr>\n",
       "      <th>1</th>\n",
       "      <td>socks</td>\n",
       "      <td>glasses</td>\n",
       "    </tr>\n",
       "  </tbody>\n",
       "</table>\n",
       "</div>"
      ],
      "text/plain": [
       "  store1   store2\n",
       "0  pants    jeans\n",
       "1  socks  glasses"
      ]
     },
     "execution_count": 124,
     "metadata": {},
     "output_type": "execute_result"
    }
   ],
   "source": [
    "data = {\n",
    "    'store1':['pants', 'socks'],\n",
    "    'store2':['jeans', 'glasses']\n",
    "}\n",
    "store = pd.DataFrame(data)\n",
    "store"
   ]
  },
  {
   "cell_type": "code",
   "execution_count": 40,
   "id": "d0b8aa7c",
   "metadata": {},
   "outputs": [
    {
     "data": {
      "application/vnd.microsoft.datawrangler.viewer.v0+json": {
       "columns": [
        {
         "name": "index",
         "rawType": "object",
         "type": "string"
        },
        {
         "name": "bikes",
         "rawType": "int64",
         "type": "integer"
        },
        {
         "name": "pants",
         "rawType": "int64",
         "type": "integer"
        },
        {
         "name": "watches",
         "rawType": "int64",
         "type": "integer"
        },
        {
         "name": "shirts",
         "rawType": "float64",
         "type": "float"
        },
        {
         "name": "shoes",
         "rawType": "int64",
         "type": "integer"
        },
        {
         "name": "suits",
         "rawType": "float64",
         "type": "float"
        },
        {
         "name": "glasses",
         "rawType": "float64",
         "type": "float"
        }
       ],
       "conversionMethod": "pd.DataFrame",
       "ref": "5c7cbcd1-965f-4404-b4be-f24dcffd38cb",
       "rows": [
        [
         "store 1",
         "20",
         "30",
         "35",
         "15.0",
         "8",
         "45.0",
         null
        ],
        [
         "store 2",
         "15",
         "5",
         "10",
         "2.0",
         "5",
         "7.0",
         "50.0"
        ],
        [
         "store 3",
         "20",
         "30",
         "35",
         null,
         "10",
         null,
         "4.0"
        ]
       ],
       "shape": {
        "columns": 7,
        "rows": 3
       }
      },
      "text/html": [
       "<div>\n",
       "<style scoped>\n",
       "    .dataframe tbody tr th:only-of-type {\n",
       "        vertical-align: middle;\n",
       "    }\n",
       "\n",
       "    .dataframe tbody tr th {\n",
       "        vertical-align: top;\n",
       "    }\n",
       "\n",
       "    .dataframe thead th {\n",
       "        text-align: right;\n",
       "    }\n",
       "</style>\n",
       "<table border=\"1\" class=\"dataframe\">\n",
       "  <thead>\n",
       "    <tr style=\"text-align: right;\">\n",
       "      <th></th>\n",
       "      <th>bikes</th>\n",
       "      <th>pants</th>\n",
       "      <th>watches</th>\n",
       "      <th>shirts</th>\n",
       "      <th>shoes</th>\n",
       "      <th>suits</th>\n",
       "      <th>glasses</th>\n",
       "    </tr>\n",
       "  </thead>\n",
       "  <tbody>\n",
       "    <tr>\n",
       "      <th>store 1</th>\n",
       "      <td>20</td>\n",
       "      <td>30</td>\n",
       "      <td>35</td>\n",
       "      <td>15.0</td>\n",
       "      <td>8</td>\n",
       "      <td>45.0</td>\n",
       "      <td>NaN</td>\n",
       "    </tr>\n",
       "    <tr>\n",
       "      <th>store 2</th>\n",
       "      <td>15</td>\n",
       "      <td>5</td>\n",
       "      <td>10</td>\n",
       "      <td>2.0</td>\n",
       "      <td>5</td>\n",
       "      <td>7.0</td>\n",
       "      <td>50.0</td>\n",
       "    </tr>\n",
       "    <tr>\n",
       "      <th>store 3</th>\n",
       "      <td>20</td>\n",
       "      <td>30</td>\n",
       "      <td>35</td>\n",
       "      <td>NaN</td>\n",
       "      <td>10</td>\n",
       "      <td>NaN</td>\n",
       "      <td>4.0</td>\n",
       "    </tr>\n",
       "  </tbody>\n",
       "</table>\n",
       "</div>"
      ],
      "text/plain": [
       "         bikes  pants  watches  shirts  shoes  suits  glasses\n",
       "store 1     20     30       35    15.0      8   45.0      NaN\n",
       "store 2     15      5       10     2.0      5    7.0     50.0\n",
       "store 3     20     30       35     NaN     10    NaN      4.0"
      ]
     },
     "execution_count": 40,
     "metadata": {},
     "output_type": "execute_result"
    }
   ],
   "source": [
    "items = [{'bikes': 20, 'pants': 30, 'watches': 35, \n",
    "          'shirts': 15, 'shoes':8, 'suits':45},\n",
    "         {'watches': 10, 'glasses': 50, 'bikes': 15, \n",
    "          'pants':5, 'shirts': 2, 'shoes':5, 'suits':7},\n",
    "         {'bikes': 20, 'pants': 30, 'watches': 35, \n",
    "          'glasses': 4, 'shoes':10}\n",
    "        ]\n",
    "\n",
    "store_items = pd.DataFrame(items, index = ['store 1', 'store 2', 'store 3'])\n",
    "\n",
    "store_items"
   ]
  },
  {
   "cell_type": "markdown",
   "id": "a38ba905",
   "metadata": {},
   "source": [
    "### Unique"
   ]
  },
  {
   "cell_type": "code",
   "execution_count": 131,
   "id": "125093ad",
   "metadata": {},
   "outputs": [
    {
     "data": {
      "text/plain": [
       "array(['8 GB', '16 GB', '4 GB'], dtype=object)"
      ]
     },
     "execution_count": 131,
     "metadata": {},
     "output_type": "execute_result"
    }
   ],
   "source": [
    "df['Ram_size'].unique()"
   ]
  },
  {
   "cell_type": "code",
   "execution_count": 132,
   "id": "04061999",
   "metadata": {},
   "outputs": [
    {
     "data": {
      "text/plain": [
       "3"
      ]
     },
     "execution_count": 132,
     "metadata": {},
     "output_type": "execute_result"
    }
   ],
   "source": [
    "df['Ram_size'].nunique()"
   ]
  },
  {
   "cell_type": "code",
   "execution_count": 133,
   "id": "9ceb4c32",
   "metadata": {},
   "outputs": [
    {
     "data": {
      "text/plain": [
       "CPU\n",
       "Intel Core i5 Coffee Lake - 8259U    5\n",
       "Intel Core i7 Coffee Lake - 8565U    1\n",
       "Intel Core i5 Coffee Lake - 8265U    1\n",
       "Intel Core i7 Coffee Lake - 8500Y    1\n",
       "Intel Core i3 Kabylake - 7130U       1\n",
       "Intel Core i5 Coffee Lake - 8250U    1\n",
       "Name: count, dtype: int64"
      ]
     },
     "execution_count": 133,
     "metadata": {},
     "output_type": "execute_result"
    }
   ],
   "source": [
    "df['CPU'].value_counts()"
   ]
  },
  {
   "cell_type": "markdown",
   "id": "e248bdb5",
   "metadata": {},
   "source": [
    "### Sắp xếp"
   ]
  },
  {
   "cell_type": "code",
   "execution_count": null,
   "id": "05e9670b",
   "metadata": {},
   "outputs": [
    {
     "data": {
      "application/vnd.microsoft.datawrangler.viewer.v0+json": {
       "columns": [
        {
         "name": "index",
         "rawType": "int64",
         "type": "integer"
        },
        {
         "name": "name",
         "rawType": "object",
         "type": "string"
        },
        {
         "name": "price_old",
         "rawType": "object",
         "type": "string"
        },
        {
         "name": "price_new",
         "rawType": "object",
         "type": "string"
        },
        {
         "name": "warranty",
         "rawType": "object",
         "type": "string"
        },
        {
         "name": "CPU",
         "rawType": "object",
         "type": "string"
        },
        {
         "name": "Ram_size",
         "rawType": "object",
         "type": "string"
        },
        {
         "name": "Ram_type",
         "rawType": "object",
         "type": "string"
        },
        {
         "name": "Hard_Drive",
         "rawType": "object",
         "type": "string"
        },
        {
         "name": "screen",
         "rawType": "object",
         "type": "string"
        },
        {
         "name": "resolution",
         "rawType": "object",
         "type": "string"
        },
        {
         "name": "graphics",
         "rawType": "object",
         "type": "string"
        },
        {
         "name": "size_weight",
         "rawType": "object",
         "type": "string"
        },
        {
         "name": "material",
         "rawType": "object",
         "type": "string"
        },
        {
         "name": "os",
         "rawType": "object",
         "type": "string"
        },
        {
         "name": "year",
         "rawType": "int64",
         "type": "integer"
        },
        {
         "name": "battery",
         "rawType": "object",
         "type": "string"
        }
       ],
       "conversionMethod": "pd.DataFrame",
       "ref": "50552987-e2b8-409d-8b65-f91ec8c17abb",
       "rows": [
        [
         "5",
         "Laptop CHUWI CoreBook X i5 8259U/16GB/512GB/Win10",
         "5.580.000₫",
         "15.490.000₫",
         "1 tháng tại TGDĐ",
         "Intel Core i5 Coffee Lake - 8259U",
         "16 GB",
         "DDR4 (Onboard)",
         "512 GB SSD\nHỗ trợ khe cắm SSD M.2 SATA3 (nâng cấp tối đa 1 TB)",
         "14 inch",
         "2.2K (2240x1400)",
         "Card tích hợp - Intel Iris Plus Graphics 655",
         "Dài 310 mm - Rộng 229.5 mm - Dày 20.6 mm - Nặng 1.5 kg",
         "Vỏ kim loại",
         "Windows 10 Home SL",
         "2021",
         "46.2 Wh"
        ],
        [
         "6",
         "Laptop CHUWI CoreBook X i5 8259U/16GB/512GB/Win10",
         "5.680.000₫",
         "15.490.000₫",
         "2.5 tháng chính hãng",
         "Intel Core i5 Coffee Lake - 8259U",
         "16 GB",
         "DDR4 (Onboard)",
         "512 GB SSD\nHỗ trợ khe cắm SSD M.2 SATA3 (nâng cấp tối đa 1 TB)",
         "14 inch",
         "2.2K (2240x1400)",
         "Card tích hợp - Intel Iris Plus Graphics 655",
         "Dài 310 mm - Rộng 229.5 mm - Dày 20.6 mm - Nặng 1.5 kg",
         "Vỏ kim loại",
         "Windows 10 Home SL",
         "2021",
         "46.2 Wh"
        ],
        [
         "7",
         "Laptop CHUWI CoreBook X i5 8259U/16GB/512GB/Win10",
         "5.710.000₫",
         "15.490.000₫",
         "3 tháng chính hãng",
         "Intel Core i5 Coffee Lake - 8259U",
         "16 GB",
         "DDR4 (Onboard)",
         "512 GB SSD\nHỗ trợ khe cắm SSD M.2 SATA3 (nâng cấp tối đa 1 TB)",
         "14 inch",
         "2.2K (2240x1400)",
         "Card tích hợp - Intel Iris Plus Graphics 655",
         "Dài 310 mm - Rộng 229.5 mm - Dày 20.6 mm - Nặng 1.5 kg",
         "Vỏ kim loại",
         "Windows 10 Home SL",
         "2021",
         "46.2 Wh"
        ],
        [
         "8",
         "Laptop CHUWI CoreBook X i5 8259U/16GB/512GB/Win10",
         "5.740.000₫",
         "15.490.000₫",
         "3.5 tháng chính hãng",
         "Intel Core i5 Coffee Lake - 8259U",
         "16 GB",
         "DDR4 (Onboard)",
         "512 GB SSD\nHỗ trợ khe cắm SSD M.2 SATA3 (nâng cấp tối đa 1 TB)",
         "14 inch",
         "2.2K (2240x1400)",
         "Card tích hợp - Intel Iris Plus Graphics 655",
         "Dài 310 mm - Rộng 229.5 mm - Dày 20.6 mm - Nặng 1.5 kg",
         "Vỏ kim loại",
         "Windows 10 Home SL",
         "2021",
         "46.2 Wh"
        ],
        [
         "9",
         "Laptop CHUWI CoreBook X i5 8259U/16GB/512GB/Win10",
         "5.770.000₫",
         "15.490.000₫",
         "4 tháng chính hãng",
         "Intel Core i5 Coffee Lake - 8259U",
         "16 GB",
         "DDR4 (Onboard)",
         "512 GB SSD\nHỗ trợ khe cắm SSD M.2 SATA3 (nâng cấp tối đa 1 TB)",
         "14 inch",
         "2.2K (2240x1400)",
         "Card tích hợp - Intel Iris Plus Graphics 655",
         "Dài 310 mm - Rộng 229.5 mm - Dày 20.6 mm - Nặng 1.5 kg",
         "Vỏ kim loại",
         "Windows 10 Home SL",
         "2021",
         "46.2 Wh"
        ],
        [
         "4",
         "Laptop Acer Swift 3 SF315 52 50T9 i5 8250U/8GB/256GB/Win10 (NX.GZBSV.002)",
         "5.760.000₫",
         "16.990.000₫",
         "1 tháng tại TGDĐ",
         "Intel Core i5 Coffee Lake - 8250U",
         "8 GB",
         "DDR4 (Onboard +1 khe)",
         "Hỗ trợ khe cắm HDD SATA\n256 GB SSD M.2 SATA 3",
         "15.6 inch",
         "Full HD (1920 x 1080)",
         "Card tích hợp - Intel UHD Graphics 620",
         "Dài Dài 359 mm - Rộng Rộng 243 mm - Dày Dày 16.9 mm - Nặng 1.7 kg",
         "Vỏ kim loại",
         "Windows 10 Home SL",
         "2018",
         "Li-Polymer, 80 Wh"
        ],
        [
         "3",
         "Laptop Acer Switch 5 SW512 52P 34RS i3 7130U/4GB/128GB/Touch/Pen/Win10 (NT.LDTSV.004)",
         "7.620.000₫",
         "22.490.000₫",
         "1 tháng tại TGDĐ",
         "Intel Core i3 Kabylake - 7130U",
         "4 GB",
         "DDR3L",
         "128 GB SSD M2 PCIe",
         "12 inch",
         "2K (2160 x 1440)",
         "Card tích hợp - Intel UHD Graphics 620",
         "Dài Dài 292.9 mm - Rộng Rộng 201.8 mm - Dày Dày 9.6 mm - Nặng 0.92 kg",
         "Vỏ kim loại",
         "Windows 10 Home SL",
         "2019",
         "2-cell Li-ion"
        ],
        [
         "1",
         "Laptop Acer Swift 5 SF514 53T 51EX i5 8265U/8GB/256GB/Touch/Win10 (NX.H7KSV.001)",
         "8.130.000₫",
         "23.990.000₫",
         "1 tháng tại TGDĐ",
         "Intel Core i5 Coffee Lake - 8265U",
         "8 GB",
         "DDR4 (Onboard)",
         "256 GB SSD NVMe PCIe",
         "14 inch",
         "Full HD (1920 x 1080)",
         "Card tích hợp - Intel UHD Graphics 620",
         "Dài 329 mm - Rộng 228 mm - Dày 14.9 mm - Nặng 0.97 kg",
         "Nhôm - Magie",
         "Windows 10 Home SL",
         "2018",
         "2-cell Li-Polymer"
        ],
        [
         "0",
         "Laptop Acer Swift 5 SF514 53T 740R i7 8565U/8GB/256GB/Touch/Win10 (NX.H7KSV.002)",
         "9.480.000₫",
         "27.990.000₫",
         "1 tháng tại TGDĐ",
         "Intel Core i7 Coffee Lake - 8565U",
         "8 GB",
         "DDR4 (Onboard)",
         "256 GB SSD NVMe PCIe",
         "14 inch",
         "Full HD (1920 x 1080)",
         "Card tích hợp - Intel UHD Graphics 620",
         "Dài 329 mm - Rộng 228 mm - Dày 14.9 mm - Nặng 0.94 kg",
         "Nhôm - Magie",
         "Windows 10 Home SL",
         "2018",
         "2-cell Li-Polymer"
        ],
        [
         "2",
         "Laptop Acer Swift 7 SF714 52T 76C6 i7 8500Y/16GB/512GB/Touch/Túi/Win10 (NX.H98SV.001)",
         "16.940.000₫",
         "49.990.000₫",
         "1 tháng tại TGDĐ",
         "Intel Core i7 Coffee Lake - 8500Y",
         "16 GB",
         "DDR3 (Onboard)",
         "512 GB SSD NVMe PCIe",
         "14 inch",
         "Full HD (1920 x 1080)",
         "Card tích hợp - Intel UHD Graphics 615",
         "Dài Dài 317.9 mm - Rộng Rộng 191.5 - Dày Dày 9.95 mm - Nặng 890 gram",
         "Nhôm - Magie",
         "Windows 10 Home SL",
         "2019",
         "3-cell Li-ion"
        ]
       ],
       "shape": {
        "columns": 16,
        "rows": 10
       }
      },
      "text/html": [
       "<div>\n",
       "<style scoped>\n",
       "    .dataframe tbody tr th:only-of-type {\n",
       "        vertical-align: middle;\n",
       "    }\n",
       "\n",
       "    .dataframe tbody tr th {\n",
       "        vertical-align: top;\n",
       "    }\n",
       "\n",
       "    .dataframe thead th {\n",
       "        text-align: right;\n",
       "    }\n",
       "</style>\n",
       "<table border=\"1\" class=\"dataframe\">\n",
       "  <thead>\n",
       "    <tr style=\"text-align: right;\">\n",
       "      <th></th>\n",
       "      <th>name</th>\n",
       "      <th>price_old</th>\n",
       "      <th>price_new</th>\n",
       "      <th>warranty</th>\n",
       "      <th>CPU</th>\n",
       "      <th>Ram_size</th>\n",
       "      <th>Ram_type</th>\n",
       "      <th>Hard_Drive</th>\n",
       "      <th>screen</th>\n",
       "      <th>resolution</th>\n",
       "      <th>graphics</th>\n",
       "      <th>size_weight</th>\n",
       "      <th>material</th>\n",
       "      <th>os</th>\n",
       "      <th>year</th>\n",
       "      <th>battery</th>\n",
       "    </tr>\n",
       "  </thead>\n",
       "  <tbody>\n",
       "    <tr>\n",
       "      <th>5</th>\n",
       "      <td>Laptop CHUWI CoreBook X i5 8259U/16GB/512GB/Win10</td>\n",
       "      <td>5.580.000₫</td>\n",
       "      <td>15.490.000₫</td>\n",
       "      <td>1 tháng tại TGDĐ</td>\n",
       "      <td>Intel Core i5 Coffee Lake - 8259U</td>\n",
       "      <td>16 GB</td>\n",
       "      <td>DDR4 (Onboard)</td>\n",
       "      <td>512 GB SSD\\nHỗ trợ khe cắm SSD M.2 SATA3 (nâng...</td>\n",
       "      <td>14 inch</td>\n",
       "      <td>2.2K (2240x1400)</td>\n",
       "      <td>Card tích hợp - Intel Iris Plus Graphics 655</td>\n",
       "      <td>Dài 310 mm - Rộng 229.5 mm - Dày 20.6 mm - Nặn...</td>\n",
       "      <td>Vỏ kim loại</td>\n",
       "      <td>Windows 10 Home SL</td>\n",
       "      <td>2021</td>\n",
       "      <td>46.2 Wh</td>\n",
       "    </tr>\n",
       "    <tr>\n",
       "      <th>6</th>\n",
       "      <td>Laptop CHUWI CoreBook X i5 8259U/16GB/512GB/Win10</td>\n",
       "      <td>5.680.000₫</td>\n",
       "      <td>15.490.000₫</td>\n",
       "      <td>2.5 tháng chính hãng</td>\n",
       "      <td>Intel Core i5 Coffee Lake - 8259U</td>\n",
       "      <td>16 GB</td>\n",
       "      <td>DDR4 (Onboard)</td>\n",
       "      <td>512 GB SSD\\nHỗ trợ khe cắm SSD M.2 SATA3 (nâng...</td>\n",
       "      <td>14 inch</td>\n",
       "      <td>2.2K (2240x1400)</td>\n",
       "      <td>Card tích hợp - Intel Iris Plus Graphics 655</td>\n",
       "      <td>Dài 310 mm - Rộng 229.5 mm - Dày 20.6 mm - Nặn...</td>\n",
       "      <td>Vỏ kim loại</td>\n",
       "      <td>Windows 10 Home SL</td>\n",
       "      <td>2021</td>\n",
       "      <td>46.2 Wh</td>\n",
       "    </tr>\n",
       "    <tr>\n",
       "      <th>7</th>\n",
       "      <td>Laptop CHUWI CoreBook X i5 8259U/16GB/512GB/Win10</td>\n",
       "      <td>5.710.000₫</td>\n",
       "      <td>15.490.000₫</td>\n",
       "      <td>3 tháng chính hãng</td>\n",
       "      <td>Intel Core i5 Coffee Lake - 8259U</td>\n",
       "      <td>16 GB</td>\n",
       "      <td>DDR4 (Onboard)</td>\n",
       "      <td>512 GB SSD\\nHỗ trợ khe cắm SSD M.2 SATA3 (nâng...</td>\n",
       "      <td>14 inch</td>\n",
       "      <td>2.2K (2240x1400)</td>\n",
       "      <td>Card tích hợp - Intel Iris Plus Graphics 655</td>\n",
       "      <td>Dài 310 mm - Rộng 229.5 mm - Dày 20.6 mm - Nặn...</td>\n",
       "      <td>Vỏ kim loại</td>\n",
       "      <td>Windows 10 Home SL</td>\n",
       "      <td>2021</td>\n",
       "      <td>46.2 Wh</td>\n",
       "    </tr>\n",
       "    <tr>\n",
       "      <th>8</th>\n",
       "      <td>Laptop CHUWI CoreBook X i5 8259U/16GB/512GB/Win10</td>\n",
       "      <td>5.740.000₫</td>\n",
       "      <td>15.490.000₫</td>\n",
       "      <td>3.5 tháng chính hãng</td>\n",
       "      <td>Intel Core i5 Coffee Lake - 8259U</td>\n",
       "      <td>16 GB</td>\n",
       "      <td>DDR4 (Onboard)</td>\n",
       "      <td>512 GB SSD\\nHỗ trợ khe cắm SSD M.2 SATA3 (nâng...</td>\n",
       "      <td>14 inch</td>\n",
       "      <td>2.2K (2240x1400)</td>\n",
       "      <td>Card tích hợp - Intel Iris Plus Graphics 655</td>\n",
       "      <td>Dài 310 mm - Rộng 229.5 mm - Dày 20.6 mm - Nặn...</td>\n",
       "      <td>Vỏ kim loại</td>\n",
       "      <td>Windows 10 Home SL</td>\n",
       "      <td>2021</td>\n",
       "      <td>46.2 Wh</td>\n",
       "    </tr>\n",
       "    <tr>\n",
       "      <th>9</th>\n",
       "      <td>Laptop CHUWI CoreBook X i5 8259U/16GB/512GB/Win10</td>\n",
       "      <td>5.770.000₫</td>\n",
       "      <td>15.490.000₫</td>\n",
       "      <td>4 tháng chính hãng</td>\n",
       "      <td>Intel Core i5 Coffee Lake - 8259U</td>\n",
       "      <td>16 GB</td>\n",
       "      <td>DDR4 (Onboard)</td>\n",
       "      <td>512 GB SSD\\nHỗ trợ khe cắm SSD M.2 SATA3 (nâng...</td>\n",
       "      <td>14 inch</td>\n",
       "      <td>2.2K (2240x1400)</td>\n",
       "      <td>Card tích hợp - Intel Iris Plus Graphics 655</td>\n",
       "      <td>Dài 310 mm - Rộng 229.5 mm - Dày 20.6 mm - Nặn...</td>\n",
       "      <td>Vỏ kim loại</td>\n",
       "      <td>Windows 10 Home SL</td>\n",
       "      <td>2021</td>\n",
       "      <td>46.2 Wh</td>\n",
       "    </tr>\n",
       "    <tr>\n",
       "      <th>4</th>\n",
       "      <td>Laptop Acer Swift 3 SF315 52 50T9 i5 8250U/8GB...</td>\n",
       "      <td>5.760.000₫</td>\n",
       "      <td>16.990.000₫</td>\n",
       "      <td>1 tháng tại TGDĐ</td>\n",
       "      <td>Intel Core i5 Coffee Lake - 8250U</td>\n",
       "      <td>8 GB</td>\n",
       "      <td>DDR4 (Onboard +1 khe)</td>\n",
       "      <td>Hỗ trợ khe cắm HDD SATA\\n256 GB SSD M.2 SATA 3</td>\n",
       "      <td>15.6 inch</td>\n",
       "      <td>Full HD (1920 x 1080)</td>\n",
       "      <td>Card tích hợp - Intel UHD Graphics 620</td>\n",
       "      <td>Dài Dài 359 mm - Rộng Rộng 243 mm - Dày Dày 16...</td>\n",
       "      <td>Vỏ kim loại</td>\n",
       "      <td>Windows 10 Home SL</td>\n",
       "      <td>2018</td>\n",
       "      <td>Li-Polymer, 80 Wh</td>\n",
       "    </tr>\n",
       "    <tr>\n",
       "      <th>3</th>\n",
       "      <td>Laptop Acer Switch 5 SW512 52P 34RS i3 7130U/4...</td>\n",
       "      <td>7.620.000₫</td>\n",
       "      <td>22.490.000₫</td>\n",
       "      <td>1 tháng tại TGDĐ</td>\n",
       "      <td>Intel Core i3 Kabylake - 7130U</td>\n",
       "      <td>4 GB</td>\n",
       "      <td>DDR3L</td>\n",
       "      <td>128 GB SSD M2 PCIe</td>\n",
       "      <td>12 inch</td>\n",
       "      <td>2K (2160 x 1440)</td>\n",
       "      <td>Card tích hợp - Intel UHD Graphics 620</td>\n",
       "      <td>Dài Dài 292.9 mm - Rộng Rộng 201.8 mm - Dày Dà...</td>\n",
       "      <td>Vỏ kim loại</td>\n",
       "      <td>Windows 10 Home SL</td>\n",
       "      <td>2019</td>\n",
       "      <td>2-cell Li-ion</td>\n",
       "    </tr>\n",
       "    <tr>\n",
       "      <th>1</th>\n",
       "      <td>Laptop Acer Swift 5 SF514 53T 51EX i5 8265U/8G...</td>\n",
       "      <td>8.130.000₫</td>\n",
       "      <td>23.990.000₫</td>\n",
       "      <td>1 tháng tại TGDĐ</td>\n",
       "      <td>Intel Core i5 Coffee Lake - 8265U</td>\n",
       "      <td>8 GB</td>\n",
       "      <td>DDR4 (Onboard)</td>\n",
       "      <td>256 GB SSD NVMe PCIe</td>\n",
       "      <td>14 inch</td>\n",
       "      <td>Full HD (1920 x 1080)</td>\n",
       "      <td>Card tích hợp - Intel UHD Graphics 620</td>\n",
       "      <td>Dài 329 mm - Rộng 228 mm - Dày 14.9 mm - Nặng ...</td>\n",
       "      <td>Nhôm - Magie</td>\n",
       "      <td>Windows 10 Home SL</td>\n",
       "      <td>2018</td>\n",
       "      <td>2-cell Li-Polymer</td>\n",
       "    </tr>\n",
       "    <tr>\n",
       "      <th>0</th>\n",
       "      <td>Laptop Acer Swift 5 SF514 53T 740R i7 8565U/8G...</td>\n",
       "      <td>9.480.000₫</td>\n",
       "      <td>27.990.000₫</td>\n",
       "      <td>1 tháng tại TGDĐ</td>\n",
       "      <td>Intel Core i7 Coffee Lake - 8565U</td>\n",
       "      <td>8 GB</td>\n",
       "      <td>DDR4 (Onboard)</td>\n",
       "      <td>256 GB SSD NVMe PCIe</td>\n",
       "      <td>14 inch</td>\n",
       "      <td>Full HD (1920 x 1080)</td>\n",
       "      <td>Card tích hợp - Intel UHD Graphics 620</td>\n",
       "      <td>Dài 329 mm - Rộng 228 mm - Dày 14.9 mm - Nặng ...</td>\n",
       "      <td>Nhôm - Magie</td>\n",
       "      <td>Windows 10 Home SL</td>\n",
       "      <td>2018</td>\n",
       "      <td>2-cell Li-Polymer</td>\n",
       "    </tr>\n",
       "    <tr>\n",
       "      <th>2</th>\n",
       "      <td>Laptop Acer Swift 7 SF714 52T 76C6 i7 8500Y/16...</td>\n",
       "      <td>16.940.000₫</td>\n",
       "      <td>49.990.000₫</td>\n",
       "      <td>1 tháng tại TGDĐ</td>\n",
       "      <td>Intel Core i7 Coffee Lake - 8500Y</td>\n",
       "      <td>16 GB</td>\n",
       "      <td>DDR3 (Onboard)</td>\n",
       "      <td>512 GB SSD NVMe PCIe</td>\n",
       "      <td>14 inch</td>\n",
       "      <td>Full HD (1920 x 1080)</td>\n",
       "      <td>Card tích hợp - Intel UHD Graphics 615</td>\n",
       "      <td>Dài Dài 317.9 mm - Rộng Rộng 191.5 - Dày Dày 9...</td>\n",
       "      <td>Nhôm - Magie</td>\n",
       "      <td>Windows 10 Home SL</td>\n",
       "      <td>2019</td>\n",
       "      <td>3-cell Li-ion</td>\n",
       "    </tr>\n",
       "  </tbody>\n",
       "</table>\n",
       "</div>"
      ],
      "text/plain": [
       "                                                name    price_old  \\\n",
       "5  Laptop CHUWI CoreBook X i5 8259U/16GB/512GB/Win10   5.580.000₫   \n",
       "6  Laptop CHUWI CoreBook X i5 8259U/16GB/512GB/Win10   5.680.000₫   \n",
       "7  Laptop CHUWI CoreBook X i5 8259U/16GB/512GB/Win10   5.710.000₫   \n",
       "8  Laptop CHUWI CoreBook X i5 8259U/16GB/512GB/Win10   5.740.000₫   \n",
       "9  Laptop CHUWI CoreBook X i5 8259U/16GB/512GB/Win10   5.770.000₫   \n",
       "4  Laptop Acer Swift 3 SF315 52 50T9 i5 8250U/8GB...   5.760.000₫   \n",
       "3  Laptop Acer Switch 5 SW512 52P 34RS i3 7130U/4...   7.620.000₫   \n",
       "1  Laptop Acer Swift 5 SF514 53T 51EX i5 8265U/8G...   8.130.000₫   \n",
       "0  Laptop Acer Swift 5 SF514 53T 740R i7 8565U/8G...   9.480.000₫   \n",
       "2  Laptop Acer Swift 7 SF714 52T 76C6 i7 8500Y/16...  16.940.000₫   \n",
       "\n",
       "     price_new              warranty                                CPU  \\\n",
       "5  15.490.000₫      1 tháng tại TGDĐ  Intel Core i5 Coffee Lake - 8259U   \n",
       "6  15.490.000₫  2.5 tháng chính hãng  Intel Core i5 Coffee Lake - 8259U   \n",
       "7  15.490.000₫    3 tháng chính hãng  Intel Core i5 Coffee Lake - 8259U   \n",
       "8  15.490.000₫  3.5 tháng chính hãng  Intel Core i5 Coffee Lake - 8259U   \n",
       "9  15.490.000₫    4 tháng chính hãng  Intel Core i5 Coffee Lake - 8259U   \n",
       "4  16.990.000₫      1 tháng tại TGDĐ  Intel Core i5 Coffee Lake - 8250U   \n",
       "3  22.490.000₫      1 tháng tại TGDĐ     Intel Core i3 Kabylake - 7130U   \n",
       "1  23.990.000₫      1 tháng tại TGDĐ  Intel Core i5 Coffee Lake - 8265U   \n",
       "0  27.990.000₫      1 tháng tại TGDĐ  Intel Core i7 Coffee Lake - 8565U   \n",
       "2  49.990.000₫      1 tháng tại TGDĐ  Intel Core i7 Coffee Lake - 8500Y   \n",
       "\n",
       "  Ram_size               Ram_type  \\\n",
       "5    16 GB         DDR4 (Onboard)   \n",
       "6    16 GB         DDR4 (Onboard)   \n",
       "7    16 GB         DDR4 (Onboard)   \n",
       "8    16 GB         DDR4 (Onboard)   \n",
       "9    16 GB         DDR4 (Onboard)   \n",
       "4     8 GB  DDR4 (Onboard +1 khe)   \n",
       "3     4 GB                  DDR3L   \n",
       "1     8 GB         DDR4 (Onboard)   \n",
       "0     8 GB         DDR4 (Onboard)   \n",
       "2    16 GB         DDR3 (Onboard)   \n",
       "\n",
       "                                          Hard_Drive     screen  \\\n",
       "5  512 GB SSD\\nHỗ trợ khe cắm SSD M.2 SATA3 (nâng...    14 inch   \n",
       "6  512 GB SSD\\nHỗ trợ khe cắm SSD M.2 SATA3 (nâng...    14 inch   \n",
       "7  512 GB SSD\\nHỗ trợ khe cắm SSD M.2 SATA3 (nâng...    14 inch   \n",
       "8  512 GB SSD\\nHỗ trợ khe cắm SSD M.2 SATA3 (nâng...    14 inch   \n",
       "9  512 GB SSD\\nHỗ trợ khe cắm SSD M.2 SATA3 (nâng...    14 inch   \n",
       "4     Hỗ trợ khe cắm HDD SATA\\n256 GB SSD M.2 SATA 3  15.6 inch   \n",
       "3                                 128 GB SSD M2 PCIe    12 inch   \n",
       "1                               256 GB SSD NVMe PCIe    14 inch   \n",
       "0                               256 GB SSD NVMe PCIe    14 inch   \n",
       "2                               512 GB SSD NVMe PCIe    14 inch   \n",
       "\n",
       "              resolution                                      graphics  \\\n",
       "5       2.2K (2240x1400)  Card tích hợp - Intel Iris Plus Graphics 655   \n",
       "6       2.2K (2240x1400)  Card tích hợp - Intel Iris Plus Graphics 655   \n",
       "7       2.2K (2240x1400)  Card tích hợp - Intel Iris Plus Graphics 655   \n",
       "8       2.2K (2240x1400)  Card tích hợp - Intel Iris Plus Graphics 655   \n",
       "9       2.2K (2240x1400)  Card tích hợp - Intel Iris Plus Graphics 655   \n",
       "4  Full HD (1920 x 1080)        Card tích hợp - Intel UHD Graphics 620   \n",
       "3       2K (2160 x 1440)        Card tích hợp - Intel UHD Graphics 620   \n",
       "1  Full HD (1920 x 1080)        Card tích hợp - Intel UHD Graphics 620   \n",
       "0  Full HD (1920 x 1080)        Card tích hợp - Intel UHD Graphics 620   \n",
       "2  Full HD (1920 x 1080)        Card tích hợp - Intel UHD Graphics 615   \n",
       "\n",
       "                                         size_weight      material  \\\n",
       "5  Dài 310 mm - Rộng 229.5 mm - Dày 20.6 mm - Nặn...   Vỏ kim loại   \n",
       "6  Dài 310 mm - Rộng 229.5 mm - Dày 20.6 mm - Nặn...   Vỏ kim loại   \n",
       "7  Dài 310 mm - Rộng 229.5 mm - Dày 20.6 mm - Nặn...   Vỏ kim loại   \n",
       "8  Dài 310 mm - Rộng 229.5 mm - Dày 20.6 mm - Nặn...   Vỏ kim loại   \n",
       "9  Dài 310 mm - Rộng 229.5 mm - Dày 20.6 mm - Nặn...   Vỏ kim loại   \n",
       "4  Dài Dài 359 mm - Rộng Rộng 243 mm - Dày Dày 16...   Vỏ kim loại   \n",
       "3  Dài Dài 292.9 mm - Rộng Rộng 201.8 mm - Dày Dà...   Vỏ kim loại   \n",
       "1  Dài 329 mm - Rộng 228 mm - Dày 14.9 mm - Nặng ...  Nhôm - Magie   \n",
       "0  Dài 329 mm - Rộng 228 mm - Dày 14.9 mm - Nặng ...  Nhôm - Magie   \n",
       "2  Dài Dài 317.9 mm - Rộng Rộng 191.5 - Dày Dày 9...  Nhôm - Magie   \n",
       "\n",
       "                   os  year            battery  \n",
       "5  Windows 10 Home SL  2021            46.2 Wh  \n",
       "6  Windows 10 Home SL  2021            46.2 Wh  \n",
       "7  Windows 10 Home SL  2021            46.2 Wh  \n",
       "8  Windows 10 Home SL  2021            46.2 Wh  \n",
       "9  Windows 10 Home SL  2021            46.2 Wh  \n",
       "4  Windows 10 Home SL  2018  Li-Polymer, 80 Wh  \n",
       "3  Windows 10 Home SL  2019      2-cell Li-ion  \n",
       "1  Windows 10 Home SL  2018  2-cell Li-Polymer  \n",
       "0  Windows 10 Home SL  2018  2-cell Li-Polymer  \n",
       "2  Windows 10 Home SL  2019      3-cell Li-ion  "
      ]
     },
     "execution_count": 134,
     "metadata": {},
     "output_type": "execute_result"
    }
   ],
   "source": [
    "# sắp xếp 1 tiêu chí\n",
    "df.sort_values('price_new', ascending=True).head(10)"
   ]
  },
  {
   "cell_type": "code",
   "execution_count": 135,
   "id": "68366dd9",
   "metadata": {},
   "outputs": [
    {
     "data": {
      "application/vnd.microsoft.datawrangler.viewer.v0+json": {
       "columns": [
        {
         "name": "index",
         "rawType": "int64",
         "type": "integer"
        },
        {
         "name": "name",
         "rawType": "object",
         "type": "string"
        },
        {
         "name": "price_old",
         "rawType": "object",
         "type": "string"
        },
        {
         "name": "price_new",
         "rawType": "object",
         "type": "string"
        },
        {
         "name": "warranty",
         "rawType": "object",
         "type": "string"
        },
        {
         "name": "CPU",
         "rawType": "object",
         "type": "string"
        },
        {
         "name": "Ram_size",
         "rawType": "object",
         "type": "string"
        },
        {
         "name": "Ram_type",
         "rawType": "object",
         "type": "string"
        },
        {
         "name": "Hard_Drive",
         "rawType": "object",
         "type": "string"
        },
        {
         "name": "screen",
         "rawType": "object",
         "type": "string"
        },
        {
         "name": "resolution",
         "rawType": "object",
         "type": "string"
        },
        {
         "name": "graphics",
         "rawType": "object",
         "type": "string"
        },
        {
         "name": "size_weight",
         "rawType": "object",
         "type": "string"
        },
        {
         "name": "material",
         "rawType": "object",
         "type": "string"
        },
        {
         "name": "os",
         "rawType": "object",
         "type": "string"
        },
        {
         "name": "year",
         "rawType": "int64",
         "type": "integer"
        },
        {
         "name": "battery",
         "rawType": "object",
         "type": "string"
        }
       ],
       "conversionMethod": "pd.DataFrame",
       "ref": "b3f76a44-6185-4f4f-bd0f-c11087f202b1",
       "rows": [
        [
         "2",
         "Laptop Acer Swift 7 SF714 52T 76C6 i7 8500Y/16GB/512GB/Touch/Túi/Win10 (NX.H98SV.001)",
         "16.940.000₫",
         "49.990.000₫",
         "1 tháng tại TGDĐ",
         "Intel Core i7 Coffee Lake - 8500Y",
         "16 GB",
         "DDR3 (Onboard)",
         "512 GB SSD NVMe PCIe",
         "14 inch",
         "Full HD (1920 x 1080)",
         "Card tích hợp - Intel UHD Graphics 615",
         "Dài Dài 317.9 mm - Rộng Rộng 191.5 - Dày Dày 9.95 mm - Nặng 890 gram",
         "Nhôm - Magie",
         "Windows 10 Home SL",
         "2019",
         "3-cell Li-ion"
        ],
        [
         "0",
         "Laptop Acer Swift 5 SF514 53T 740R i7 8565U/8GB/256GB/Touch/Win10 (NX.H7KSV.002)",
         "9.480.000₫",
         "27.990.000₫",
         "1 tháng tại TGDĐ",
         "Intel Core i7 Coffee Lake - 8565U",
         "8 GB",
         "DDR4 (Onboard)",
         "256 GB SSD NVMe PCIe",
         "14 inch",
         "Full HD (1920 x 1080)",
         "Card tích hợp - Intel UHD Graphics 620",
         "Dài 329 mm - Rộng 228 mm - Dày 14.9 mm - Nặng 0.94 kg",
         "Nhôm - Magie",
         "Windows 10 Home SL",
         "2018",
         "2-cell Li-Polymer"
        ],
        [
         "1",
         "Laptop Acer Swift 5 SF514 53T 51EX i5 8265U/8GB/256GB/Touch/Win10 (NX.H7KSV.001)",
         "8.130.000₫",
         "23.990.000₫",
         "1 tháng tại TGDĐ",
         "Intel Core i5 Coffee Lake - 8265U",
         "8 GB",
         "DDR4 (Onboard)",
         "256 GB SSD NVMe PCIe",
         "14 inch",
         "Full HD (1920 x 1080)",
         "Card tích hợp - Intel UHD Graphics 620",
         "Dài 329 mm - Rộng 228 mm - Dày 14.9 mm - Nặng 0.97 kg",
         "Nhôm - Magie",
         "Windows 10 Home SL",
         "2018",
         "2-cell Li-Polymer"
        ],
        [
         "3",
         "Laptop Acer Switch 5 SW512 52P 34RS i3 7130U/4GB/128GB/Touch/Pen/Win10 (NT.LDTSV.004)",
         "7.620.000₫",
         "22.490.000₫",
         "1 tháng tại TGDĐ",
         "Intel Core i3 Kabylake - 7130U",
         "4 GB",
         "DDR3L",
         "128 GB SSD M2 PCIe",
         "12 inch",
         "2K (2160 x 1440)",
         "Card tích hợp - Intel UHD Graphics 620",
         "Dài Dài 292.9 mm - Rộng Rộng 201.8 mm - Dày Dày 9.6 mm - Nặng 0.92 kg",
         "Vỏ kim loại",
         "Windows 10 Home SL",
         "2019",
         "2-cell Li-ion"
        ],
        [
         "4",
         "Laptop Acer Swift 3 SF315 52 50T9 i5 8250U/8GB/256GB/Win10 (NX.GZBSV.002)",
         "5.760.000₫",
         "16.990.000₫",
         "1 tháng tại TGDĐ",
         "Intel Core i5 Coffee Lake - 8250U",
         "8 GB",
         "DDR4 (Onboard +1 khe)",
         "Hỗ trợ khe cắm HDD SATA\n256 GB SSD M.2 SATA 3",
         "15.6 inch",
         "Full HD (1920 x 1080)",
         "Card tích hợp - Intel UHD Graphics 620",
         "Dài Dài 359 mm - Rộng Rộng 243 mm - Dày Dày 16.9 mm - Nặng 1.7 kg",
         "Vỏ kim loại",
         "Windows 10 Home SL",
         "2018",
         "Li-Polymer, 80 Wh"
        ],
        [
         "5",
         "Laptop CHUWI CoreBook X i5 8259U/16GB/512GB/Win10",
         "5.580.000₫",
         "15.490.000₫",
         "1 tháng tại TGDĐ",
         "Intel Core i5 Coffee Lake - 8259U",
         "16 GB",
         "DDR4 (Onboard)",
         "512 GB SSD\nHỗ trợ khe cắm SSD M.2 SATA3 (nâng cấp tối đa 1 TB)",
         "14 inch",
         "2.2K (2240x1400)",
         "Card tích hợp - Intel Iris Plus Graphics 655",
         "Dài 310 mm - Rộng 229.5 mm - Dày 20.6 mm - Nặng 1.5 kg",
         "Vỏ kim loại",
         "Windows 10 Home SL",
         "2021",
         "46.2 Wh"
        ],
        [
         "6",
         "Laptop CHUWI CoreBook X i5 8259U/16GB/512GB/Win10",
         "5.680.000₫",
         "15.490.000₫",
         "2.5 tháng chính hãng",
         "Intel Core i5 Coffee Lake - 8259U",
         "16 GB",
         "DDR4 (Onboard)",
         "512 GB SSD\nHỗ trợ khe cắm SSD M.2 SATA3 (nâng cấp tối đa 1 TB)",
         "14 inch",
         "2.2K (2240x1400)",
         "Card tích hợp - Intel Iris Plus Graphics 655",
         "Dài 310 mm - Rộng 229.5 mm - Dày 20.6 mm - Nặng 1.5 kg",
         "Vỏ kim loại",
         "Windows 10 Home SL",
         "2021",
         "46.2 Wh"
        ],
        [
         "7",
         "Laptop CHUWI CoreBook X i5 8259U/16GB/512GB/Win10",
         "5.710.000₫",
         "15.490.000₫",
         "3 tháng chính hãng",
         "Intel Core i5 Coffee Lake - 8259U",
         "16 GB",
         "DDR4 (Onboard)",
         "512 GB SSD\nHỗ trợ khe cắm SSD M.2 SATA3 (nâng cấp tối đa 1 TB)",
         "14 inch",
         "2.2K (2240x1400)",
         "Card tích hợp - Intel Iris Plus Graphics 655",
         "Dài 310 mm - Rộng 229.5 mm - Dày 20.6 mm - Nặng 1.5 kg",
         "Vỏ kim loại",
         "Windows 10 Home SL",
         "2021",
         "46.2 Wh"
        ],
        [
         "8",
         "Laptop CHUWI CoreBook X i5 8259U/16GB/512GB/Win10",
         "5.740.000₫",
         "15.490.000₫",
         "3.5 tháng chính hãng",
         "Intel Core i5 Coffee Lake - 8259U",
         "16 GB",
         "DDR4 (Onboard)",
         "512 GB SSD\nHỗ trợ khe cắm SSD M.2 SATA3 (nâng cấp tối đa 1 TB)",
         "14 inch",
         "2.2K (2240x1400)",
         "Card tích hợp - Intel Iris Plus Graphics 655",
         "Dài 310 mm - Rộng 229.5 mm - Dày 20.6 mm - Nặng 1.5 kg",
         "Vỏ kim loại",
         "Windows 10 Home SL",
         "2021",
         "46.2 Wh"
        ],
        [
         "9",
         "Laptop CHUWI CoreBook X i5 8259U/16GB/512GB/Win10",
         "5.770.000₫",
         "15.490.000₫",
         "4 tháng chính hãng",
         "Intel Core i5 Coffee Lake - 8259U",
         "16 GB",
         "DDR4 (Onboard)",
         "512 GB SSD\nHỗ trợ khe cắm SSD M.2 SATA3 (nâng cấp tối đa 1 TB)",
         "14 inch",
         "2.2K (2240x1400)",
         "Card tích hợp - Intel Iris Plus Graphics 655",
         "Dài 310 mm - Rộng 229.5 mm - Dày 20.6 mm - Nặng 1.5 kg",
         "Vỏ kim loại",
         "Windows 10 Home SL",
         "2021",
         "46.2 Wh"
        ]
       ],
       "shape": {
        "columns": 16,
        "rows": 10
       }
      },
      "text/html": [
       "<div>\n",
       "<style scoped>\n",
       "    .dataframe tbody tr th:only-of-type {\n",
       "        vertical-align: middle;\n",
       "    }\n",
       "\n",
       "    .dataframe tbody tr th {\n",
       "        vertical-align: top;\n",
       "    }\n",
       "\n",
       "    .dataframe thead th {\n",
       "        text-align: right;\n",
       "    }\n",
       "</style>\n",
       "<table border=\"1\" class=\"dataframe\">\n",
       "  <thead>\n",
       "    <tr style=\"text-align: right;\">\n",
       "      <th></th>\n",
       "      <th>name</th>\n",
       "      <th>price_old</th>\n",
       "      <th>price_new</th>\n",
       "      <th>warranty</th>\n",
       "      <th>CPU</th>\n",
       "      <th>Ram_size</th>\n",
       "      <th>Ram_type</th>\n",
       "      <th>Hard_Drive</th>\n",
       "      <th>screen</th>\n",
       "      <th>resolution</th>\n",
       "      <th>graphics</th>\n",
       "      <th>size_weight</th>\n",
       "      <th>material</th>\n",
       "      <th>os</th>\n",
       "      <th>year</th>\n",
       "      <th>battery</th>\n",
       "    </tr>\n",
       "  </thead>\n",
       "  <tbody>\n",
       "    <tr>\n",
       "      <th>2</th>\n",
       "      <td>Laptop Acer Swift 7 SF714 52T 76C6 i7 8500Y/16...</td>\n",
       "      <td>16.940.000₫</td>\n",
       "      <td>49.990.000₫</td>\n",
       "      <td>1 tháng tại TGDĐ</td>\n",
       "      <td>Intel Core i7 Coffee Lake - 8500Y</td>\n",
       "      <td>16 GB</td>\n",
       "      <td>DDR3 (Onboard)</td>\n",
       "      <td>512 GB SSD NVMe PCIe</td>\n",
       "      <td>14 inch</td>\n",
       "      <td>Full HD (1920 x 1080)</td>\n",
       "      <td>Card tích hợp - Intel UHD Graphics 615</td>\n",
       "      <td>Dài Dài 317.9 mm - Rộng Rộng 191.5 - Dày Dày 9...</td>\n",
       "      <td>Nhôm - Magie</td>\n",
       "      <td>Windows 10 Home SL</td>\n",
       "      <td>2019</td>\n",
       "      <td>3-cell Li-ion</td>\n",
       "    </tr>\n",
       "    <tr>\n",
       "      <th>0</th>\n",
       "      <td>Laptop Acer Swift 5 SF514 53T 740R i7 8565U/8G...</td>\n",
       "      <td>9.480.000₫</td>\n",
       "      <td>27.990.000₫</td>\n",
       "      <td>1 tháng tại TGDĐ</td>\n",
       "      <td>Intel Core i7 Coffee Lake - 8565U</td>\n",
       "      <td>8 GB</td>\n",
       "      <td>DDR4 (Onboard)</td>\n",
       "      <td>256 GB SSD NVMe PCIe</td>\n",
       "      <td>14 inch</td>\n",
       "      <td>Full HD (1920 x 1080)</td>\n",
       "      <td>Card tích hợp - Intel UHD Graphics 620</td>\n",
       "      <td>Dài 329 mm - Rộng 228 mm - Dày 14.9 mm - Nặng ...</td>\n",
       "      <td>Nhôm - Magie</td>\n",
       "      <td>Windows 10 Home SL</td>\n",
       "      <td>2018</td>\n",
       "      <td>2-cell Li-Polymer</td>\n",
       "    </tr>\n",
       "    <tr>\n",
       "      <th>1</th>\n",
       "      <td>Laptop Acer Swift 5 SF514 53T 51EX i5 8265U/8G...</td>\n",
       "      <td>8.130.000₫</td>\n",
       "      <td>23.990.000₫</td>\n",
       "      <td>1 tháng tại TGDĐ</td>\n",
       "      <td>Intel Core i5 Coffee Lake - 8265U</td>\n",
       "      <td>8 GB</td>\n",
       "      <td>DDR4 (Onboard)</td>\n",
       "      <td>256 GB SSD NVMe PCIe</td>\n",
       "      <td>14 inch</td>\n",
       "      <td>Full HD (1920 x 1080)</td>\n",
       "      <td>Card tích hợp - Intel UHD Graphics 620</td>\n",
       "      <td>Dài 329 mm - Rộng 228 mm - Dày 14.9 mm - Nặng ...</td>\n",
       "      <td>Nhôm - Magie</td>\n",
       "      <td>Windows 10 Home SL</td>\n",
       "      <td>2018</td>\n",
       "      <td>2-cell Li-Polymer</td>\n",
       "    </tr>\n",
       "    <tr>\n",
       "      <th>3</th>\n",
       "      <td>Laptop Acer Switch 5 SW512 52P 34RS i3 7130U/4...</td>\n",
       "      <td>7.620.000₫</td>\n",
       "      <td>22.490.000₫</td>\n",
       "      <td>1 tháng tại TGDĐ</td>\n",
       "      <td>Intel Core i3 Kabylake - 7130U</td>\n",
       "      <td>4 GB</td>\n",
       "      <td>DDR3L</td>\n",
       "      <td>128 GB SSD M2 PCIe</td>\n",
       "      <td>12 inch</td>\n",
       "      <td>2K (2160 x 1440)</td>\n",
       "      <td>Card tích hợp - Intel UHD Graphics 620</td>\n",
       "      <td>Dài Dài 292.9 mm - Rộng Rộng 201.8 mm - Dày Dà...</td>\n",
       "      <td>Vỏ kim loại</td>\n",
       "      <td>Windows 10 Home SL</td>\n",
       "      <td>2019</td>\n",
       "      <td>2-cell Li-ion</td>\n",
       "    </tr>\n",
       "    <tr>\n",
       "      <th>4</th>\n",
       "      <td>Laptop Acer Swift 3 SF315 52 50T9 i5 8250U/8GB...</td>\n",
       "      <td>5.760.000₫</td>\n",
       "      <td>16.990.000₫</td>\n",
       "      <td>1 tháng tại TGDĐ</td>\n",
       "      <td>Intel Core i5 Coffee Lake - 8250U</td>\n",
       "      <td>8 GB</td>\n",
       "      <td>DDR4 (Onboard +1 khe)</td>\n",
       "      <td>Hỗ trợ khe cắm HDD SATA\\n256 GB SSD M.2 SATA 3</td>\n",
       "      <td>15.6 inch</td>\n",
       "      <td>Full HD (1920 x 1080)</td>\n",
       "      <td>Card tích hợp - Intel UHD Graphics 620</td>\n",
       "      <td>Dài Dài 359 mm - Rộng Rộng 243 mm - Dày Dày 16...</td>\n",
       "      <td>Vỏ kim loại</td>\n",
       "      <td>Windows 10 Home SL</td>\n",
       "      <td>2018</td>\n",
       "      <td>Li-Polymer, 80 Wh</td>\n",
       "    </tr>\n",
       "    <tr>\n",
       "      <th>5</th>\n",
       "      <td>Laptop CHUWI CoreBook X i5 8259U/16GB/512GB/Win10</td>\n",
       "      <td>5.580.000₫</td>\n",
       "      <td>15.490.000₫</td>\n",
       "      <td>1 tháng tại TGDĐ</td>\n",
       "      <td>Intel Core i5 Coffee Lake - 8259U</td>\n",
       "      <td>16 GB</td>\n",
       "      <td>DDR4 (Onboard)</td>\n",
       "      <td>512 GB SSD\\nHỗ trợ khe cắm SSD M.2 SATA3 (nâng...</td>\n",
       "      <td>14 inch</td>\n",
       "      <td>2.2K (2240x1400)</td>\n",
       "      <td>Card tích hợp - Intel Iris Plus Graphics 655</td>\n",
       "      <td>Dài 310 mm - Rộng 229.5 mm - Dày 20.6 mm - Nặn...</td>\n",
       "      <td>Vỏ kim loại</td>\n",
       "      <td>Windows 10 Home SL</td>\n",
       "      <td>2021</td>\n",
       "      <td>46.2 Wh</td>\n",
       "    </tr>\n",
       "    <tr>\n",
       "      <th>6</th>\n",
       "      <td>Laptop CHUWI CoreBook X i5 8259U/16GB/512GB/Win10</td>\n",
       "      <td>5.680.000₫</td>\n",
       "      <td>15.490.000₫</td>\n",
       "      <td>2.5 tháng chính hãng</td>\n",
       "      <td>Intel Core i5 Coffee Lake - 8259U</td>\n",
       "      <td>16 GB</td>\n",
       "      <td>DDR4 (Onboard)</td>\n",
       "      <td>512 GB SSD\\nHỗ trợ khe cắm SSD M.2 SATA3 (nâng...</td>\n",
       "      <td>14 inch</td>\n",
       "      <td>2.2K (2240x1400)</td>\n",
       "      <td>Card tích hợp - Intel Iris Plus Graphics 655</td>\n",
       "      <td>Dài 310 mm - Rộng 229.5 mm - Dày 20.6 mm - Nặn...</td>\n",
       "      <td>Vỏ kim loại</td>\n",
       "      <td>Windows 10 Home SL</td>\n",
       "      <td>2021</td>\n",
       "      <td>46.2 Wh</td>\n",
       "    </tr>\n",
       "    <tr>\n",
       "      <th>7</th>\n",
       "      <td>Laptop CHUWI CoreBook X i5 8259U/16GB/512GB/Win10</td>\n",
       "      <td>5.710.000₫</td>\n",
       "      <td>15.490.000₫</td>\n",
       "      <td>3 tháng chính hãng</td>\n",
       "      <td>Intel Core i5 Coffee Lake - 8259U</td>\n",
       "      <td>16 GB</td>\n",
       "      <td>DDR4 (Onboard)</td>\n",
       "      <td>512 GB SSD\\nHỗ trợ khe cắm SSD M.2 SATA3 (nâng...</td>\n",
       "      <td>14 inch</td>\n",
       "      <td>2.2K (2240x1400)</td>\n",
       "      <td>Card tích hợp - Intel Iris Plus Graphics 655</td>\n",
       "      <td>Dài 310 mm - Rộng 229.5 mm - Dày 20.6 mm - Nặn...</td>\n",
       "      <td>Vỏ kim loại</td>\n",
       "      <td>Windows 10 Home SL</td>\n",
       "      <td>2021</td>\n",
       "      <td>46.2 Wh</td>\n",
       "    </tr>\n",
       "    <tr>\n",
       "      <th>8</th>\n",
       "      <td>Laptop CHUWI CoreBook X i5 8259U/16GB/512GB/Win10</td>\n",
       "      <td>5.740.000₫</td>\n",
       "      <td>15.490.000₫</td>\n",
       "      <td>3.5 tháng chính hãng</td>\n",
       "      <td>Intel Core i5 Coffee Lake - 8259U</td>\n",
       "      <td>16 GB</td>\n",
       "      <td>DDR4 (Onboard)</td>\n",
       "      <td>512 GB SSD\\nHỗ trợ khe cắm SSD M.2 SATA3 (nâng...</td>\n",
       "      <td>14 inch</td>\n",
       "      <td>2.2K (2240x1400)</td>\n",
       "      <td>Card tích hợp - Intel Iris Plus Graphics 655</td>\n",
       "      <td>Dài 310 mm - Rộng 229.5 mm - Dày 20.6 mm - Nặn...</td>\n",
       "      <td>Vỏ kim loại</td>\n",
       "      <td>Windows 10 Home SL</td>\n",
       "      <td>2021</td>\n",
       "      <td>46.2 Wh</td>\n",
       "    </tr>\n",
       "    <tr>\n",
       "      <th>9</th>\n",
       "      <td>Laptop CHUWI CoreBook X i5 8259U/16GB/512GB/Win10</td>\n",
       "      <td>5.770.000₫</td>\n",
       "      <td>15.490.000₫</td>\n",
       "      <td>4 tháng chính hãng</td>\n",
       "      <td>Intel Core i5 Coffee Lake - 8259U</td>\n",
       "      <td>16 GB</td>\n",
       "      <td>DDR4 (Onboard)</td>\n",
       "      <td>512 GB SSD\\nHỗ trợ khe cắm SSD M.2 SATA3 (nâng...</td>\n",
       "      <td>14 inch</td>\n",
       "      <td>2.2K (2240x1400)</td>\n",
       "      <td>Card tích hợp - Intel Iris Plus Graphics 655</td>\n",
       "      <td>Dài 310 mm - Rộng 229.5 mm - Dày 20.6 mm - Nặn...</td>\n",
       "      <td>Vỏ kim loại</td>\n",
       "      <td>Windows 10 Home SL</td>\n",
       "      <td>2021</td>\n",
       "      <td>46.2 Wh</td>\n",
       "    </tr>\n",
       "  </tbody>\n",
       "</table>\n",
       "</div>"
      ],
      "text/plain": [
       "                                                name    price_old  \\\n",
       "2  Laptop Acer Swift 7 SF714 52T 76C6 i7 8500Y/16...  16.940.000₫   \n",
       "0  Laptop Acer Swift 5 SF514 53T 740R i7 8565U/8G...   9.480.000₫   \n",
       "1  Laptop Acer Swift 5 SF514 53T 51EX i5 8265U/8G...   8.130.000₫   \n",
       "3  Laptop Acer Switch 5 SW512 52P 34RS i3 7130U/4...   7.620.000₫   \n",
       "4  Laptop Acer Swift 3 SF315 52 50T9 i5 8250U/8GB...   5.760.000₫   \n",
       "5  Laptop CHUWI CoreBook X i5 8259U/16GB/512GB/Win10   5.580.000₫   \n",
       "6  Laptop CHUWI CoreBook X i5 8259U/16GB/512GB/Win10   5.680.000₫   \n",
       "7  Laptop CHUWI CoreBook X i5 8259U/16GB/512GB/Win10   5.710.000₫   \n",
       "8  Laptop CHUWI CoreBook X i5 8259U/16GB/512GB/Win10   5.740.000₫   \n",
       "9  Laptop CHUWI CoreBook X i5 8259U/16GB/512GB/Win10   5.770.000₫   \n",
       "\n",
       "     price_new              warranty                                CPU  \\\n",
       "2  49.990.000₫      1 tháng tại TGDĐ  Intel Core i7 Coffee Lake - 8500Y   \n",
       "0  27.990.000₫      1 tháng tại TGDĐ  Intel Core i7 Coffee Lake - 8565U   \n",
       "1  23.990.000₫      1 tháng tại TGDĐ  Intel Core i5 Coffee Lake - 8265U   \n",
       "3  22.490.000₫      1 tháng tại TGDĐ     Intel Core i3 Kabylake - 7130U   \n",
       "4  16.990.000₫      1 tháng tại TGDĐ  Intel Core i5 Coffee Lake - 8250U   \n",
       "5  15.490.000₫      1 tháng tại TGDĐ  Intel Core i5 Coffee Lake - 8259U   \n",
       "6  15.490.000₫  2.5 tháng chính hãng  Intel Core i5 Coffee Lake - 8259U   \n",
       "7  15.490.000₫    3 tháng chính hãng  Intel Core i5 Coffee Lake - 8259U   \n",
       "8  15.490.000₫  3.5 tháng chính hãng  Intel Core i5 Coffee Lake - 8259U   \n",
       "9  15.490.000₫    4 tháng chính hãng  Intel Core i5 Coffee Lake - 8259U   \n",
       "\n",
       "  Ram_size               Ram_type  \\\n",
       "2    16 GB         DDR3 (Onboard)   \n",
       "0     8 GB         DDR4 (Onboard)   \n",
       "1     8 GB         DDR4 (Onboard)   \n",
       "3     4 GB                  DDR3L   \n",
       "4     8 GB  DDR4 (Onboard +1 khe)   \n",
       "5    16 GB         DDR4 (Onboard)   \n",
       "6    16 GB         DDR4 (Onboard)   \n",
       "7    16 GB         DDR4 (Onboard)   \n",
       "8    16 GB         DDR4 (Onboard)   \n",
       "9    16 GB         DDR4 (Onboard)   \n",
       "\n",
       "                                          Hard_Drive     screen  \\\n",
       "2                               512 GB SSD NVMe PCIe    14 inch   \n",
       "0                               256 GB SSD NVMe PCIe    14 inch   \n",
       "1                               256 GB SSD NVMe PCIe    14 inch   \n",
       "3                                 128 GB SSD M2 PCIe    12 inch   \n",
       "4     Hỗ trợ khe cắm HDD SATA\\n256 GB SSD M.2 SATA 3  15.6 inch   \n",
       "5  512 GB SSD\\nHỗ trợ khe cắm SSD M.2 SATA3 (nâng...    14 inch   \n",
       "6  512 GB SSD\\nHỗ trợ khe cắm SSD M.2 SATA3 (nâng...    14 inch   \n",
       "7  512 GB SSD\\nHỗ trợ khe cắm SSD M.2 SATA3 (nâng...    14 inch   \n",
       "8  512 GB SSD\\nHỗ trợ khe cắm SSD M.2 SATA3 (nâng...    14 inch   \n",
       "9  512 GB SSD\\nHỗ trợ khe cắm SSD M.2 SATA3 (nâng...    14 inch   \n",
       "\n",
       "              resolution                                      graphics  \\\n",
       "2  Full HD (1920 x 1080)        Card tích hợp - Intel UHD Graphics 615   \n",
       "0  Full HD (1920 x 1080)        Card tích hợp - Intel UHD Graphics 620   \n",
       "1  Full HD (1920 x 1080)        Card tích hợp - Intel UHD Graphics 620   \n",
       "3       2K (2160 x 1440)        Card tích hợp - Intel UHD Graphics 620   \n",
       "4  Full HD (1920 x 1080)        Card tích hợp - Intel UHD Graphics 620   \n",
       "5       2.2K (2240x1400)  Card tích hợp - Intel Iris Plus Graphics 655   \n",
       "6       2.2K (2240x1400)  Card tích hợp - Intel Iris Plus Graphics 655   \n",
       "7       2.2K (2240x1400)  Card tích hợp - Intel Iris Plus Graphics 655   \n",
       "8       2.2K (2240x1400)  Card tích hợp - Intel Iris Plus Graphics 655   \n",
       "9       2.2K (2240x1400)  Card tích hợp - Intel Iris Plus Graphics 655   \n",
       "\n",
       "                                         size_weight      material  \\\n",
       "2  Dài Dài 317.9 mm - Rộng Rộng 191.5 - Dày Dày 9...  Nhôm - Magie   \n",
       "0  Dài 329 mm - Rộng 228 mm - Dày 14.9 mm - Nặng ...  Nhôm - Magie   \n",
       "1  Dài 329 mm - Rộng 228 mm - Dày 14.9 mm - Nặng ...  Nhôm - Magie   \n",
       "3  Dài Dài 292.9 mm - Rộng Rộng 201.8 mm - Dày Dà...   Vỏ kim loại   \n",
       "4  Dài Dài 359 mm - Rộng Rộng 243 mm - Dày Dày 16...   Vỏ kim loại   \n",
       "5  Dài 310 mm - Rộng 229.5 mm - Dày 20.6 mm - Nặn...   Vỏ kim loại   \n",
       "6  Dài 310 mm - Rộng 229.5 mm - Dày 20.6 mm - Nặn...   Vỏ kim loại   \n",
       "7  Dài 310 mm - Rộng 229.5 mm - Dày 20.6 mm - Nặn...   Vỏ kim loại   \n",
       "8  Dài 310 mm - Rộng 229.5 mm - Dày 20.6 mm - Nặn...   Vỏ kim loại   \n",
       "9  Dài 310 mm - Rộng 229.5 mm - Dày 20.6 mm - Nặn...   Vỏ kim loại   \n",
       "\n",
       "                   os  year            battery  \n",
       "2  Windows 10 Home SL  2019      3-cell Li-ion  \n",
       "0  Windows 10 Home SL  2018  2-cell Li-Polymer  \n",
       "1  Windows 10 Home SL  2018  2-cell Li-Polymer  \n",
       "3  Windows 10 Home SL  2019      2-cell Li-ion  \n",
       "4  Windows 10 Home SL  2018  Li-Polymer, 80 Wh  \n",
       "5  Windows 10 Home SL  2021            46.2 Wh  \n",
       "6  Windows 10 Home SL  2021            46.2 Wh  \n",
       "7  Windows 10 Home SL  2021            46.2 Wh  \n",
       "8  Windows 10 Home SL  2021            46.2 Wh  \n",
       "9  Windows 10 Home SL  2021            46.2 Wh  "
      ]
     },
     "execution_count": 135,
     "metadata": {},
     "output_type": "execute_result"
    }
   ],
   "source": [
    "# sắp xếp nhiều tiêu chí [1, 2, 3,...] theo thứ tự\n",
    "df.sort_values(['price_new', 'price_old'], ascending=[False, True]).head(10)"
   ]
  },
  {
   "cell_type": "markdown",
   "id": "39a20ac1",
   "metadata": {},
   "source": [
    "### Lọc"
   ]
  },
  {
   "cell_type": "code",
   "execution_count": null,
   "id": "ff729835",
   "metadata": {},
   "outputs": [
    {
     "data": {
      "application/vnd.microsoft.datawrangler.viewer.v0+json": {
       "columns": [
        {
         "name": "index",
         "rawType": "int64",
         "type": "integer"
        },
        {
         "name": "name",
         "rawType": "object",
         "type": "string"
        },
        {
         "name": "price_old",
         "rawType": "object",
         "type": "string"
        },
        {
         "name": "price_new",
         "rawType": "object",
         "type": "string"
        },
        {
         "name": "warranty",
         "rawType": "object",
         "type": "string"
        },
        {
         "name": "CPU",
         "rawType": "object",
         "type": "string"
        },
        {
         "name": "Ram_size",
         "rawType": "object",
         "type": "string"
        },
        {
         "name": "Ram_type",
         "rawType": "object",
         "type": "string"
        },
        {
         "name": "Hard_Drive",
         "rawType": "object",
         "type": "string"
        },
        {
         "name": "screen",
         "rawType": "object",
         "type": "string"
        },
        {
         "name": "resolution",
         "rawType": "object",
         "type": "string"
        },
        {
         "name": "graphics",
         "rawType": "object",
         "type": "string"
        },
        {
         "name": "size_weight",
         "rawType": "object",
         "type": "string"
        },
        {
         "name": "material",
         "rawType": "object",
         "type": "string"
        },
        {
         "name": "os",
         "rawType": "object",
         "type": "string"
        },
        {
         "name": "year",
         "rawType": "int64",
         "type": "integer"
        },
        {
         "name": "battery",
         "rawType": "object",
         "type": "string"
        }
       ],
       "conversionMethod": "pd.DataFrame",
       "ref": "2134ee84-2d65-4fd1-9dab-41d7f66461ec",
       "rows": [
        [
         "0",
         "Laptop Acer Swift 5 SF514 53T 740R i7 8565U/8GB/256GB/Touch/Win10 (NX.H7KSV.002)",
         "9.480.000₫",
         "27.990.000₫",
         "1 tháng tại TGDĐ",
         "Intel Core i7 Coffee Lake - 8565U",
         "8 GB",
         "DDR4 (Onboard)",
         "256 GB SSD NVMe PCIe",
         "14 inch",
         "Full HD (1920 x 1080)",
         "Card tích hợp - Intel UHD Graphics 620",
         "Dài 329 mm - Rộng 228 mm - Dày 14.9 mm - Nặng 0.94 kg",
         "Nhôm - Magie",
         "Windows 10 Home SL",
         "2018",
         "2-cell Li-Polymer"
        ],
        [
         "1",
         "Laptop Acer Swift 5 SF514 53T 51EX i5 8265U/8GB/256GB/Touch/Win10 (NX.H7KSV.001)",
         "8.130.000₫",
         "23.990.000₫",
         "1 tháng tại TGDĐ",
         "Intel Core i5 Coffee Lake - 8265U",
         "8 GB",
         "DDR4 (Onboard)",
         "256 GB SSD NVMe PCIe",
         "14 inch",
         "Full HD (1920 x 1080)",
         "Card tích hợp - Intel UHD Graphics 620",
         "Dài 329 mm - Rộng 228 mm - Dày 14.9 mm - Nặng 0.97 kg",
         "Nhôm - Magie",
         "Windows 10 Home SL",
         "2018",
         "2-cell Li-Polymer"
        ],
        [
         "4",
         "Laptop Acer Swift 3 SF315 52 50T9 i5 8250U/8GB/256GB/Win10 (NX.GZBSV.002)",
         "5.760.000₫",
         "16.990.000₫",
         "1 tháng tại TGDĐ",
         "Intel Core i5 Coffee Lake - 8250U",
         "8 GB",
         "DDR4 (Onboard +1 khe)",
         "Hỗ trợ khe cắm HDD SATA\n256 GB SSD M.2 SATA 3",
         "15.6 inch",
         "Full HD (1920 x 1080)",
         "Card tích hợp - Intel UHD Graphics 620",
         "Dài Dài 359 mm - Rộng Rộng 243 mm - Dày Dày 16.9 mm - Nặng 1.7 kg",
         "Vỏ kim loại",
         "Windows 10 Home SL",
         "2018",
         "Li-Polymer, 80 Wh"
        ]
       ],
       "shape": {
        "columns": 16,
        "rows": 3
       }
      },
      "text/html": [
       "<div>\n",
       "<style scoped>\n",
       "    .dataframe tbody tr th:only-of-type {\n",
       "        vertical-align: middle;\n",
       "    }\n",
       "\n",
       "    .dataframe tbody tr th {\n",
       "        vertical-align: top;\n",
       "    }\n",
       "\n",
       "    .dataframe thead th {\n",
       "        text-align: right;\n",
       "    }\n",
       "</style>\n",
       "<table border=\"1\" class=\"dataframe\">\n",
       "  <thead>\n",
       "    <tr style=\"text-align: right;\">\n",
       "      <th></th>\n",
       "      <th>name</th>\n",
       "      <th>price_old</th>\n",
       "      <th>price_new</th>\n",
       "      <th>warranty</th>\n",
       "      <th>CPU</th>\n",
       "      <th>Ram_size</th>\n",
       "      <th>Ram_type</th>\n",
       "      <th>Hard_Drive</th>\n",
       "      <th>screen</th>\n",
       "      <th>resolution</th>\n",
       "      <th>graphics</th>\n",
       "      <th>size_weight</th>\n",
       "      <th>material</th>\n",
       "      <th>os</th>\n",
       "      <th>year</th>\n",
       "      <th>battery</th>\n",
       "    </tr>\n",
       "  </thead>\n",
       "  <tbody>\n",
       "    <tr>\n",
       "      <th>0</th>\n",
       "      <td>Laptop Acer Swift 5 SF514 53T 740R i7 8565U/8G...</td>\n",
       "      <td>9.480.000₫</td>\n",
       "      <td>27.990.000₫</td>\n",
       "      <td>1 tháng tại TGDĐ</td>\n",
       "      <td>Intel Core i7 Coffee Lake - 8565U</td>\n",
       "      <td>8 GB</td>\n",
       "      <td>DDR4 (Onboard)</td>\n",
       "      <td>256 GB SSD NVMe PCIe</td>\n",
       "      <td>14 inch</td>\n",
       "      <td>Full HD (1920 x 1080)</td>\n",
       "      <td>Card tích hợp - Intel UHD Graphics 620</td>\n",
       "      <td>Dài 329 mm - Rộng 228 mm - Dày 14.9 mm - Nặng ...</td>\n",
       "      <td>Nhôm - Magie</td>\n",
       "      <td>Windows 10 Home SL</td>\n",
       "      <td>2018</td>\n",
       "      <td>2-cell Li-Polymer</td>\n",
       "    </tr>\n",
       "    <tr>\n",
       "      <th>1</th>\n",
       "      <td>Laptop Acer Swift 5 SF514 53T 51EX i5 8265U/8G...</td>\n",
       "      <td>8.130.000₫</td>\n",
       "      <td>23.990.000₫</td>\n",
       "      <td>1 tháng tại TGDĐ</td>\n",
       "      <td>Intel Core i5 Coffee Lake - 8265U</td>\n",
       "      <td>8 GB</td>\n",
       "      <td>DDR4 (Onboard)</td>\n",
       "      <td>256 GB SSD NVMe PCIe</td>\n",
       "      <td>14 inch</td>\n",
       "      <td>Full HD (1920 x 1080)</td>\n",
       "      <td>Card tích hợp - Intel UHD Graphics 620</td>\n",
       "      <td>Dài 329 mm - Rộng 228 mm - Dày 14.9 mm - Nặng ...</td>\n",
       "      <td>Nhôm - Magie</td>\n",
       "      <td>Windows 10 Home SL</td>\n",
       "      <td>2018</td>\n",
       "      <td>2-cell Li-Polymer</td>\n",
       "    </tr>\n",
       "    <tr>\n",
       "      <th>4</th>\n",
       "      <td>Laptop Acer Swift 3 SF315 52 50T9 i5 8250U/8GB...</td>\n",
       "      <td>5.760.000₫</td>\n",
       "      <td>16.990.000₫</td>\n",
       "      <td>1 tháng tại TGDĐ</td>\n",
       "      <td>Intel Core i5 Coffee Lake - 8250U</td>\n",
       "      <td>8 GB</td>\n",
       "      <td>DDR4 (Onboard +1 khe)</td>\n",
       "      <td>Hỗ trợ khe cắm HDD SATA\\n256 GB SSD M.2 SATA 3</td>\n",
       "      <td>15.6 inch</td>\n",
       "      <td>Full HD (1920 x 1080)</td>\n",
       "      <td>Card tích hợp - Intel UHD Graphics 620</td>\n",
       "      <td>Dài Dài 359 mm - Rộng Rộng 243 mm - Dày Dày 16...</td>\n",
       "      <td>Vỏ kim loại</td>\n",
       "      <td>Windows 10 Home SL</td>\n",
       "      <td>2018</td>\n",
       "      <td>Li-Polymer, 80 Wh</td>\n",
       "    </tr>\n",
       "  </tbody>\n",
       "</table>\n",
       "</div>"
      ],
      "text/plain": [
       "                                                name   price_old    price_new  \\\n",
       "0  Laptop Acer Swift 5 SF514 53T 740R i7 8565U/8G...  9.480.000₫  27.990.000₫   \n",
       "1  Laptop Acer Swift 5 SF514 53T 51EX i5 8265U/8G...  8.130.000₫  23.990.000₫   \n",
       "4  Laptop Acer Swift 3 SF315 52 50T9 i5 8250U/8GB...  5.760.000₫  16.990.000₫   \n",
       "\n",
       "           warranty                                CPU Ram_size  \\\n",
       "0  1 tháng tại TGDĐ  Intel Core i7 Coffee Lake - 8565U     8 GB   \n",
       "1  1 tháng tại TGDĐ  Intel Core i5 Coffee Lake - 8265U     8 GB   \n",
       "4  1 tháng tại TGDĐ  Intel Core i5 Coffee Lake - 8250U     8 GB   \n",
       "\n",
       "                Ram_type                                      Hard_Drive  \\\n",
       "0         DDR4 (Onboard)                            256 GB SSD NVMe PCIe   \n",
       "1         DDR4 (Onboard)                            256 GB SSD NVMe PCIe   \n",
       "4  DDR4 (Onboard +1 khe)  Hỗ trợ khe cắm HDD SATA\\n256 GB SSD M.2 SATA 3   \n",
       "\n",
       "      screen             resolution                                graphics  \\\n",
       "0    14 inch  Full HD (1920 x 1080)  Card tích hợp - Intel UHD Graphics 620   \n",
       "1    14 inch  Full HD (1920 x 1080)  Card tích hợp - Intel UHD Graphics 620   \n",
       "4  15.6 inch  Full HD (1920 x 1080)  Card tích hợp - Intel UHD Graphics 620   \n",
       "\n",
       "                                         size_weight      material  \\\n",
       "0  Dài 329 mm - Rộng 228 mm - Dày 14.9 mm - Nặng ...  Nhôm - Magie   \n",
       "1  Dài 329 mm - Rộng 228 mm - Dày 14.9 mm - Nặng ...  Nhôm - Magie   \n",
       "4  Dài Dài 359 mm - Rộng Rộng 243 mm - Dày Dày 16...   Vỏ kim loại   \n",
       "\n",
       "                   os  year            battery  \n",
       "0  Windows 10 Home SL  2018  2-cell Li-Polymer  \n",
       "1  Windows 10 Home SL  2018  2-cell Li-Polymer  \n",
       "4  Windows 10 Home SL  2018  Li-Polymer, 80 Wh  "
      ]
     },
     "execution_count": 136,
     "metadata": {},
     "output_type": "execute_result"
    }
   ],
   "source": [
    "df[df['Ram_size'] == '8 GB'] # !=, >=, ..."
   ]
  },
  {
   "cell_type": "code",
   "execution_count": 138,
   "id": "a71fd8be",
   "metadata": {},
   "outputs": [
    {
     "data": {
      "application/vnd.microsoft.datawrangler.viewer.v0+json": {
       "columns": [
        {
         "name": "index",
         "rawType": "int64",
         "type": "integer"
        },
        {
         "name": "name",
         "rawType": "object",
         "type": "string"
        },
        {
         "name": "price_old",
         "rawType": "object",
         "type": "string"
        },
        {
         "name": "price_new",
         "rawType": "object",
         "type": "string"
        },
        {
         "name": "warranty",
         "rawType": "object",
         "type": "string"
        },
        {
         "name": "CPU",
         "rawType": "object",
         "type": "string"
        },
        {
         "name": "Ram_size",
         "rawType": "object",
         "type": "string"
        },
        {
         "name": "Ram_type",
         "rawType": "object",
         "type": "string"
        },
        {
         "name": "Hard_Drive",
         "rawType": "object",
         "type": "string"
        },
        {
         "name": "screen",
         "rawType": "object",
         "type": "string"
        },
        {
         "name": "resolution",
         "rawType": "object",
         "type": "string"
        },
        {
         "name": "graphics",
         "rawType": "object",
         "type": "string"
        },
        {
         "name": "size_weight",
         "rawType": "object",
         "type": "string"
        },
        {
         "name": "material",
         "rawType": "object",
         "type": "string"
        },
        {
         "name": "os",
         "rawType": "object",
         "type": "string"
        },
        {
         "name": "year",
         "rawType": "int64",
         "type": "integer"
        },
        {
         "name": "battery",
         "rawType": "object",
         "type": "string"
        }
       ],
       "conversionMethod": "pd.DataFrame",
       "ref": "884a099b-4b6f-487c-8025-6f61133a3788",
       "rows": [
        [
         "0",
         "Laptop Acer Swift 5 SF514 53T 740R i7 8565U/8GB/256GB/Touch/Win10 (NX.H7KSV.002)",
         "9.480.000₫",
         "27.990.000₫",
         "1 tháng tại TGDĐ",
         "Intel Core i7 Coffee Lake - 8565U",
         "8 GB",
         "DDR4 (Onboard)",
         "256 GB SSD NVMe PCIe",
         "14 inch",
         "Full HD (1920 x 1080)",
         "Card tích hợp - Intel UHD Graphics 620",
         "Dài 329 mm - Rộng 228 mm - Dày 14.9 mm - Nặng 0.94 kg",
         "Nhôm - Magie",
         "Windows 10 Home SL",
         "2018",
         "2-cell Li-Polymer"
        ],
        [
         "1",
         "Laptop Acer Swift 5 SF514 53T 51EX i5 8265U/8GB/256GB/Touch/Win10 (NX.H7KSV.001)",
         "8.130.000₫",
         "23.990.000₫",
         "1 tháng tại TGDĐ",
         "Intel Core i5 Coffee Lake - 8265U",
         "8 GB",
         "DDR4 (Onboard)",
         "256 GB SSD NVMe PCIe",
         "14 inch",
         "Full HD (1920 x 1080)",
         "Card tích hợp - Intel UHD Graphics 620",
         "Dài 329 mm - Rộng 228 mm - Dày 14.9 mm - Nặng 0.97 kg",
         "Nhôm - Magie",
         "Windows 10 Home SL",
         "2018",
         "2-cell Li-Polymer"
        ],
        [
         "2",
         "Laptop Acer Swift 7 SF714 52T 76C6 i7 8500Y/16GB/512GB/Touch/Túi/Win10 (NX.H98SV.001)",
         "16.940.000₫",
         "49.990.000₫",
         "1 tháng tại TGDĐ",
         "Intel Core i7 Coffee Lake - 8500Y",
         "16 GB",
         "DDR3 (Onboard)",
         "512 GB SSD NVMe PCIe",
         "14 inch",
         "Full HD (1920 x 1080)",
         "Card tích hợp - Intel UHD Graphics 615",
         "Dài Dài 317.9 mm - Rộng Rộng 191.5 - Dày Dày 9.95 mm - Nặng 890 gram",
         "Nhôm - Magie",
         "Windows 10 Home SL",
         "2019",
         "3-cell Li-ion"
        ],
        [
         "4",
         "Laptop Acer Swift 3 SF315 52 50T9 i5 8250U/8GB/256GB/Win10 (NX.GZBSV.002)",
         "5.760.000₫",
         "16.990.000₫",
         "1 tháng tại TGDĐ",
         "Intel Core i5 Coffee Lake - 8250U",
         "8 GB",
         "DDR4 (Onboard +1 khe)",
         "Hỗ trợ khe cắm HDD SATA\n256 GB SSD M.2 SATA 3",
         "15.6 inch",
         "Full HD (1920 x 1080)",
         "Card tích hợp - Intel UHD Graphics 620",
         "Dài Dài 359 mm - Rộng Rộng 243 mm - Dày Dày 16.9 mm - Nặng 1.7 kg",
         "Vỏ kim loại",
         "Windows 10 Home SL",
         "2018",
         "Li-Polymer, 80 Wh"
        ],
        [
         "5",
         "Laptop CHUWI CoreBook X i5 8259U/16GB/512GB/Win10",
         "5.580.000₫",
         "15.490.000₫",
         "1 tháng tại TGDĐ",
         "Intel Core i5 Coffee Lake - 8259U",
         "16 GB",
         "DDR4 (Onboard)",
         "512 GB SSD\nHỗ trợ khe cắm SSD M.2 SATA3 (nâng cấp tối đa 1 TB)",
         "14 inch",
         "2.2K (2240x1400)",
         "Card tích hợp - Intel Iris Plus Graphics 655",
         "Dài 310 mm - Rộng 229.5 mm - Dày 20.6 mm - Nặng 1.5 kg",
         "Vỏ kim loại",
         "Windows 10 Home SL",
         "2021",
         "46.2 Wh"
        ],
        [
         "6",
         "Laptop CHUWI CoreBook X i5 8259U/16GB/512GB/Win10",
         "5.680.000₫",
         "15.490.000₫",
         "2.5 tháng chính hãng",
         "Intel Core i5 Coffee Lake - 8259U",
         "16 GB",
         "DDR4 (Onboard)",
         "512 GB SSD\nHỗ trợ khe cắm SSD M.2 SATA3 (nâng cấp tối đa 1 TB)",
         "14 inch",
         "2.2K (2240x1400)",
         "Card tích hợp - Intel Iris Plus Graphics 655",
         "Dài 310 mm - Rộng 229.5 mm - Dày 20.6 mm - Nặng 1.5 kg",
         "Vỏ kim loại",
         "Windows 10 Home SL",
         "2021",
         "46.2 Wh"
        ],
        [
         "7",
         "Laptop CHUWI CoreBook X i5 8259U/16GB/512GB/Win10",
         "5.710.000₫",
         "15.490.000₫",
         "3 tháng chính hãng",
         "Intel Core i5 Coffee Lake - 8259U",
         "16 GB",
         "DDR4 (Onboard)",
         "512 GB SSD\nHỗ trợ khe cắm SSD M.2 SATA3 (nâng cấp tối đa 1 TB)",
         "14 inch",
         "2.2K (2240x1400)",
         "Card tích hợp - Intel Iris Plus Graphics 655",
         "Dài 310 mm - Rộng 229.5 mm - Dày 20.6 mm - Nặng 1.5 kg",
         "Vỏ kim loại",
         "Windows 10 Home SL",
         "2021",
         "46.2 Wh"
        ],
        [
         "8",
         "Laptop CHUWI CoreBook X i5 8259U/16GB/512GB/Win10",
         "5.740.000₫",
         "15.490.000₫",
         "3.5 tháng chính hãng",
         "Intel Core i5 Coffee Lake - 8259U",
         "16 GB",
         "DDR4 (Onboard)",
         "512 GB SSD\nHỗ trợ khe cắm SSD M.2 SATA3 (nâng cấp tối đa 1 TB)",
         "14 inch",
         "2.2K (2240x1400)",
         "Card tích hợp - Intel Iris Plus Graphics 655",
         "Dài 310 mm - Rộng 229.5 mm - Dày 20.6 mm - Nặng 1.5 kg",
         "Vỏ kim loại",
         "Windows 10 Home SL",
         "2021",
         "46.2 Wh"
        ],
        [
         "9",
         "Laptop CHUWI CoreBook X i5 8259U/16GB/512GB/Win10",
         "5.770.000₫",
         "15.490.000₫",
         "4 tháng chính hãng",
         "Intel Core i5 Coffee Lake - 8259U",
         "16 GB",
         "DDR4 (Onboard)",
         "512 GB SSD\nHỗ trợ khe cắm SSD M.2 SATA3 (nâng cấp tối đa 1 TB)",
         "14 inch",
         "2.2K (2240x1400)",
         "Card tích hợp - Intel Iris Plus Graphics 655",
         "Dài 310 mm - Rộng 229.5 mm - Dày 20.6 mm - Nặng 1.5 kg",
         "Vỏ kim loại",
         "Windows 10 Home SL",
         "2021",
         "46.2 Wh"
        ]
       ],
       "shape": {
        "columns": 16,
        "rows": 9
       }
      },
      "text/html": [
       "<div>\n",
       "<style scoped>\n",
       "    .dataframe tbody tr th:only-of-type {\n",
       "        vertical-align: middle;\n",
       "    }\n",
       "\n",
       "    .dataframe tbody tr th {\n",
       "        vertical-align: top;\n",
       "    }\n",
       "\n",
       "    .dataframe thead th {\n",
       "        text-align: right;\n",
       "    }\n",
       "</style>\n",
       "<table border=\"1\" class=\"dataframe\">\n",
       "  <thead>\n",
       "    <tr style=\"text-align: right;\">\n",
       "      <th></th>\n",
       "      <th>name</th>\n",
       "      <th>price_old</th>\n",
       "      <th>price_new</th>\n",
       "      <th>warranty</th>\n",
       "      <th>CPU</th>\n",
       "      <th>Ram_size</th>\n",
       "      <th>Ram_type</th>\n",
       "      <th>Hard_Drive</th>\n",
       "      <th>screen</th>\n",
       "      <th>resolution</th>\n",
       "      <th>graphics</th>\n",
       "      <th>size_weight</th>\n",
       "      <th>material</th>\n",
       "      <th>os</th>\n",
       "      <th>year</th>\n",
       "      <th>battery</th>\n",
       "    </tr>\n",
       "  </thead>\n",
       "  <tbody>\n",
       "    <tr>\n",
       "      <th>0</th>\n",
       "      <td>Laptop Acer Swift 5 SF514 53T 740R i7 8565U/8G...</td>\n",
       "      <td>9.480.000₫</td>\n",
       "      <td>27.990.000₫</td>\n",
       "      <td>1 tháng tại TGDĐ</td>\n",
       "      <td>Intel Core i7 Coffee Lake - 8565U</td>\n",
       "      <td>8 GB</td>\n",
       "      <td>DDR4 (Onboard)</td>\n",
       "      <td>256 GB SSD NVMe PCIe</td>\n",
       "      <td>14 inch</td>\n",
       "      <td>Full HD (1920 x 1080)</td>\n",
       "      <td>Card tích hợp - Intel UHD Graphics 620</td>\n",
       "      <td>Dài 329 mm - Rộng 228 mm - Dày 14.9 mm - Nặng ...</td>\n",
       "      <td>Nhôm - Magie</td>\n",
       "      <td>Windows 10 Home SL</td>\n",
       "      <td>2018</td>\n",
       "      <td>2-cell Li-Polymer</td>\n",
       "    </tr>\n",
       "    <tr>\n",
       "      <th>1</th>\n",
       "      <td>Laptop Acer Swift 5 SF514 53T 51EX i5 8265U/8G...</td>\n",
       "      <td>8.130.000₫</td>\n",
       "      <td>23.990.000₫</td>\n",
       "      <td>1 tháng tại TGDĐ</td>\n",
       "      <td>Intel Core i5 Coffee Lake - 8265U</td>\n",
       "      <td>8 GB</td>\n",
       "      <td>DDR4 (Onboard)</td>\n",
       "      <td>256 GB SSD NVMe PCIe</td>\n",
       "      <td>14 inch</td>\n",
       "      <td>Full HD (1920 x 1080)</td>\n",
       "      <td>Card tích hợp - Intel UHD Graphics 620</td>\n",
       "      <td>Dài 329 mm - Rộng 228 mm - Dày 14.9 mm - Nặng ...</td>\n",
       "      <td>Nhôm - Magie</td>\n",
       "      <td>Windows 10 Home SL</td>\n",
       "      <td>2018</td>\n",
       "      <td>2-cell Li-Polymer</td>\n",
       "    </tr>\n",
       "    <tr>\n",
       "      <th>2</th>\n",
       "      <td>Laptop Acer Swift 7 SF714 52T 76C6 i7 8500Y/16...</td>\n",
       "      <td>16.940.000₫</td>\n",
       "      <td>49.990.000₫</td>\n",
       "      <td>1 tháng tại TGDĐ</td>\n",
       "      <td>Intel Core i7 Coffee Lake - 8500Y</td>\n",
       "      <td>16 GB</td>\n",
       "      <td>DDR3 (Onboard)</td>\n",
       "      <td>512 GB SSD NVMe PCIe</td>\n",
       "      <td>14 inch</td>\n",
       "      <td>Full HD (1920 x 1080)</td>\n",
       "      <td>Card tích hợp - Intel UHD Graphics 615</td>\n",
       "      <td>Dài Dài 317.9 mm - Rộng Rộng 191.5 - Dày Dày 9...</td>\n",
       "      <td>Nhôm - Magie</td>\n",
       "      <td>Windows 10 Home SL</td>\n",
       "      <td>2019</td>\n",
       "      <td>3-cell Li-ion</td>\n",
       "    </tr>\n",
       "    <tr>\n",
       "      <th>4</th>\n",
       "      <td>Laptop Acer Swift 3 SF315 52 50T9 i5 8250U/8GB...</td>\n",
       "      <td>5.760.000₫</td>\n",
       "      <td>16.990.000₫</td>\n",
       "      <td>1 tháng tại TGDĐ</td>\n",
       "      <td>Intel Core i5 Coffee Lake - 8250U</td>\n",
       "      <td>8 GB</td>\n",
       "      <td>DDR4 (Onboard +1 khe)</td>\n",
       "      <td>Hỗ trợ khe cắm HDD SATA\\n256 GB SSD M.2 SATA 3</td>\n",
       "      <td>15.6 inch</td>\n",
       "      <td>Full HD (1920 x 1080)</td>\n",
       "      <td>Card tích hợp - Intel UHD Graphics 620</td>\n",
       "      <td>Dài Dài 359 mm - Rộng Rộng 243 mm - Dày Dày 16...</td>\n",
       "      <td>Vỏ kim loại</td>\n",
       "      <td>Windows 10 Home SL</td>\n",
       "      <td>2018</td>\n",
       "      <td>Li-Polymer, 80 Wh</td>\n",
       "    </tr>\n",
       "    <tr>\n",
       "      <th>5</th>\n",
       "      <td>Laptop CHUWI CoreBook X i5 8259U/16GB/512GB/Win10</td>\n",
       "      <td>5.580.000₫</td>\n",
       "      <td>15.490.000₫</td>\n",
       "      <td>1 tháng tại TGDĐ</td>\n",
       "      <td>Intel Core i5 Coffee Lake - 8259U</td>\n",
       "      <td>16 GB</td>\n",
       "      <td>DDR4 (Onboard)</td>\n",
       "      <td>512 GB SSD\\nHỗ trợ khe cắm SSD M.2 SATA3 (nâng...</td>\n",
       "      <td>14 inch</td>\n",
       "      <td>2.2K (2240x1400)</td>\n",
       "      <td>Card tích hợp - Intel Iris Plus Graphics 655</td>\n",
       "      <td>Dài 310 mm - Rộng 229.5 mm - Dày 20.6 mm - Nặn...</td>\n",
       "      <td>Vỏ kim loại</td>\n",
       "      <td>Windows 10 Home SL</td>\n",
       "      <td>2021</td>\n",
       "      <td>46.2 Wh</td>\n",
       "    </tr>\n",
       "    <tr>\n",
       "      <th>6</th>\n",
       "      <td>Laptop CHUWI CoreBook X i5 8259U/16GB/512GB/Win10</td>\n",
       "      <td>5.680.000₫</td>\n",
       "      <td>15.490.000₫</td>\n",
       "      <td>2.5 tháng chính hãng</td>\n",
       "      <td>Intel Core i5 Coffee Lake - 8259U</td>\n",
       "      <td>16 GB</td>\n",
       "      <td>DDR4 (Onboard)</td>\n",
       "      <td>512 GB SSD\\nHỗ trợ khe cắm SSD M.2 SATA3 (nâng...</td>\n",
       "      <td>14 inch</td>\n",
       "      <td>2.2K (2240x1400)</td>\n",
       "      <td>Card tích hợp - Intel Iris Plus Graphics 655</td>\n",
       "      <td>Dài 310 mm - Rộng 229.5 mm - Dày 20.6 mm - Nặn...</td>\n",
       "      <td>Vỏ kim loại</td>\n",
       "      <td>Windows 10 Home SL</td>\n",
       "      <td>2021</td>\n",
       "      <td>46.2 Wh</td>\n",
       "    </tr>\n",
       "    <tr>\n",
       "      <th>7</th>\n",
       "      <td>Laptop CHUWI CoreBook X i5 8259U/16GB/512GB/Win10</td>\n",
       "      <td>5.710.000₫</td>\n",
       "      <td>15.490.000₫</td>\n",
       "      <td>3 tháng chính hãng</td>\n",
       "      <td>Intel Core i5 Coffee Lake - 8259U</td>\n",
       "      <td>16 GB</td>\n",
       "      <td>DDR4 (Onboard)</td>\n",
       "      <td>512 GB SSD\\nHỗ trợ khe cắm SSD M.2 SATA3 (nâng...</td>\n",
       "      <td>14 inch</td>\n",
       "      <td>2.2K (2240x1400)</td>\n",
       "      <td>Card tích hợp - Intel Iris Plus Graphics 655</td>\n",
       "      <td>Dài 310 mm - Rộng 229.5 mm - Dày 20.6 mm - Nặn...</td>\n",
       "      <td>Vỏ kim loại</td>\n",
       "      <td>Windows 10 Home SL</td>\n",
       "      <td>2021</td>\n",
       "      <td>46.2 Wh</td>\n",
       "    </tr>\n",
       "    <tr>\n",
       "      <th>8</th>\n",
       "      <td>Laptop CHUWI CoreBook X i5 8259U/16GB/512GB/Win10</td>\n",
       "      <td>5.740.000₫</td>\n",
       "      <td>15.490.000₫</td>\n",
       "      <td>3.5 tháng chính hãng</td>\n",
       "      <td>Intel Core i5 Coffee Lake - 8259U</td>\n",
       "      <td>16 GB</td>\n",
       "      <td>DDR4 (Onboard)</td>\n",
       "      <td>512 GB SSD\\nHỗ trợ khe cắm SSD M.2 SATA3 (nâng...</td>\n",
       "      <td>14 inch</td>\n",
       "      <td>2.2K (2240x1400)</td>\n",
       "      <td>Card tích hợp - Intel Iris Plus Graphics 655</td>\n",
       "      <td>Dài 310 mm - Rộng 229.5 mm - Dày 20.6 mm - Nặn...</td>\n",
       "      <td>Vỏ kim loại</td>\n",
       "      <td>Windows 10 Home SL</td>\n",
       "      <td>2021</td>\n",
       "      <td>46.2 Wh</td>\n",
       "    </tr>\n",
       "    <tr>\n",
       "      <th>9</th>\n",
       "      <td>Laptop CHUWI CoreBook X i5 8259U/16GB/512GB/Win10</td>\n",
       "      <td>5.770.000₫</td>\n",
       "      <td>15.490.000₫</td>\n",
       "      <td>4 tháng chính hãng</td>\n",
       "      <td>Intel Core i5 Coffee Lake - 8259U</td>\n",
       "      <td>16 GB</td>\n",
       "      <td>DDR4 (Onboard)</td>\n",
       "      <td>512 GB SSD\\nHỗ trợ khe cắm SSD M.2 SATA3 (nâng...</td>\n",
       "      <td>14 inch</td>\n",
       "      <td>2.2K (2240x1400)</td>\n",
       "      <td>Card tích hợp - Intel Iris Plus Graphics 655</td>\n",
       "      <td>Dài 310 mm - Rộng 229.5 mm - Dày 20.6 mm - Nặn...</td>\n",
       "      <td>Vỏ kim loại</td>\n",
       "      <td>Windows 10 Home SL</td>\n",
       "      <td>2021</td>\n",
       "      <td>46.2 Wh</td>\n",
       "    </tr>\n",
       "  </tbody>\n",
       "</table>\n",
       "</div>"
      ],
      "text/plain": [
       "                                                name    price_old  \\\n",
       "0  Laptop Acer Swift 5 SF514 53T 740R i7 8565U/8G...   9.480.000₫   \n",
       "1  Laptop Acer Swift 5 SF514 53T 51EX i5 8265U/8G...   8.130.000₫   \n",
       "2  Laptop Acer Swift 7 SF714 52T 76C6 i7 8500Y/16...  16.940.000₫   \n",
       "4  Laptop Acer Swift 3 SF315 52 50T9 i5 8250U/8GB...   5.760.000₫   \n",
       "5  Laptop CHUWI CoreBook X i5 8259U/16GB/512GB/Win10   5.580.000₫   \n",
       "6  Laptop CHUWI CoreBook X i5 8259U/16GB/512GB/Win10   5.680.000₫   \n",
       "7  Laptop CHUWI CoreBook X i5 8259U/16GB/512GB/Win10   5.710.000₫   \n",
       "8  Laptop CHUWI CoreBook X i5 8259U/16GB/512GB/Win10   5.740.000₫   \n",
       "9  Laptop CHUWI CoreBook X i5 8259U/16GB/512GB/Win10   5.770.000₫   \n",
       "\n",
       "     price_new              warranty                                CPU  \\\n",
       "0  27.990.000₫      1 tháng tại TGDĐ  Intel Core i7 Coffee Lake - 8565U   \n",
       "1  23.990.000₫      1 tháng tại TGDĐ  Intel Core i5 Coffee Lake - 8265U   \n",
       "2  49.990.000₫      1 tháng tại TGDĐ  Intel Core i7 Coffee Lake - 8500Y   \n",
       "4  16.990.000₫      1 tháng tại TGDĐ  Intel Core i5 Coffee Lake - 8250U   \n",
       "5  15.490.000₫      1 tháng tại TGDĐ  Intel Core i5 Coffee Lake - 8259U   \n",
       "6  15.490.000₫  2.5 tháng chính hãng  Intel Core i5 Coffee Lake - 8259U   \n",
       "7  15.490.000₫    3 tháng chính hãng  Intel Core i5 Coffee Lake - 8259U   \n",
       "8  15.490.000₫  3.5 tháng chính hãng  Intel Core i5 Coffee Lake - 8259U   \n",
       "9  15.490.000₫    4 tháng chính hãng  Intel Core i5 Coffee Lake - 8259U   \n",
       "\n",
       "  Ram_size               Ram_type  \\\n",
       "0     8 GB         DDR4 (Onboard)   \n",
       "1     8 GB         DDR4 (Onboard)   \n",
       "2    16 GB         DDR3 (Onboard)   \n",
       "4     8 GB  DDR4 (Onboard +1 khe)   \n",
       "5    16 GB         DDR4 (Onboard)   \n",
       "6    16 GB         DDR4 (Onboard)   \n",
       "7    16 GB         DDR4 (Onboard)   \n",
       "8    16 GB         DDR4 (Onboard)   \n",
       "9    16 GB         DDR4 (Onboard)   \n",
       "\n",
       "                                          Hard_Drive     screen  \\\n",
       "0                               256 GB SSD NVMe PCIe    14 inch   \n",
       "1                               256 GB SSD NVMe PCIe    14 inch   \n",
       "2                               512 GB SSD NVMe PCIe    14 inch   \n",
       "4     Hỗ trợ khe cắm HDD SATA\\n256 GB SSD M.2 SATA 3  15.6 inch   \n",
       "5  512 GB SSD\\nHỗ trợ khe cắm SSD M.2 SATA3 (nâng...    14 inch   \n",
       "6  512 GB SSD\\nHỗ trợ khe cắm SSD M.2 SATA3 (nâng...    14 inch   \n",
       "7  512 GB SSD\\nHỗ trợ khe cắm SSD M.2 SATA3 (nâng...    14 inch   \n",
       "8  512 GB SSD\\nHỗ trợ khe cắm SSD M.2 SATA3 (nâng...    14 inch   \n",
       "9  512 GB SSD\\nHỗ trợ khe cắm SSD M.2 SATA3 (nâng...    14 inch   \n",
       "\n",
       "              resolution                                      graphics  \\\n",
       "0  Full HD (1920 x 1080)        Card tích hợp - Intel UHD Graphics 620   \n",
       "1  Full HD (1920 x 1080)        Card tích hợp - Intel UHD Graphics 620   \n",
       "2  Full HD (1920 x 1080)        Card tích hợp - Intel UHD Graphics 615   \n",
       "4  Full HD (1920 x 1080)        Card tích hợp - Intel UHD Graphics 620   \n",
       "5       2.2K (2240x1400)  Card tích hợp - Intel Iris Plus Graphics 655   \n",
       "6       2.2K (2240x1400)  Card tích hợp - Intel Iris Plus Graphics 655   \n",
       "7       2.2K (2240x1400)  Card tích hợp - Intel Iris Plus Graphics 655   \n",
       "8       2.2K (2240x1400)  Card tích hợp - Intel Iris Plus Graphics 655   \n",
       "9       2.2K (2240x1400)  Card tích hợp - Intel Iris Plus Graphics 655   \n",
       "\n",
       "                                         size_weight      material  \\\n",
       "0  Dài 329 mm - Rộng 228 mm - Dày 14.9 mm - Nặng ...  Nhôm - Magie   \n",
       "1  Dài 329 mm - Rộng 228 mm - Dày 14.9 mm - Nặng ...  Nhôm - Magie   \n",
       "2  Dài Dài 317.9 mm - Rộng Rộng 191.5 - Dày Dày 9...  Nhôm - Magie   \n",
       "4  Dài Dài 359 mm - Rộng Rộng 243 mm - Dày Dày 16...   Vỏ kim loại   \n",
       "5  Dài 310 mm - Rộng 229.5 mm - Dày 20.6 mm - Nặn...   Vỏ kim loại   \n",
       "6  Dài 310 mm - Rộng 229.5 mm - Dày 20.6 mm - Nặn...   Vỏ kim loại   \n",
       "7  Dài 310 mm - Rộng 229.5 mm - Dày 20.6 mm - Nặn...   Vỏ kim loại   \n",
       "8  Dài 310 mm - Rộng 229.5 mm - Dày 20.6 mm - Nặn...   Vỏ kim loại   \n",
       "9  Dài 310 mm - Rộng 229.5 mm - Dày 20.6 mm - Nặn...   Vỏ kim loại   \n",
       "\n",
       "                   os  year            battery  \n",
       "0  Windows 10 Home SL  2018  2-cell Li-Polymer  \n",
       "1  Windows 10 Home SL  2018  2-cell Li-Polymer  \n",
       "2  Windows 10 Home SL  2019      3-cell Li-ion  \n",
       "4  Windows 10 Home SL  2018  Li-Polymer, 80 Wh  \n",
       "5  Windows 10 Home SL  2021            46.2 Wh  \n",
       "6  Windows 10 Home SL  2021            46.2 Wh  \n",
       "7  Windows 10 Home SL  2021            46.2 Wh  \n",
       "8  Windows 10 Home SL  2021            46.2 Wh  \n",
       "9  Windows 10 Home SL  2021            46.2 Wh  "
      ]
     },
     "execution_count": 138,
     "metadata": {},
     "output_type": "execute_result"
    }
   ],
   "source": [
    "df[df['Ram_size'].isin(['8 GB', '16 GB'])]"
   ]
  },
  {
   "cell_type": "markdown",
   "id": "a9f5dacb",
   "metadata": {},
   "source": [
    "### Xử lý null"
   ]
  },
  {
   "cell_type": "code",
   "execution_count": 127,
   "id": "43030fc4",
   "metadata": {},
   "outputs": [
    {
     "data": {
      "text/plain": [
       "bikes      0\n",
       "pants      0\n",
       "watches    0\n",
       "shirts     1\n",
       "shoes      0\n",
       "suits      1\n",
       "glasses    1\n",
       "dtype: int64"
      ]
     },
     "execution_count": 127,
     "metadata": {},
     "output_type": "execute_result"
    }
   ],
   "source": [
    "store_items.isnull().sum()"
   ]
  },
  {
   "cell_type": "code",
   "execution_count": null,
   "id": "1fb00527",
   "metadata": {},
   "outputs": [
    {
     "data": {
      "application/vnd.microsoft.datawrangler.viewer.v0+json": {
       "columns": [
        {
         "name": "index",
         "rawType": "object",
         "type": "string"
        },
        {
         "name": "bikes",
         "rawType": "int64",
         "type": "integer"
        },
        {
         "name": "pants",
         "rawType": "int64",
         "type": "integer"
        },
        {
         "name": "watches",
         "rawType": "int64",
         "type": "integer"
        },
        {
         "name": "shirts",
         "rawType": "float64",
         "type": "float"
        },
        {
         "name": "shoes",
         "rawType": "int64",
         "type": "integer"
        },
        {
         "name": "suits",
         "rawType": "float64",
         "type": "float"
        },
        {
         "name": "glasses",
         "rawType": "float64",
         "type": "float"
        }
       ],
       "conversionMethod": "pd.DataFrame",
       "ref": "73a3549b-e913-48ef-b467-1d41e895f188",
       "rows": [
        [
         "store 1",
         "20",
         "30",
         "35",
         "15.0",
         "8",
         "45.0",
         "0.0"
        ],
        [
         "store 2",
         "15",
         "5",
         "10",
         "2.0",
         "5",
         "7.0",
         "50.0"
        ],
        [
         "store 3",
         "20",
         "30",
         "35",
         "0.0",
         "10",
         "0.0",
         "4.0"
        ]
       ],
       "shape": {
        "columns": 7,
        "rows": 3
       }
      },
      "text/html": [
       "<div>\n",
       "<style scoped>\n",
       "    .dataframe tbody tr th:only-of-type {\n",
       "        vertical-align: middle;\n",
       "    }\n",
       "\n",
       "    .dataframe tbody tr th {\n",
       "        vertical-align: top;\n",
       "    }\n",
       "\n",
       "    .dataframe thead th {\n",
       "        text-align: right;\n",
       "    }\n",
       "</style>\n",
       "<table border=\"1\" class=\"dataframe\">\n",
       "  <thead>\n",
       "    <tr style=\"text-align: right;\">\n",
       "      <th></th>\n",
       "      <th>bikes</th>\n",
       "      <th>pants</th>\n",
       "      <th>watches</th>\n",
       "      <th>shirts</th>\n",
       "      <th>shoes</th>\n",
       "      <th>suits</th>\n",
       "      <th>glasses</th>\n",
       "    </tr>\n",
       "  </thead>\n",
       "  <tbody>\n",
       "    <tr>\n",
       "      <th>store 1</th>\n",
       "      <td>20</td>\n",
       "      <td>30</td>\n",
       "      <td>35</td>\n",
       "      <td>15.0</td>\n",
       "      <td>8</td>\n",
       "      <td>45.0</td>\n",
       "      <td>0.0</td>\n",
       "    </tr>\n",
       "    <tr>\n",
       "      <th>store 2</th>\n",
       "      <td>15</td>\n",
       "      <td>5</td>\n",
       "      <td>10</td>\n",
       "      <td>2.0</td>\n",
       "      <td>5</td>\n",
       "      <td>7.0</td>\n",
       "      <td>50.0</td>\n",
       "    </tr>\n",
       "    <tr>\n",
       "      <th>store 3</th>\n",
       "      <td>20</td>\n",
       "      <td>30</td>\n",
       "      <td>35</td>\n",
       "      <td>0.0</td>\n",
       "      <td>10</td>\n",
       "      <td>0.0</td>\n",
       "      <td>4.0</td>\n",
       "    </tr>\n",
       "  </tbody>\n",
       "</table>\n",
       "</div>"
      ],
      "text/plain": [
       "         bikes  pants  watches  shirts  shoes  suits  glasses\n",
       "store 1     20     30       35    15.0      8   45.0      0.0\n",
       "store 2     15      5       10     2.0      5    7.0     50.0\n",
       "store 3     20     30       35     0.0     10    0.0      4.0"
      ]
     },
     "execution_count": 128,
     "metadata": {},
     "output_type": "execute_result"
    }
   ],
   "source": [
    "store_items = store_items.fillna(0)\n",
    "store_items\n",
    "# không nên drop vì nó sẽ mất luôn cả hàng hàng và cột"
   ]
  },
  {
   "cell_type": "code",
   "execution_count": 141,
   "id": "81a8a050",
   "metadata": {},
   "outputs": [
    {
     "data": {
      "application/vnd.microsoft.datawrangler.viewer.v0+json": {
       "columns": [
        {
         "name": "index",
         "rawType": "object",
         "type": "string"
        },
        {
         "name": "bikes",
         "rawType": "int64",
         "type": "integer"
        },
        {
         "name": "pants",
         "rawType": "int64",
         "type": "integer"
        },
        {
         "name": "watches",
         "rawType": "int64",
         "type": "integer"
        },
        {
         "name": "shirts",
         "rawType": "float64",
         "type": "float"
        },
        {
         "name": "shoes",
         "rawType": "int64",
         "type": "integer"
        },
        {
         "name": "suits",
         "rawType": "float64",
         "type": "float"
        },
        {
         "name": "glasses",
         "rawType": "float64",
         "type": "float"
        }
       ],
       "conversionMethod": "pd.DataFrame",
       "ref": "830d9177-5f27-4ecb-80bb-9aba022e19d0",
       "rows": [
        [
         "store 1",
         "20",
         "30",
         "35",
         "15.0",
         "8",
         "45.0",
         "0.0"
        ],
        [
         "store 2",
         "15",
         "5",
         "10",
         "2.0",
         "5",
         "7.0",
         "50.0"
        ],
        [
         "store 3",
         "20",
         "30",
         "35",
         "0.0",
         "10",
         "0.0",
         "4.0"
        ]
       ],
       "shape": {
        "columns": 7,
        "rows": 3
       }
      },
      "text/html": [
       "<div>\n",
       "<style scoped>\n",
       "    .dataframe tbody tr th:only-of-type {\n",
       "        vertical-align: middle;\n",
       "    }\n",
       "\n",
       "    .dataframe tbody tr th {\n",
       "        vertical-align: top;\n",
       "    }\n",
       "\n",
       "    .dataframe thead th {\n",
       "        text-align: right;\n",
       "    }\n",
       "</style>\n",
       "<table border=\"1\" class=\"dataframe\">\n",
       "  <thead>\n",
       "    <tr style=\"text-align: right;\">\n",
       "      <th></th>\n",
       "      <th>bikes</th>\n",
       "      <th>pants</th>\n",
       "      <th>watches</th>\n",
       "      <th>shirts</th>\n",
       "      <th>shoes</th>\n",
       "      <th>suits</th>\n",
       "      <th>glasses</th>\n",
       "    </tr>\n",
       "  </thead>\n",
       "  <tbody>\n",
       "    <tr>\n",
       "      <th>store 1</th>\n",
       "      <td>20</td>\n",
       "      <td>30</td>\n",
       "      <td>35</td>\n",
       "      <td>15.0</td>\n",
       "      <td>8</td>\n",
       "      <td>45.0</td>\n",
       "      <td>0.0</td>\n",
       "    </tr>\n",
       "    <tr>\n",
       "      <th>store 2</th>\n",
       "      <td>15</td>\n",
       "      <td>5</td>\n",
       "      <td>10</td>\n",
       "      <td>2.0</td>\n",
       "      <td>5</td>\n",
       "      <td>7.0</td>\n",
       "      <td>50.0</td>\n",
       "    </tr>\n",
       "    <tr>\n",
       "      <th>store 3</th>\n",
       "      <td>20</td>\n",
       "      <td>30</td>\n",
       "      <td>35</td>\n",
       "      <td>0.0</td>\n",
       "      <td>10</td>\n",
       "      <td>0.0</td>\n",
       "      <td>4.0</td>\n",
       "    </tr>\n",
       "  </tbody>\n",
       "</table>\n",
       "</div>"
      ],
      "text/plain": [
       "         bikes  pants  watches  shirts  shoes  suits  glasses\n",
       "store 1     20     30       35    15.0      8   45.0      0.0\n",
       "store 2     15      5       10     2.0      5    7.0     50.0\n",
       "store 3     20     30       35     0.0     10    0.0      4.0"
      ]
     },
     "execution_count": 141,
     "metadata": {},
     "output_type": "execute_result"
    }
   ],
   "source": [
    "store_items[store_items.notnull()]"
   ]
  },
  {
   "cell_type": "code",
   "execution_count": 45,
   "id": "03ac7f80",
   "metadata": {},
   "outputs": [
    {
     "data": {
      "application/vnd.microsoft.datawrangler.viewer.v0+json": {
       "columns": [
        {
         "name": "index",
         "rawType": "object",
         "type": "string"
        },
        {
         "name": "bikes",
         "rawType": "int64",
         "type": "integer"
        },
        {
         "name": "pants",
         "rawType": "int64",
         "type": "integer"
        },
        {
         "name": "watches",
         "rawType": "int64",
         "type": "integer"
        },
        {
         "name": "shirts",
         "rawType": "float64",
         "type": "float"
        },
        {
         "name": "shoes",
         "rawType": "int64",
         "type": "integer"
        },
        {
         "name": "suits",
         "rawType": "float64",
         "type": "float"
        },
        {
         "name": "glasses",
         "rawType": "float64",
         "type": "float"
        }
       ],
       "conversionMethod": "pd.DataFrame",
       "ref": "f5094a9d-66bd-4f96-9793-8b7d27dc6c2f",
       "rows": [
        [
         "store 1",
         "20",
         "30",
         "35",
         "15.0",
         "8",
         "45.0",
         null
        ],
        [
         "store 2",
         "15",
         "5",
         "10",
         "2.0",
         "5",
         "7.0",
         "50.0"
        ],
        [
         "store 3",
         "20",
         "30",
         "35",
         null,
         "10",
         null,
         "4.0"
        ]
       ],
       "shape": {
        "columns": 7,
        "rows": 3
       }
      },
      "text/html": [
       "<div>\n",
       "<style scoped>\n",
       "    .dataframe tbody tr th:only-of-type {\n",
       "        vertical-align: middle;\n",
       "    }\n",
       "\n",
       "    .dataframe tbody tr th {\n",
       "        vertical-align: top;\n",
       "    }\n",
       "\n",
       "    .dataframe thead th {\n",
       "        text-align: right;\n",
       "    }\n",
       "</style>\n",
       "<table border=\"1\" class=\"dataframe\">\n",
       "  <thead>\n",
       "    <tr style=\"text-align: right;\">\n",
       "      <th></th>\n",
       "      <th>bikes</th>\n",
       "      <th>pants</th>\n",
       "      <th>watches</th>\n",
       "      <th>shirts</th>\n",
       "      <th>shoes</th>\n",
       "      <th>suits</th>\n",
       "      <th>glasses</th>\n",
       "    </tr>\n",
       "  </thead>\n",
       "  <tbody>\n",
       "    <tr>\n",
       "      <th>store 1</th>\n",
       "      <td>20</td>\n",
       "      <td>30</td>\n",
       "      <td>35</td>\n",
       "      <td>15.0</td>\n",
       "      <td>8</td>\n",
       "      <td>45.0</td>\n",
       "      <td>NaN</td>\n",
       "    </tr>\n",
       "    <tr>\n",
       "      <th>store 2</th>\n",
       "      <td>15</td>\n",
       "      <td>5</td>\n",
       "      <td>10</td>\n",
       "      <td>2.0</td>\n",
       "      <td>5</td>\n",
       "      <td>7.0</td>\n",
       "      <td>50.0</td>\n",
       "    </tr>\n",
       "    <tr>\n",
       "      <th>store 3</th>\n",
       "      <td>20</td>\n",
       "      <td>30</td>\n",
       "      <td>35</td>\n",
       "      <td>NaN</td>\n",
       "      <td>10</td>\n",
       "      <td>NaN</td>\n",
       "      <td>4.0</td>\n",
       "    </tr>\n",
       "  </tbody>\n",
       "</table>\n",
       "</div>"
      ],
      "text/plain": [
       "         bikes  pants  watches  shirts  shoes  suits  glasses\n",
       "store 1     20     30       35    15.0      8   45.0      NaN\n",
       "store 2     15      5       10     2.0      5    7.0     50.0\n",
       "store 3     20     30       35     NaN     10    NaN      4.0"
      ]
     },
     "execution_count": 45,
     "metadata": {},
     "output_type": "execute_result"
    }
   ],
   "source": [
    "store_items.dropna(subset=['shirts', 'glasses']).sort_values(['bikes', 'pants'], ascending=True)\n",
    "store_items"
   ]
  },
  {
   "cell_type": "markdown",
   "id": "a1048b83",
   "metadata": {},
   "source": [
    "### Gom nhóm và aggregating data"
   ]
  },
  {
   "cell_type": "code",
   "execution_count": null,
   "id": "ded2b2ef",
   "metadata": {},
   "outputs": [
    {
     "data": {
      "application/vnd.microsoft.datawrangler.viewer.v0+json": {
       "columns": [
        {
         "name": "Ram_size",
         "rawType": "object",
         "type": "string"
        },
        {
         "name": "name",
         "rawType": "object",
         "type": "string"
        },
        {
         "name": "price_old",
         "rawType": "object",
         "type": "string"
        },
        {
         "name": "price_new",
         "rawType": "object",
         "type": "string"
        },
        {
         "name": "warranty",
         "rawType": "object",
         "type": "string"
        },
        {
         "name": "CPU",
         "rawType": "object",
         "type": "string"
        },
        {
         "name": "Ram_type",
         "rawType": "object",
         "type": "string"
        },
        {
         "name": "Hard_Drive",
         "rawType": "object",
         "type": "string"
        },
        {
         "name": "screen",
         "rawType": "object",
         "type": "string"
        },
        {
         "name": "resolution",
         "rawType": "object",
         "type": "string"
        },
        {
         "name": "graphics",
         "rawType": "object",
         "type": "string"
        },
        {
         "name": "size_weight",
         "rawType": "object",
         "type": "string"
        },
        {
         "name": "material",
         "rawType": "object",
         "type": "string"
        },
        {
         "name": "os",
         "rawType": "object",
         "type": "string"
        },
        {
         "name": "year",
         "rawType": "int64",
         "type": "integer"
        },
        {
         "name": "battery",
         "rawType": "object",
         "type": "string"
        }
       ],
       "conversionMethod": "pd.DataFrame",
       "ref": "88434c34-9ffd-4c9c-8dfe-aa98f7c60d7b",
       "rows": [
        [
         "16 GB",
         "Laptop Acer Swift 7 SF714 52T 76C6 i7 8500Y/16GB/512GB/Touch/Túi/Win10 (NX.H98SV.001)Laptop CHUWI CoreBook X i5 8259U/16GB/512GB/Win10Laptop CHUWI CoreBook X i5 8259U/16GB/512GB/Win10Laptop CHUWI CoreBook X i5 8259U/16GB/512GB/Win10Laptop CHUWI CoreBook X i5 8259U/16GB/512GB/Win10Laptop CHUWI CoreBook X i5 8259U/16GB/512GB/Win10",
         "16.940.000₫5.580.000₫5.680.000₫5.710.000₫5.740.000₫5.770.000₫",
         "49.990.000₫15.490.000₫15.490.000₫15.490.000₫15.490.000₫15.490.000₫",
         "1 tháng tại TGDĐ1 tháng tại TGDĐ2.5 tháng chính hãng3 tháng chính hãng3.5 tháng chính hãng4 tháng chính hãng",
         "Intel Core i7 Coffee Lake - 8500YIntel Core i5 Coffee Lake - 8259UIntel Core i5 Coffee Lake - 8259UIntel Core i5 Coffee Lake - 8259UIntel Core i5 Coffee Lake - 8259UIntel Core i5 Coffee Lake - 8259U",
         "DDR3 (Onboard)DDR4 (Onboard)DDR4 (Onboard)DDR4 (Onboard)DDR4 (Onboard)DDR4 (Onboard)",
         "512 GB SSD NVMe PCIe512 GB SSD\nHỗ trợ khe cắm SSD M.2 SATA3 (nâng cấp tối đa 1 TB)512 GB SSD\nHỗ trợ khe cắm SSD M.2 SATA3 (nâng cấp tối đa 1 TB)512 GB SSD\nHỗ trợ khe cắm SSD M.2 SATA3 (nâng cấp tối đa 1 TB)512 GB SSD\nHỗ trợ khe cắm SSD M.2 SATA3 (nâng cấp tối đa 1 TB)512 GB SSD\nHỗ trợ khe cắm SSD M.2 SATA3 (nâng cấp tối đa 1 TB)",
         "14 inch14 inch14 inch14 inch14 inch14 inch",
         "Full HD (1920 x 1080)2.2K (2240x1400)2.2K (2240x1400)2.2K (2240x1400)2.2K (2240x1400)2.2K (2240x1400)",
         "Card tích hợp - Intel UHD Graphics 615Card tích hợp - Intel Iris Plus Graphics 655Card tích hợp - Intel Iris Plus Graphics 655Card tích hợp - Intel Iris Plus Graphics 655Card tích hợp - Intel Iris Plus Graphics 655Card tích hợp - Intel Iris Plus Graphics 655",
         "Dài Dài 317.9 mm - Rộng Rộng 191.5 - Dày Dày 9.95 mm - Nặng 890 gramDài 310 mm - Rộng 229.5 mm - Dày 20.6 mm - Nặng 1.5 kgDài 310 mm - Rộng 229.5 mm - Dày 20.6 mm - Nặng 1.5 kgDài 310 mm - Rộng 229.5 mm - Dày 20.6 mm - Nặng 1.5 kgDài 310 mm - Rộng 229.5 mm - Dày 20.6 mm - Nặng 1.5 kgDài 310 mm - Rộng 229.5 mm - Dày 20.6 mm - Nặng 1.5 kg",
         "Nhôm - MagieVỏ kim loạiVỏ kim loạiVỏ kim loạiVỏ kim loạiVỏ kim loại",
         "Windows 10 Home SLWindows 10 Home SLWindows 10 Home SLWindows 10 Home SLWindows 10 Home SLWindows 10 Home SL",
         "12124",
         "3-cell Li-ion46.2 Wh46.2 Wh46.2 Wh46.2 Wh46.2 Wh"
        ],
        [
         "4 GB",
         "Laptop Acer Switch 5 SW512 52P 34RS i3 7130U/4GB/128GB/Touch/Pen/Win10 (NT.LDTSV.004)",
         "7.620.000₫",
         "22.490.000₫",
         "1 tháng tại TGDĐ",
         "Intel Core i3 Kabylake - 7130U",
         "DDR3L",
         "128 GB SSD M2 PCIe",
         "12 inch",
         "2K (2160 x 1440)",
         "Card tích hợp - Intel UHD Graphics 620",
         "Dài Dài 292.9 mm - Rộng Rộng 201.8 mm - Dày Dày 9.6 mm - Nặng 0.92 kg",
         "Vỏ kim loại",
         "Windows 10 Home SL",
         "2019",
         "2-cell Li-ion"
        ],
        [
         "8 GB",
         "Laptop Acer Swift 5 SF514 53T 740R i7 8565U/8GB/256GB/Touch/Win10 (NX.H7KSV.002)Laptop Acer Swift 5 SF514 53T 51EX i5 8265U/8GB/256GB/Touch/Win10 (NX.H7KSV.001)Laptop Acer Swift 3 SF315 52 50T9 i5 8250U/8GB/256GB/Win10 (NX.GZBSV.002)",
         "9.480.000₫8.130.000₫5.760.000₫",
         "27.990.000₫23.990.000₫16.990.000₫",
         "1 tháng tại TGDĐ1 tháng tại TGDĐ1 tháng tại TGDĐ",
         "Intel Core i7 Coffee Lake - 8565UIntel Core i5 Coffee Lake - 8265UIntel Core i5 Coffee Lake - 8250U",
         "DDR4 (Onboard)DDR4 (Onboard)DDR4 (Onboard +1 khe)",
         "256 GB SSD NVMe PCIe256 GB SSD NVMe PCIeHỗ trợ khe cắm HDD SATA\n256 GB SSD M.2 SATA 3",
         "14 inch14 inch15.6 inch",
         "Full HD (1920 x 1080)Full HD (1920 x 1080)Full HD (1920 x 1080)",
         "Card tích hợp - Intel UHD Graphics 620Card tích hợp - Intel UHD Graphics 620Card tích hợp - Intel UHD Graphics 620",
         "Dài 329 mm - Rộng 228 mm - Dày 14.9 mm - Nặng 0.94 kgDài 329 mm - Rộng 228 mm - Dày 14.9 mm - Nặng 0.97 kgDài Dài 359 mm - Rộng Rộng 243 mm - Dày Dày 16.9 mm - Nặng 1.7 kg",
         "Nhôm - MagieNhôm - MagieVỏ kim loại",
         "Windows 10 Home SLWindows 10 Home SLWindows 10 Home SL",
         "6054",
         "2-cell Li-Polymer2-cell Li-PolymerLi-Polymer, 80 Wh"
        ]
       ],
       "shape": {
        "columns": 15,
        "rows": 3
       }
      },
      "text/html": [
       "<div>\n",
       "<style scoped>\n",
       "    .dataframe tbody tr th:only-of-type {\n",
       "        vertical-align: middle;\n",
       "    }\n",
       "\n",
       "    .dataframe tbody tr th {\n",
       "        vertical-align: top;\n",
       "    }\n",
       "\n",
       "    .dataframe thead th {\n",
       "        text-align: right;\n",
       "    }\n",
       "</style>\n",
       "<table border=\"1\" class=\"dataframe\">\n",
       "  <thead>\n",
       "    <tr style=\"text-align: right;\">\n",
       "      <th></th>\n",
       "      <th>name</th>\n",
       "      <th>price_old</th>\n",
       "      <th>price_new</th>\n",
       "      <th>warranty</th>\n",
       "      <th>CPU</th>\n",
       "      <th>Ram_type</th>\n",
       "      <th>Hard_Drive</th>\n",
       "      <th>screen</th>\n",
       "      <th>resolution</th>\n",
       "      <th>graphics</th>\n",
       "      <th>size_weight</th>\n",
       "      <th>material</th>\n",
       "      <th>os</th>\n",
       "      <th>year</th>\n",
       "      <th>battery</th>\n",
       "    </tr>\n",
       "    <tr>\n",
       "      <th>Ram_size</th>\n",
       "      <th></th>\n",
       "      <th></th>\n",
       "      <th></th>\n",
       "      <th></th>\n",
       "      <th></th>\n",
       "      <th></th>\n",
       "      <th></th>\n",
       "      <th></th>\n",
       "      <th></th>\n",
       "      <th></th>\n",
       "      <th></th>\n",
       "      <th></th>\n",
       "      <th></th>\n",
       "      <th></th>\n",
       "      <th></th>\n",
       "    </tr>\n",
       "  </thead>\n",
       "  <tbody>\n",
       "    <tr>\n",
       "      <th>16 GB</th>\n",
       "      <td>Laptop Acer Swift 7 SF714 52T 76C6 i7 8500Y/16...</td>\n",
       "      <td>16.940.000₫5.580.000₫5.680.000₫5.710.000₫5.740...</td>\n",
       "      <td>49.990.000₫15.490.000₫15.490.000₫15.490.000₫15...</td>\n",
       "      <td>1 tháng tại TGDĐ1 tháng tại TGDĐ2.5 tháng chín...</td>\n",
       "      <td>Intel Core i7 Coffee Lake - 8500YIntel Core i5...</td>\n",
       "      <td>DDR3 (Onboard)DDR4 (Onboard)DDR4 (Onboard)DDR4...</td>\n",
       "      <td>512 GB SSD NVMe PCIe512 GB SSD\\nHỗ trợ khe cắm...</td>\n",
       "      <td>14 inch14 inch14 inch14 inch14 inch14 inch</td>\n",
       "      <td>Full HD (1920 x 1080)2.2K (2240x1400)2.2K (224...</td>\n",
       "      <td>Card tích hợp - Intel UHD Graphics 615Card tíc...</td>\n",
       "      <td>Dài Dài 317.9 mm - Rộng Rộng 191.5 - Dày Dày 9...</td>\n",
       "      <td>Nhôm - MagieVỏ kim loạiVỏ kim loạiVỏ kim loạiV...</td>\n",
       "      <td>Windows 10 Home SLWindows 10 Home SLWindows 10...</td>\n",
       "      <td>12124</td>\n",
       "      <td>3-cell Li-ion46.2 Wh46.2 Wh46.2 Wh46.2 Wh46.2 Wh</td>\n",
       "    </tr>\n",
       "    <tr>\n",
       "      <th>4 GB</th>\n",
       "      <td>Laptop Acer Switch 5 SW512 52P 34RS i3 7130U/4...</td>\n",
       "      <td>7.620.000₫</td>\n",
       "      <td>22.490.000₫</td>\n",
       "      <td>1 tháng tại TGDĐ</td>\n",
       "      <td>Intel Core i3 Kabylake - 7130U</td>\n",
       "      <td>DDR3L</td>\n",
       "      <td>128 GB SSD M2 PCIe</td>\n",
       "      <td>12 inch</td>\n",
       "      <td>2K (2160 x 1440)</td>\n",
       "      <td>Card tích hợp - Intel UHD Graphics 620</td>\n",
       "      <td>Dài Dài 292.9 mm - Rộng Rộng 201.8 mm - Dày Dà...</td>\n",
       "      <td>Vỏ kim loại</td>\n",
       "      <td>Windows 10 Home SL</td>\n",
       "      <td>2019</td>\n",
       "      <td>2-cell Li-ion</td>\n",
       "    </tr>\n",
       "    <tr>\n",
       "      <th>8 GB</th>\n",
       "      <td>Laptop Acer Swift 5 SF514 53T 740R i7 8565U/8G...</td>\n",
       "      <td>9.480.000₫8.130.000₫5.760.000₫</td>\n",
       "      <td>27.990.000₫23.990.000₫16.990.000₫</td>\n",
       "      <td>1 tháng tại TGDĐ1 tháng tại TGDĐ1 tháng tại TGDĐ</td>\n",
       "      <td>Intel Core i7 Coffee Lake - 8565UIntel Core i5...</td>\n",
       "      <td>DDR4 (Onboard)DDR4 (Onboard)DDR4 (Onboard +1 khe)</td>\n",
       "      <td>256 GB SSD NVMe PCIe256 GB SSD NVMe PCIeHỗ trợ...</td>\n",
       "      <td>14 inch14 inch15.6 inch</td>\n",
       "      <td>Full HD (1920 x 1080)Full HD (1920 x 1080)Full...</td>\n",
       "      <td>Card tích hợp - Intel UHD Graphics 620Card tíc...</td>\n",
       "      <td>Dài 329 mm - Rộng 228 mm - Dày 14.9 mm - Nặng ...</td>\n",
       "      <td>Nhôm - MagieNhôm - MagieVỏ kim loại</td>\n",
       "      <td>Windows 10 Home SLWindows 10 Home SLWindows 10...</td>\n",
       "      <td>6054</td>\n",
       "      <td>2-cell Li-Polymer2-cell Li-PolymerLi-Polymer, ...</td>\n",
       "    </tr>\n",
       "  </tbody>\n",
       "</table>\n",
       "</div>"
      ],
      "text/plain": [
       "                                                       name  \\\n",
       "Ram_size                                                      \n",
       "16 GB     Laptop Acer Swift 7 SF714 52T 76C6 i7 8500Y/16...   \n",
       "4 GB      Laptop Acer Switch 5 SW512 52P 34RS i3 7130U/4...   \n",
       "8 GB      Laptop Acer Swift 5 SF514 53T 740R i7 8565U/8G...   \n",
       "\n",
       "                                                  price_old  \\\n",
       "Ram_size                                                      \n",
       "16 GB     16.940.000₫5.580.000₫5.680.000₫5.710.000₫5.740...   \n",
       "4 GB                                             7.620.000₫   \n",
       "8 GB                         9.480.000₫8.130.000₫5.760.000₫   \n",
       "\n",
       "                                                  price_new  \\\n",
       "Ram_size                                                      \n",
       "16 GB     49.990.000₫15.490.000₫15.490.000₫15.490.000₫15...   \n",
       "4 GB                                            22.490.000₫   \n",
       "8 GB                      27.990.000₫23.990.000₫16.990.000₫   \n",
       "\n",
       "                                                   warranty  \\\n",
       "Ram_size                                                      \n",
       "16 GB     1 tháng tại TGDĐ1 tháng tại TGDĐ2.5 tháng chín...   \n",
       "4 GB                                       1 tháng tại TGDĐ   \n",
       "8 GB       1 tháng tại TGDĐ1 tháng tại TGDĐ1 tháng tại TGDĐ   \n",
       "\n",
       "                                                        CPU  \\\n",
       "Ram_size                                                      \n",
       "16 GB     Intel Core i7 Coffee Lake - 8500YIntel Core i5...   \n",
       "4 GB                         Intel Core i3 Kabylake - 7130U   \n",
       "8 GB      Intel Core i7 Coffee Lake - 8565UIntel Core i5...   \n",
       "\n",
       "                                                   Ram_type  \\\n",
       "Ram_size                                                      \n",
       "16 GB     DDR3 (Onboard)DDR4 (Onboard)DDR4 (Onboard)DDR4...   \n",
       "4 GB                                                  DDR3L   \n",
       "8 GB      DDR4 (Onboard)DDR4 (Onboard)DDR4 (Onboard +1 khe)   \n",
       "\n",
       "                                                 Hard_Drive  \\\n",
       "Ram_size                                                      \n",
       "16 GB     512 GB SSD NVMe PCIe512 GB SSD\\nHỗ trợ khe cắm...   \n",
       "4 GB                                     128 GB SSD M2 PCIe   \n",
       "8 GB      256 GB SSD NVMe PCIe256 GB SSD NVMe PCIeHỗ trợ...   \n",
       "\n",
       "                                              screen  \\\n",
       "Ram_size                                               \n",
       "16 GB     14 inch14 inch14 inch14 inch14 inch14 inch   \n",
       "4 GB                                         12 inch   \n",
       "8 GB                         14 inch14 inch15.6 inch   \n",
       "\n",
       "                                                 resolution  \\\n",
       "Ram_size                                                      \n",
       "16 GB     Full HD (1920 x 1080)2.2K (2240x1400)2.2K (224...   \n",
       "4 GB                                       2K (2160 x 1440)   \n",
       "8 GB      Full HD (1920 x 1080)Full HD (1920 x 1080)Full...   \n",
       "\n",
       "                                                   graphics  \\\n",
       "Ram_size                                                      \n",
       "16 GB     Card tích hợp - Intel UHD Graphics 615Card tíc...   \n",
       "4 GB                 Card tích hợp - Intel UHD Graphics 620   \n",
       "8 GB      Card tích hợp - Intel UHD Graphics 620Card tíc...   \n",
       "\n",
       "                                                size_weight  \\\n",
       "Ram_size                                                      \n",
       "16 GB     Dài Dài 317.9 mm - Rộng Rộng 191.5 - Dày Dày 9...   \n",
       "4 GB      Dài Dài 292.9 mm - Rộng Rộng 201.8 mm - Dày Dà...   \n",
       "8 GB      Dài 329 mm - Rộng 228 mm - Dày 14.9 mm - Nặng ...   \n",
       "\n",
       "                                                   material  \\\n",
       "Ram_size                                                      \n",
       "16 GB     Nhôm - MagieVỏ kim loạiVỏ kim loạiVỏ kim loạiV...   \n",
       "4 GB                                            Vỏ kim loại   \n",
       "8 GB                    Nhôm - MagieNhôm - MagieVỏ kim loại   \n",
       "\n",
       "                                                         os   year  \\\n",
       "Ram_size                                                             \n",
       "16 GB     Windows 10 Home SLWindows 10 Home SLWindows 10...  12124   \n",
       "4 GB                                     Windows 10 Home SL   2019   \n",
       "8 GB      Windows 10 Home SLWindows 10 Home SLWindows 10...   6054   \n",
       "\n",
       "                                                    battery  \n",
       "Ram_size                                                     \n",
       "16 GB      3-cell Li-ion46.2 Wh46.2 Wh46.2 Wh46.2 Wh46.2 Wh  \n",
       "4 GB                                          2-cell Li-ion  \n",
       "8 GB      2-cell Li-Polymer2-cell Li-PolymerLi-Polymer, ...  "
      ]
     },
     "execution_count": 142,
     "metadata": {},
     "output_type": "execute_result"
    }
   ],
   "source": [
    "df.groupby('Ram_size').sum() # -> sum những numeric features "
   ]
  },
  {
   "cell_type": "code",
   "execution_count": 143,
   "id": "0135733a",
   "metadata": {},
   "outputs": [
    {
     "data": {
      "application/vnd.microsoft.datawrangler.viewer.v0+json": {
       "columns": [
        {
         "name": "Ram_size",
         "rawType": "object",
         "type": "string"
        },
        {
         "name": "Ram_type",
         "rawType": "object",
         "type": "string"
        }
       ],
       "conversionMethod": "pd.DataFrame",
       "ref": "84dad935-e6e5-4d0e-aefe-5919aeac8c6a",
       "rows": [
        [
         "16 GB",
         "DDR3 (Onboard)DDR4 (Onboard)DDR4 (Onboard)DDR4 (Onboard)DDR4 (Onboard)DDR4 (Onboard)"
        ],
        [
         "4 GB",
         "DDR3L"
        ],
        [
         "8 GB",
         "DDR4 (Onboard)DDR4 (Onboard)DDR4 (Onboard +1 khe)"
        ]
       ],
       "shape": {
        "columns": 1,
        "rows": 3
       }
      },
      "text/html": [
       "<div>\n",
       "<style scoped>\n",
       "    .dataframe tbody tr th:only-of-type {\n",
       "        vertical-align: middle;\n",
       "    }\n",
       "\n",
       "    .dataframe tbody tr th {\n",
       "        vertical-align: top;\n",
       "    }\n",
       "\n",
       "    .dataframe thead th {\n",
       "        text-align: right;\n",
       "    }\n",
       "</style>\n",
       "<table border=\"1\" class=\"dataframe\">\n",
       "  <thead>\n",
       "    <tr style=\"text-align: right;\">\n",
       "      <th></th>\n",
       "      <th>Ram_type</th>\n",
       "    </tr>\n",
       "    <tr>\n",
       "      <th>Ram_size</th>\n",
       "      <th></th>\n",
       "    </tr>\n",
       "  </thead>\n",
       "  <tbody>\n",
       "    <tr>\n",
       "      <th>16 GB</th>\n",
       "      <td>DDR3 (Onboard)DDR4 (Onboard)DDR4 (Onboard)DDR4...</td>\n",
       "    </tr>\n",
       "    <tr>\n",
       "      <th>4 GB</th>\n",
       "      <td>DDR3L</td>\n",
       "    </tr>\n",
       "    <tr>\n",
       "      <th>8 GB</th>\n",
       "      <td>DDR4 (Onboard)DDR4 (Onboard)DDR4 (Onboard +1 khe)</td>\n",
       "    </tr>\n",
       "  </tbody>\n",
       "</table>\n",
       "</div>"
      ],
      "text/plain": [
       "                                                   Ram_type\n",
       "Ram_size                                                   \n",
       "16 GB     DDR3 (Onboard)DDR4 (Onboard)DDR4 (Onboard)DDR4...\n",
       "4 GB                                                  DDR3L\n",
       "8 GB      DDR4 (Onboard)DDR4 (Onboard)DDR4 (Onboard +1 khe)"
      ]
     },
     "execution_count": 143,
     "metadata": {},
     "output_type": "execute_result"
    }
   ],
   "source": [
    "df[['Ram_size', 'Ram_type']].groupby('Ram_size').sum()"
   ]
  },
  {
   "cell_type": "markdown",
   "id": "58c6d7a2",
   "metadata": {},
   "source": [
    "### Pivot table"
   ]
  },
  {
   "cell_type": "code",
   "execution_count": 146,
   "id": "1814b4f2",
   "metadata": {},
   "outputs": [
    {
     "name": "stderr",
     "output_type": "stream",
     "text": [
      "C:\\Users\\TY NGOC\\AppData\\Local\\Temp\\ipykernel_8536\\1191280088.py:1: FutureWarning: The provided callable <built-in function sum> is currently using DataFrameGroupBy.sum. In a future version of pandas, the provided callable will be used directly. To keep current behavior pass the string \"sum\" instead.\n",
      "  pivot_sum = pd.pivot_table(df,\n"
     ]
    },
    {
     "data": {
      "application/vnd.microsoft.datawrangler.viewer.v0+json": {
       "columns": [
        {
         "name": "Ram_size",
         "rawType": "object",
         "type": "string"
        },
        {
         "name": "Nhôm - Magie",
         "rawType": "object",
         "type": "unknown"
        },
        {
         "name": "Vỏ kim loại",
         "rawType": "object",
         "type": "string"
        }
       ],
       "conversionMethod": "pd.DataFrame",
       "ref": "e09e1406-d118-4278-a757-1cb5c0f0fd7a",
       "rows": [
        [
         "16 GB",
         "14 inch",
         "14 inch14 inch14 inch14 inch14 inch"
        ],
        [
         "4 GB",
         null,
         "12 inch"
        ],
        [
         "8 GB",
         "14 inch14 inch",
         "15.6 inch"
        ]
       ],
       "shape": {
        "columns": 2,
        "rows": 3
       }
      },
      "text/html": [
       "<div>\n",
       "<style scoped>\n",
       "    .dataframe tbody tr th:only-of-type {\n",
       "        vertical-align: middle;\n",
       "    }\n",
       "\n",
       "    .dataframe tbody tr th {\n",
       "        vertical-align: top;\n",
       "    }\n",
       "\n",
       "    .dataframe thead th {\n",
       "        text-align: right;\n",
       "    }\n",
       "</style>\n",
       "<table border=\"1\" class=\"dataframe\">\n",
       "  <thead>\n",
       "    <tr style=\"text-align: right;\">\n",
       "      <th>material</th>\n",
       "      <th>Nhôm - Magie</th>\n",
       "      <th>Vỏ kim loại</th>\n",
       "    </tr>\n",
       "    <tr>\n",
       "      <th>Ram_size</th>\n",
       "      <th></th>\n",
       "      <th></th>\n",
       "    </tr>\n",
       "  </thead>\n",
       "  <tbody>\n",
       "    <tr>\n",
       "      <th>16 GB</th>\n",
       "      <td>14 inch</td>\n",
       "      <td>14 inch14 inch14 inch14 inch14 inch</td>\n",
       "    </tr>\n",
       "    <tr>\n",
       "      <th>4 GB</th>\n",
       "      <td>NaN</td>\n",
       "      <td>12 inch</td>\n",
       "    </tr>\n",
       "    <tr>\n",
       "      <th>8 GB</th>\n",
       "      <td>14 inch14 inch</td>\n",
       "      <td>15.6 inch</td>\n",
       "    </tr>\n",
       "  </tbody>\n",
       "</table>\n",
       "</div>"
      ],
      "text/plain": [
       "material    Nhôm - Magie                          Vỏ kim loại\n",
       "Ram_size                                                     \n",
       "16 GB            14 inch  14 inch14 inch14 inch14 inch14 inch\n",
       "4 GB                 NaN                              12 inch\n",
       "8 GB      14 inch14 inch                            15.6 inch"
      ]
     },
     "execution_count": 146,
     "metadata": {},
     "output_type": "execute_result"
    }
   ],
   "source": [
    "pivot_sum = pd.pivot_table(df, \n",
    "                           index='Ram_size',\n",
    "                           columns='material',\n",
    "                           values='screen',\n",
    "                           aggfunc=sum)\n",
    "pivot_sum"
   ]
  },
  {
   "cell_type": "code",
   "execution_count": 149,
   "id": "218daf7b",
   "metadata": {},
   "outputs": [],
   "source": [
    "def get_inches(row):\n",
    "    inches = row['screen']\n",
    "    inches_split = inches.split()\n",
    "    num = float(inches_split[0].strip())\n",
    "    return num"
   ]
  },
  {
   "cell_type": "code",
   "execution_count": 150,
   "id": "ac98a652",
   "metadata": {},
   "outputs": [],
   "source": [
    "df['screen'] = df.apply(get_inches, axis=1)"
   ]
  },
  {
   "cell_type": "code",
   "execution_count": 151,
   "id": "c708f3f8",
   "metadata": {},
   "outputs": [
    {
     "data": {
      "application/vnd.microsoft.datawrangler.viewer.v0+json": {
       "columns": [
        {
         "name": "index",
         "rawType": "int64",
         "type": "integer"
        },
        {
         "name": "name",
         "rawType": "object",
         "type": "string"
        },
        {
         "name": "price_old",
         "rawType": "object",
         "type": "string"
        },
        {
         "name": "price_new",
         "rawType": "object",
         "type": "string"
        },
        {
         "name": "warranty",
         "rawType": "object",
         "type": "string"
        },
        {
         "name": "CPU",
         "rawType": "object",
         "type": "string"
        },
        {
         "name": "Ram_size",
         "rawType": "object",
         "type": "string"
        },
        {
         "name": "Ram_type",
         "rawType": "object",
         "type": "string"
        },
        {
         "name": "Hard_Drive",
         "rawType": "object",
         "type": "string"
        },
        {
         "name": "screen",
         "rawType": "float64",
         "type": "float"
        },
        {
         "name": "resolution",
         "rawType": "object",
         "type": "string"
        },
        {
         "name": "graphics",
         "rawType": "object",
         "type": "string"
        },
        {
         "name": "size_weight",
         "rawType": "object",
         "type": "string"
        },
        {
         "name": "material",
         "rawType": "object",
         "type": "string"
        },
        {
         "name": "os",
         "rawType": "object",
         "type": "string"
        },
        {
         "name": "year",
         "rawType": "int64",
         "type": "integer"
        },
        {
         "name": "battery",
         "rawType": "object",
         "type": "string"
        }
       ],
       "conversionMethod": "pd.DataFrame",
       "ref": "1df1ff3b-7d8c-4ba1-947b-a4e850c5464c",
       "rows": [
        [
         "3",
         "Laptop Acer Switch 5 SW512 52P 34RS i3 7130U/4GB/128GB/Touch/Pen/Win10 (NT.LDTSV.004)",
         "7.620.000₫",
         "22.490.000₫",
         "1 tháng tại TGDĐ",
         "Intel Core i3 Kabylake - 7130U",
         "4 GB",
         "DDR3L",
         "128 GB SSD M2 PCIe",
         "12.0",
         "2K (2160 x 1440)",
         "Card tích hợp - Intel UHD Graphics 620",
         "Dài Dài 292.9 mm - Rộng Rộng 201.8 mm - Dày Dày 9.6 mm - Nặng 0.92 kg",
         "Vỏ kim loại",
         "Windows 10 Home SL",
         "2019",
         "2-cell Li-ion"
        ],
        [
         "0",
         "Laptop Acer Swift 5 SF514 53T 740R i7 8565U/8GB/256GB/Touch/Win10 (NX.H7KSV.002)",
         "9.480.000₫",
         "27.990.000₫",
         "1 tháng tại TGDĐ",
         "Intel Core i7 Coffee Lake - 8565U",
         "8 GB",
         "DDR4 (Onboard)",
         "256 GB SSD NVMe PCIe",
         "14.0",
         "Full HD (1920 x 1080)",
         "Card tích hợp - Intel UHD Graphics 620",
         "Dài 329 mm - Rộng 228 mm - Dày 14.9 mm - Nặng 0.94 kg",
         "Nhôm - Magie",
         "Windows 10 Home SL",
         "2018",
         "2-cell Li-Polymer"
        ],
        [
         "1",
         "Laptop Acer Swift 5 SF514 53T 51EX i5 8265U/8GB/256GB/Touch/Win10 (NX.H7KSV.001)",
         "8.130.000₫",
         "23.990.000₫",
         "1 tháng tại TGDĐ",
         "Intel Core i5 Coffee Lake - 8265U",
         "8 GB",
         "DDR4 (Onboard)",
         "256 GB SSD NVMe PCIe",
         "14.0",
         "Full HD (1920 x 1080)",
         "Card tích hợp - Intel UHD Graphics 620",
         "Dài 329 mm - Rộng 228 mm - Dày 14.9 mm - Nặng 0.97 kg",
         "Nhôm - Magie",
         "Windows 10 Home SL",
         "2018",
         "2-cell Li-Polymer"
        ],
        [
         "2",
         "Laptop Acer Swift 7 SF714 52T 76C6 i7 8500Y/16GB/512GB/Touch/Túi/Win10 (NX.H98SV.001)",
         "16.940.000₫",
         "49.990.000₫",
         "1 tháng tại TGDĐ",
         "Intel Core i7 Coffee Lake - 8500Y",
         "16 GB",
         "DDR3 (Onboard)",
         "512 GB SSD NVMe PCIe",
         "14.0",
         "Full HD (1920 x 1080)",
         "Card tích hợp - Intel UHD Graphics 615",
         "Dài Dài 317.9 mm - Rộng Rộng 191.5 - Dày Dày 9.95 mm - Nặng 890 gram",
         "Nhôm - Magie",
         "Windows 10 Home SL",
         "2019",
         "3-cell Li-ion"
        ],
        [
         "5",
         "Laptop CHUWI CoreBook X i5 8259U/16GB/512GB/Win10",
         "5.580.000₫",
         "15.490.000₫",
         "1 tháng tại TGDĐ",
         "Intel Core i5 Coffee Lake - 8259U",
         "16 GB",
         "DDR4 (Onboard)",
         "512 GB SSD\nHỗ trợ khe cắm SSD M.2 SATA3 (nâng cấp tối đa 1 TB)",
         "14.0",
         "2.2K (2240x1400)",
         "Card tích hợp - Intel Iris Plus Graphics 655",
         "Dài 310 mm - Rộng 229.5 mm - Dày 20.6 mm - Nặng 1.5 kg",
         "Vỏ kim loại",
         "Windows 10 Home SL",
         "2021",
         "46.2 Wh"
        ],
        [
         "6",
         "Laptop CHUWI CoreBook X i5 8259U/16GB/512GB/Win10",
         "5.680.000₫",
         "15.490.000₫",
         "2.5 tháng chính hãng",
         "Intel Core i5 Coffee Lake - 8259U",
         "16 GB",
         "DDR4 (Onboard)",
         "512 GB SSD\nHỗ trợ khe cắm SSD M.2 SATA3 (nâng cấp tối đa 1 TB)",
         "14.0",
         "2.2K (2240x1400)",
         "Card tích hợp - Intel Iris Plus Graphics 655",
         "Dài 310 mm - Rộng 229.5 mm - Dày 20.6 mm - Nặng 1.5 kg",
         "Vỏ kim loại",
         "Windows 10 Home SL",
         "2021",
         "46.2 Wh"
        ],
        [
         "7",
         "Laptop CHUWI CoreBook X i5 8259U/16GB/512GB/Win10",
         "5.710.000₫",
         "15.490.000₫",
         "3 tháng chính hãng",
         "Intel Core i5 Coffee Lake - 8259U",
         "16 GB",
         "DDR4 (Onboard)",
         "512 GB SSD\nHỗ trợ khe cắm SSD M.2 SATA3 (nâng cấp tối đa 1 TB)",
         "14.0",
         "2.2K (2240x1400)",
         "Card tích hợp - Intel Iris Plus Graphics 655",
         "Dài 310 mm - Rộng 229.5 mm - Dày 20.6 mm - Nặng 1.5 kg",
         "Vỏ kim loại",
         "Windows 10 Home SL",
         "2021",
         "46.2 Wh"
        ],
        [
         "8",
         "Laptop CHUWI CoreBook X i5 8259U/16GB/512GB/Win10",
         "5.740.000₫",
         "15.490.000₫",
         "3.5 tháng chính hãng",
         "Intel Core i5 Coffee Lake - 8259U",
         "16 GB",
         "DDR4 (Onboard)",
         "512 GB SSD\nHỗ trợ khe cắm SSD M.2 SATA3 (nâng cấp tối đa 1 TB)",
         "14.0",
         "2.2K (2240x1400)",
         "Card tích hợp - Intel Iris Plus Graphics 655",
         "Dài 310 mm - Rộng 229.5 mm - Dày 20.6 mm - Nặng 1.5 kg",
         "Vỏ kim loại",
         "Windows 10 Home SL",
         "2021",
         "46.2 Wh"
        ],
        [
         "9",
         "Laptop CHUWI CoreBook X i5 8259U/16GB/512GB/Win10",
         "5.770.000₫",
         "15.490.000₫",
         "4 tháng chính hãng",
         "Intel Core i5 Coffee Lake - 8259U",
         "16 GB",
         "DDR4 (Onboard)",
         "512 GB SSD\nHỗ trợ khe cắm SSD M.2 SATA3 (nâng cấp tối đa 1 TB)",
         "14.0",
         "2.2K (2240x1400)",
         "Card tích hợp - Intel Iris Plus Graphics 655",
         "Dài 310 mm - Rộng 229.5 mm - Dày 20.6 mm - Nặng 1.5 kg",
         "Vỏ kim loại",
         "Windows 10 Home SL",
         "2021",
         "46.2 Wh"
        ],
        [
         "4",
         "Laptop Acer Swift 3 SF315 52 50T9 i5 8250U/8GB/256GB/Win10 (NX.GZBSV.002)",
         "5.760.000₫",
         "16.990.000₫",
         "1 tháng tại TGDĐ",
         "Intel Core i5 Coffee Lake - 8250U",
         "8 GB",
         "DDR4 (Onboard +1 khe)",
         "Hỗ trợ khe cắm HDD SATA\n256 GB SSD M.2 SATA 3",
         "15.6",
         "Full HD (1920 x 1080)",
         "Card tích hợp - Intel UHD Graphics 620",
         "Dài Dài 359 mm - Rộng Rộng 243 mm - Dày Dày 16.9 mm - Nặng 1.7 kg",
         "Vỏ kim loại",
         "Windows 10 Home SL",
         "2018",
         "Li-Polymer, 80 Wh"
        ]
       ],
       "shape": {
        "columns": 16,
        "rows": 10
       }
      },
      "text/html": [
       "<div>\n",
       "<style scoped>\n",
       "    .dataframe tbody tr th:only-of-type {\n",
       "        vertical-align: middle;\n",
       "    }\n",
       "\n",
       "    .dataframe tbody tr th {\n",
       "        vertical-align: top;\n",
       "    }\n",
       "\n",
       "    .dataframe thead th {\n",
       "        text-align: right;\n",
       "    }\n",
       "</style>\n",
       "<table border=\"1\" class=\"dataframe\">\n",
       "  <thead>\n",
       "    <tr style=\"text-align: right;\">\n",
       "      <th></th>\n",
       "      <th>name</th>\n",
       "      <th>price_old</th>\n",
       "      <th>price_new</th>\n",
       "      <th>warranty</th>\n",
       "      <th>CPU</th>\n",
       "      <th>Ram_size</th>\n",
       "      <th>Ram_type</th>\n",
       "      <th>Hard_Drive</th>\n",
       "      <th>screen</th>\n",
       "      <th>resolution</th>\n",
       "      <th>graphics</th>\n",
       "      <th>size_weight</th>\n",
       "      <th>material</th>\n",
       "      <th>os</th>\n",
       "      <th>year</th>\n",
       "      <th>battery</th>\n",
       "    </tr>\n",
       "  </thead>\n",
       "  <tbody>\n",
       "    <tr>\n",
       "      <th>3</th>\n",
       "      <td>Laptop Acer Switch 5 SW512 52P 34RS i3 7130U/4...</td>\n",
       "      <td>7.620.000₫</td>\n",
       "      <td>22.490.000₫</td>\n",
       "      <td>1 tháng tại TGDĐ</td>\n",
       "      <td>Intel Core i3 Kabylake - 7130U</td>\n",
       "      <td>4 GB</td>\n",
       "      <td>DDR3L</td>\n",
       "      <td>128 GB SSD M2 PCIe</td>\n",
       "      <td>12.0</td>\n",
       "      <td>2K (2160 x 1440)</td>\n",
       "      <td>Card tích hợp - Intel UHD Graphics 620</td>\n",
       "      <td>Dài Dài 292.9 mm - Rộng Rộng 201.8 mm - Dày Dà...</td>\n",
       "      <td>Vỏ kim loại</td>\n",
       "      <td>Windows 10 Home SL</td>\n",
       "      <td>2019</td>\n",
       "      <td>2-cell Li-ion</td>\n",
       "    </tr>\n",
       "    <tr>\n",
       "      <th>0</th>\n",
       "      <td>Laptop Acer Swift 5 SF514 53T 740R i7 8565U/8G...</td>\n",
       "      <td>9.480.000₫</td>\n",
       "      <td>27.990.000₫</td>\n",
       "      <td>1 tháng tại TGDĐ</td>\n",
       "      <td>Intel Core i7 Coffee Lake - 8565U</td>\n",
       "      <td>8 GB</td>\n",
       "      <td>DDR4 (Onboard)</td>\n",
       "      <td>256 GB SSD NVMe PCIe</td>\n",
       "      <td>14.0</td>\n",
       "      <td>Full HD (1920 x 1080)</td>\n",
       "      <td>Card tích hợp - Intel UHD Graphics 620</td>\n",
       "      <td>Dài 329 mm - Rộng 228 mm - Dày 14.9 mm - Nặng ...</td>\n",
       "      <td>Nhôm - Magie</td>\n",
       "      <td>Windows 10 Home SL</td>\n",
       "      <td>2018</td>\n",
       "      <td>2-cell Li-Polymer</td>\n",
       "    </tr>\n",
       "    <tr>\n",
       "      <th>1</th>\n",
       "      <td>Laptop Acer Swift 5 SF514 53T 51EX i5 8265U/8G...</td>\n",
       "      <td>8.130.000₫</td>\n",
       "      <td>23.990.000₫</td>\n",
       "      <td>1 tháng tại TGDĐ</td>\n",
       "      <td>Intel Core i5 Coffee Lake - 8265U</td>\n",
       "      <td>8 GB</td>\n",
       "      <td>DDR4 (Onboard)</td>\n",
       "      <td>256 GB SSD NVMe PCIe</td>\n",
       "      <td>14.0</td>\n",
       "      <td>Full HD (1920 x 1080)</td>\n",
       "      <td>Card tích hợp - Intel UHD Graphics 620</td>\n",
       "      <td>Dài 329 mm - Rộng 228 mm - Dày 14.9 mm - Nặng ...</td>\n",
       "      <td>Nhôm - Magie</td>\n",
       "      <td>Windows 10 Home SL</td>\n",
       "      <td>2018</td>\n",
       "      <td>2-cell Li-Polymer</td>\n",
       "    </tr>\n",
       "    <tr>\n",
       "      <th>2</th>\n",
       "      <td>Laptop Acer Swift 7 SF714 52T 76C6 i7 8500Y/16...</td>\n",
       "      <td>16.940.000₫</td>\n",
       "      <td>49.990.000₫</td>\n",
       "      <td>1 tháng tại TGDĐ</td>\n",
       "      <td>Intel Core i7 Coffee Lake - 8500Y</td>\n",
       "      <td>16 GB</td>\n",
       "      <td>DDR3 (Onboard)</td>\n",
       "      <td>512 GB SSD NVMe PCIe</td>\n",
       "      <td>14.0</td>\n",
       "      <td>Full HD (1920 x 1080)</td>\n",
       "      <td>Card tích hợp - Intel UHD Graphics 615</td>\n",
       "      <td>Dài Dài 317.9 mm - Rộng Rộng 191.5 - Dày Dày 9...</td>\n",
       "      <td>Nhôm - Magie</td>\n",
       "      <td>Windows 10 Home SL</td>\n",
       "      <td>2019</td>\n",
       "      <td>3-cell Li-ion</td>\n",
       "    </tr>\n",
       "    <tr>\n",
       "      <th>5</th>\n",
       "      <td>Laptop CHUWI CoreBook X i5 8259U/16GB/512GB/Win10</td>\n",
       "      <td>5.580.000₫</td>\n",
       "      <td>15.490.000₫</td>\n",
       "      <td>1 tháng tại TGDĐ</td>\n",
       "      <td>Intel Core i5 Coffee Lake - 8259U</td>\n",
       "      <td>16 GB</td>\n",
       "      <td>DDR4 (Onboard)</td>\n",
       "      <td>512 GB SSD\\nHỗ trợ khe cắm SSD M.2 SATA3 (nâng...</td>\n",
       "      <td>14.0</td>\n",
       "      <td>2.2K (2240x1400)</td>\n",
       "      <td>Card tích hợp - Intel Iris Plus Graphics 655</td>\n",
       "      <td>Dài 310 mm - Rộng 229.5 mm - Dày 20.6 mm - Nặn...</td>\n",
       "      <td>Vỏ kim loại</td>\n",
       "      <td>Windows 10 Home SL</td>\n",
       "      <td>2021</td>\n",
       "      <td>46.2 Wh</td>\n",
       "    </tr>\n",
       "    <tr>\n",
       "      <th>6</th>\n",
       "      <td>Laptop CHUWI CoreBook X i5 8259U/16GB/512GB/Win10</td>\n",
       "      <td>5.680.000₫</td>\n",
       "      <td>15.490.000₫</td>\n",
       "      <td>2.5 tháng chính hãng</td>\n",
       "      <td>Intel Core i5 Coffee Lake - 8259U</td>\n",
       "      <td>16 GB</td>\n",
       "      <td>DDR4 (Onboard)</td>\n",
       "      <td>512 GB SSD\\nHỗ trợ khe cắm SSD M.2 SATA3 (nâng...</td>\n",
       "      <td>14.0</td>\n",
       "      <td>2.2K (2240x1400)</td>\n",
       "      <td>Card tích hợp - Intel Iris Plus Graphics 655</td>\n",
       "      <td>Dài 310 mm - Rộng 229.5 mm - Dày 20.6 mm - Nặn...</td>\n",
       "      <td>Vỏ kim loại</td>\n",
       "      <td>Windows 10 Home SL</td>\n",
       "      <td>2021</td>\n",
       "      <td>46.2 Wh</td>\n",
       "    </tr>\n",
       "    <tr>\n",
       "      <th>7</th>\n",
       "      <td>Laptop CHUWI CoreBook X i5 8259U/16GB/512GB/Win10</td>\n",
       "      <td>5.710.000₫</td>\n",
       "      <td>15.490.000₫</td>\n",
       "      <td>3 tháng chính hãng</td>\n",
       "      <td>Intel Core i5 Coffee Lake - 8259U</td>\n",
       "      <td>16 GB</td>\n",
       "      <td>DDR4 (Onboard)</td>\n",
       "      <td>512 GB SSD\\nHỗ trợ khe cắm SSD M.2 SATA3 (nâng...</td>\n",
       "      <td>14.0</td>\n",
       "      <td>2.2K (2240x1400)</td>\n",
       "      <td>Card tích hợp - Intel Iris Plus Graphics 655</td>\n",
       "      <td>Dài 310 mm - Rộng 229.5 mm - Dày 20.6 mm - Nặn...</td>\n",
       "      <td>Vỏ kim loại</td>\n",
       "      <td>Windows 10 Home SL</td>\n",
       "      <td>2021</td>\n",
       "      <td>46.2 Wh</td>\n",
       "    </tr>\n",
       "    <tr>\n",
       "      <th>8</th>\n",
       "      <td>Laptop CHUWI CoreBook X i5 8259U/16GB/512GB/Win10</td>\n",
       "      <td>5.740.000₫</td>\n",
       "      <td>15.490.000₫</td>\n",
       "      <td>3.5 tháng chính hãng</td>\n",
       "      <td>Intel Core i5 Coffee Lake - 8259U</td>\n",
       "      <td>16 GB</td>\n",
       "      <td>DDR4 (Onboard)</td>\n",
       "      <td>512 GB SSD\\nHỗ trợ khe cắm SSD M.2 SATA3 (nâng...</td>\n",
       "      <td>14.0</td>\n",
       "      <td>2.2K (2240x1400)</td>\n",
       "      <td>Card tích hợp - Intel Iris Plus Graphics 655</td>\n",
       "      <td>Dài 310 mm - Rộng 229.5 mm - Dày 20.6 mm - Nặn...</td>\n",
       "      <td>Vỏ kim loại</td>\n",
       "      <td>Windows 10 Home SL</td>\n",
       "      <td>2021</td>\n",
       "      <td>46.2 Wh</td>\n",
       "    </tr>\n",
       "    <tr>\n",
       "      <th>9</th>\n",
       "      <td>Laptop CHUWI CoreBook X i5 8259U/16GB/512GB/Win10</td>\n",
       "      <td>5.770.000₫</td>\n",
       "      <td>15.490.000₫</td>\n",
       "      <td>4 tháng chính hãng</td>\n",
       "      <td>Intel Core i5 Coffee Lake - 8259U</td>\n",
       "      <td>16 GB</td>\n",
       "      <td>DDR4 (Onboard)</td>\n",
       "      <td>512 GB SSD\\nHỗ trợ khe cắm SSD M.2 SATA3 (nâng...</td>\n",
       "      <td>14.0</td>\n",
       "      <td>2.2K (2240x1400)</td>\n",
       "      <td>Card tích hợp - Intel Iris Plus Graphics 655</td>\n",
       "      <td>Dài 310 mm - Rộng 229.5 mm - Dày 20.6 mm - Nặn...</td>\n",
       "      <td>Vỏ kim loại</td>\n",
       "      <td>Windows 10 Home SL</td>\n",
       "      <td>2021</td>\n",
       "      <td>46.2 Wh</td>\n",
       "    </tr>\n",
       "    <tr>\n",
       "      <th>4</th>\n",
       "      <td>Laptop Acer Swift 3 SF315 52 50T9 i5 8250U/8GB...</td>\n",
       "      <td>5.760.000₫</td>\n",
       "      <td>16.990.000₫</td>\n",
       "      <td>1 tháng tại TGDĐ</td>\n",
       "      <td>Intel Core i5 Coffee Lake - 8250U</td>\n",
       "      <td>8 GB</td>\n",
       "      <td>DDR4 (Onboard +1 khe)</td>\n",
       "      <td>Hỗ trợ khe cắm HDD SATA\\n256 GB SSD M.2 SATA 3</td>\n",
       "      <td>15.6</td>\n",
       "      <td>Full HD (1920 x 1080)</td>\n",
       "      <td>Card tích hợp - Intel UHD Graphics 620</td>\n",
       "      <td>Dài Dài 359 mm - Rộng Rộng 243 mm - Dày Dày 16...</td>\n",
       "      <td>Vỏ kim loại</td>\n",
       "      <td>Windows 10 Home SL</td>\n",
       "      <td>2018</td>\n",
       "      <td>Li-Polymer, 80 Wh</td>\n",
       "    </tr>\n",
       "  </tbody>\n",
       "</table>\n",
       "</div>"
      ],
      "text/plain": [
       "                                                name    price_old  \\\n",
       "3  Laptop Acer Switch 5 SW512 52P 34RS i3 7130U/4...   7.620.000₫   \n",
       "0  Laptop Acer Swift 5 SF514 53T 740R i7 8565U/8G...   9.480.000₫   \n",
       "1  Laptop Acer Swift 5 SF514 53T 51EX i5 8265U/8G...   8.130.000₫   \n",
       "2  Laptop Acer Swift 7 SF714 52T 76C6 i7 8500Y/16...  16.940.000₫   \n",
       "5  Laptop CHUWI CoreBook X i5 8259U/16GB/512GB/Win10   5.580.000₫   \n",
       "6  Laptop CHUWI CoreBook X i5 8259U/16GB/512GB/Win10   5.680.000₫   \n",
       "7  Laptop CHUWI CoreBook X i5 8259U/16GB/512GB/Win10   5.710.000₫   \n",
       "8  Laptop CHUWI CoreBook X i5 8259U/16GB/512GB/Win10   5.740.000₫   \n",
       "9  Laptop CHUWI CoreBook X i5 8259U/16GB/512GB/Win10   5.770.000₫   \n",
       "4  Laptop Acer Swift 3 SF315 52 50T9 i5 8250U/8GB...   5.760.000₫   \n",
       "\n",
       "     price_new              warranty                                CPU  \\\n",
       "3  22.490.000₫      1 tháng tại TGDĐ     Intel Core i3 Kabylake - 7130U   \n",
       "0  27.990.000₫      1 tháng tại TGDĐ  Intel Core i7 Coffee Lake - 8565U   \n",
       "1  23.990.000₫      1 tháng tại TGDĐ  Intel Core i5 Coffee Lake - 8265U   \n",
       "2  49.990.000₫      1 tháng tại TGDĐ  Intel Core i7 Coffee Lake - 8500Y   \n",
       "5  15.490.000₫      1 tháng tại TGDĐ  Intel Core i5 Coffee Lake - 8259U   \n",
       "6  15.490.000₫  2.5 tháng chính hãng  Intel Core i5 Coffee Lake - 8259U   \n",
       "7  15.490.000₫    3 tháng chính hãng  Intel Core i5 Coffee Lake - 8259U   \n",
       "8  15.490.000₫  3.5 tháng chính hãng  Intel Core i5 Coffee Lake - 8259U   \n",
       "9  15.490.000₫    4 tháng chính hãng  Intel Core i5 Coffee Lake - 8259U   \n",
       "4  16.990.000₫      1 tháng tại TGDĐ  Intel Core i5 Coffee Lake - 8250U   \n",
       "\n",
       "  Ram_size               Ram_type  \\\n",
       "3     4 GB                  DDR3L   \n",
       "0     8 GB         DDR4 (Onboard)   \n",
       "1     8 GB         DDR4 (Onboard)   \n",
       "2    16 GB         DDR3 (Onboard)   \n",
       "5    16 GB         DDR4 (Onboard)   \n",
       "6    16 GB         DDR4 (Onboard)   \n",
       "7    16 GB         DDR4 (Onboard)   \n",
       "8    16 GB         DDR4 (Onboard)   \n",
       "9    16 GB         DDR4 (Onboard)   \n",
       "4     8 GB  DDR4 (Onboard +1 khe)   \n",
       "\n",
       "                                          Hard_Drive  screen  \\\n",
       "3                                 128 GB SSD M2 PCIe    12.0   \n",
       "0                               256 GB SSD NVMe PCIe    14.0   \n",
       "1                               256 GB SSD NVMe PCIe    14.0   \n",
       "2                               512 GB SSD NVMe PCIe    14.0   \n",
       "5  512 GB SSD\\nHỗ trợ khe cắm SSD M.2 SATA3 (nâng...    14.0   \n",
       "6  512 GB SSD\\nHỗ trợ khe cắm SSD M.2 SATA3 (nâng...    14.0   \n",
       "7  512 GB SSD\\nHỗ trợ khe cắm SSD M.2 SATA3 (nâng...    14.0   \n",
       "8  512 GB SSD\\nHỗ trợ khe cắm SSD M.2 SATA3 (nâng...    14.0   \n",
       "9  512 GB SSD\\nHỗ trợ khe cắm SSD M.2 SATA3 (nâng...    14.0   \n",
       "4     Hỗ trợ khe cắm HDD SATA\\n256 GB SSD M.2 SATA 3    15.6   \n",
       "\n",
       "              resolution                                      graphics  \\\n",
       "3       2K (2160 x 1440)        Card tích hợp - Intel UHD Graphics 620   \n",
       "0  Full HD (1920 x 1080)        Card tích hợp - Intel UHD Graphics 620   \n",
       "1  Full HD (1920 x 1080)        Card tích hợp - Intel UHD Graphics 620   \n",
       "2  Full HD (1920 x 1080)        Card tích hợp - Intel UHD Graphics 615   \n",
       "5       2.2K (2240x1400)  Card tích hợp - Intel Iris Plus Graphics 655   \n",
       "6       2.2K (2240x1400)  Card tích hợp - Intel Iris Plus Graphics 655   \n",
       "7       2.2K (2240x1400)  Card tích hợp - Intel Iris Plus Graphics 655   \n",
       "8       2.2K (2240x1400)  Card tích hợp - Intel Iris Plus Graphics 655   \n",
       "9       2.2K (2240x1400)  Card tích hợp - Intel Iris Plus Graphics 655   \n",
       "4  Full HD (1920 x 1080)        Card tích hợp - Intel UHD Graphics 620   \n",
       "\n",
       "                                         size_weight      material  \\\n",
       "3  Dài Dài 292.9 mm - Rộng Rộng 201.8 mm - Dày Dà...   Vỏ kim loại   \n",
       "0  Dài 329 mm - Rộng 228 mm - Dày 14.9 mm - Nặng ...  Nhôm - Magie   \n",
       "1  Dài 329 mm - Rộng 228 mm - Dày 14.9 mm - Nặng ...  Nhôm - Magie   \n",
       "2  Dài Dài 317.9 mm - Rộng Rộng 191.5 - Dày Dày 9...  Nhôm - Magie   \n",
       "5  Dài 310 mm - Rộng 229.5 mm - Dày 20.6 mm - Nặn...   Vỏ kim loại   \n",
       "6  Dài 310 mm - Rộng 229.5 mm - Dày 20.6 mm - Nặn...   Vỏ kim loại   \n",
       "7  Dài 310 mm - Rộng 229.5 mm - Dày 20.6 mm - Nặn...   Vỏ kim loại   \n",
       "8  Dài 310 mm - Rộng 229.5 mm - Dày 20.6 mm - Nặn...   Vỏ kim loại   \n",
       "9  Dài 310 mm - Rộng 229.5 mm - Dày 20.6 mm - Nặn...   Vỏ kim loại   \n",
       "4  Dài Dài 359 mm - Rộng Rộng 243 mm - Dày Dày 16...   Vỏ kim loại   \n",
       "\n",
       "                   os  year            battery  \n",
       "3  Windows 10 Home SL  2019      2-cell Li-ion  \n",
       "0  Windows 10 Home SL  2018  2-cell Li-Polymer  \n",
       "1  Windows 10 Home SL  2018  2-cell Li-Polymer  \n",
       "2  Windows 10 Home SL  2019      3-cell Li-ion  \n",
       "5  Windows 10 Home SL  2021            46.2 Wh  \n",
       "6  Windows 10 Home SL  2021            46.2 Wh  \n",
       "7  Windows 10 Home SL  2021            46.2 Wh  \n",
       "8  Windows 10 Home SL  2021            46.2 Wh  \n",
       "9  Windows 10 Home SL  2021            46.2 Wh  \n",
       "4  Windows 10 Home SL  2018  Li-Polymer, 80 Wh  "
      ]
     },
     "execution_count": 151,
     "metadata": {},
     "output_type": "execute_result"
    }
   ],
   "source": [
    "df.sort_values('screen', ascending=True).head(10)"
   ]
  },
  {
   "cell_type": "markdown",
   "id": "e2922293",
   "metadata": {},
   "source": [
    "## Numpy"
   ]
  },
  {
   "cell_type": "markdown",
   "id": "1ccd4c12",
   "metadata": {},
   "source": [
    "Numpy : array -> speed => large dataset\n",
    "\n",
    "numpy array all items must be the same data type -> change 1 item that has more complex data type -> all items change to that data type"
   ]
  },
  {
   "cell_type": "markdown",
   "id": "5bfd68fb",
   "metadata": {},
   "source": [
    "### Tạo mảng và ma trận"
   ]
  },
  {
   "cell_type": "code",
   "execution_count": 36,
   "id": "110a03a3",
   "metadata": {},
   "outputs": [],
   "source": [
    "import numpy as np"
   ]
  },
  {
   "cell_type": "code",
   "execution_count": 157,
   "id": "8ad61199",
   "metadata": {},
   "outputs": [
    {
     "data": {
      "text/plain": [
       "array([1, 2, 3, 4, 5])"
      ]
     },
     "execution_count": 157,
     "metadata": {},
     "output_type": "execute_result"
    }
   ],
   "source": [
    "# 1 chiều\n",
    "a1 = np.array([1, 2, 3, 4, 5])\n",
    "a1"
   ]
  },
  {
   "cell_type": "code",
   "execution_count": 158,
   "id": "6fc8c2c3",
   "metadata": {},
   "outputs": [
    {
     "data": {
      "text/plain": [
       "array([[1, 2, 3],\n",
       "       [4, 5, 6],\n",
       "       [7, 8, 9]])"
      ]
     },
     "execution_count": 158,
     "metadata": {},
     "output_type": "execute_result"
    }
   ],
   "source": [
    "# nhiều chiều\n",
    "a2 = np.array([[1, 2, 3], [4, 5, 6], [7, 8, 9]])\n",
    "a2"
   ]
  },
  {
   "cell_type": "code",
   "execution_count": null,
   "id": "6804cbdc",
   "metadata": {},
   "outputs": [
    {
     "data": {
      "text/plain": [
       "array([0, 2, 4])"
      ]
     },
     "execution_count": 165,
     "metadata": {},
     "output_type": "execute_result"
    }
   ],
   "source": [
    "# tạo mảng tự động -> giống list comprehension\n",
    "np.arange(0, 5, 2) #(start, stop, step)"
   ]
  },
  {
   "cell_type": "code",
   "execution_count": null,
   "id": "be5aee28",
   "metadata": {},
   "outputs": [
    {
     "data": {
      "text/plain": [
       "array([0.  , 0.25, 0.5 , 0.75, 1.  ])"
      ]
     },
     "execution_count": 168,
     "metadata": {},
     "output_type": "execute_result"
    }
   ],
   "source": [
    "# chia đều khoảng từ start tới end\n",
    "np.linspace(0, 1, 5) #(start, end, khoảng chia)"
   ]
  },
  {
   "cell_type": "code",
   "execution_count": 171,
   "id": "df6b0829",
   "metadata": {},
   "outputs": [
    {
     "data": {
      "text/plain": [
       "array([0., 0., 0., 0.])"
      ]
     },
     "execution_count": 171,
     "metadata": {},
     "output_type": "execute_result"
    }
   ],
   "source": [
    "np.zeros(4, dtype=float) # 1D array"
   ]
  },
  {
   "cell_type": "code",
   "execution_count": null,
   "id": "13d677b5",
   "metadata": {},
   "outputs": [
    {
     "data": {
      "text/plain": [
       "array([[1, 1, 1],\n",
       "       [1, 1, 1]])"
      ]
     },
     "execution_count": 174,
     "metadata": {},
     "output_type": "execute_result"
    }
   ],
   "source": [
    "np.ones((2, 3), dtype=int) # 2x3 matrix"
   ]
  },
  {
   "cell_type": "code",
   "execution_count": 190,
   "id": "bffa2c3d",
   "metadata": {},
   "outputs": [
    {
     "data": {
      "text/plain": [
       "array([[1, 0, 0],\n",
       "       [0, 1, 0]])"
      ]
     },
     "execution_count": 190,
     "metadata": {},
     "output_type": "execute_result"
    }
   ],
   "source": [
    "np.eye(2, 3, dtype=int) # ma trận đơn vị dịch duyển được giá trị"
   ]
  },
  {
   "cell_type": "code",
   "execution_count": null,
   "id": "1e493f52",
   "metadata": {},
   "outputs": [
    {
     "data": {
      "text/plain": [
       "array([[1, 0, 0, 0],\n",
       "       [0, 1, 0, 0],\n",
       "       [0, 0, 1, 0],\n",
       "       [0, 0, 0, 1]])"
      ]
     },
     "execution_count": 179,
     "metadata": {},
     "output_type": "execute_result"
    }
   ],
   "source": [
    "np.identity(4, dtype=int) # ma trận đơn vị chuẩn không đổi được"
   ]
  },
  {
   "cell_type": "code",
   "execution_count": 192,
   "id": "5c9cf3e6",
   "metadata": {},
   "outputs": [
    {
     "data": {
      "text/plain": [
       "array([[8, 8, 8],\n",
       "       [8, 8, 8]])"
      ]
     },
     "execution_count": 192,
     "metadata": {},
     "output_type": "execute_result"
    }
   ],
   "source": [
    "np.full((2, 3), 8, dtype=int)"
   ]
  },
  {
   "cell_type": "code",
   "execution_count": null,
   "id": "0353f0dd",
   "metadata": {},
   "outputs": [
    {
     "name": "stdout",
     "output_type": "stream",
     "text": [
      "[[ 0  1  2  3]\n",
      " [ 4  5  6  7]\n",
      " [ 8  9 10 11]\n",
      " [12 13 14 15]\n",
      " [16 17 18 19]]\n",
      "[[ 0  4  8 12 16]\n",
      " [ 1  5  9 13 17]\n",
      " [ 2  6 10 14 18]\n",
      " [ 3  7 11 15 19]]\n"
     ]
    }
   ],
   "source": [
    "# demo matrix\n",
    "matrix_demo = np.arange(20).reshape(5, 4)\n",
    "print(matrix_demo)\n",
    "print(matrix_demo.T)"
   ]
  },
  {
   "cell_type": "markdown",
   "id": "59002233",
   "metadata": {},
   "source": [
    "### Xử lý mảng và ma trận"
   ]
  },
  {
   "cell_type": "code",
   "execution_count": null,
   "id": "51e0cb96",
   "metadata": {},
   "outputs": [
    {
     "data": {
      "text/plain": [
       "array([0.77770241, 0.23754122, 0.82427853])"
      ]
     },
     "execution_count": 260,
     "metadata": {},
     "output_type": "execute_result"
    }
   ],
   "source": [
    "np.random.seed(13) # đảm bảo các lần sinh ra giá trị đều giống nhau\n",
    "np.random.rand(3) # sinh ra các giá trị khác nhau"
   ]
  },
  {
   "cell_type": "code",
   "execution_count": null,
   "id": "d2e4ca5e",
   "metadata": {},
   "outputs": [
    {
     "data": {
      "text/plain": [
       "array([3, 3, 3, 3, 2])"
      ]
     },
     "execution_count": 263,
     "metadata": {},
     "output_type": "execute_result"
    }
   ],
   "source": [
    "np.random.seed(0) # mỗi giá trị là 1 con đường riêng biệt -> cùng đường -> cùng kết quả, khác đường -> khác kq\n",
    "samples = np.random.choice([1, 2, 3], size=5, p=[0.2, 0.3, 0.5]) # chọn giá trị ngẫu nhiễn trong mảng\n",
    "samples"
   ]
  },
  {
   "cell_type": "code",
   "execution_count": 193,
   "id": "eb4b144e",
   "metadata": {},
   "outputs": [
    {
     "data": {
      "text/plain": [
       "array([44, 41, 46, 43, 42, 38, 36, 32], dtype=int32)"
      ]
     },
     "execution_count": 193,
     "metadata": {},
     "output_type": "execute_result"
    }
   ],
   "source": [
    "np.random.randint(30, 50, 8) #(start, end, number of element)"
   ]
  },
  {
   "cell_type": "code",
   "execution_count": null,
   "id": "91514082",
   "metadata": {},
   "outputs": [
    {
     "data": {
      "text/plain": [
       "array([[6, 3, 8, 7],\n",
       "       [5, 4, 0, 2]], dtype=int32)"
      ]
     },
     "execution_count": 194,
     "metadata": {},
     "output_type": "execute_result"
    }
   ],
   "source": [
    "np.random.randint(0, 10, size=(2, 4)) #(start, end, type of matrix)"
   ]
  },
  {
   "cell_type": "code",
   "execution_count": 186,
   "id": "a398251d",
   "metadata": {},
   "outputs": [
    {
     "data": {
      "text/plain": [
       "(2, 3)"
      ]
     },
     "execution_count": 186,
     "metadata": {},
     "output_type": "execute_result"
    }
   ],
   "source": [
    "a1 = np.array([[1,2,3], [4,5,6]])\n",
    "a1.shape"
   ]
  },
  {
   "cell_type": "code",
   "execution_count": 187,
   "id": "14cd3e46",
   "metadata": {},
   "outputs": [
    {
     "data": {
      "text/plain": [
       "array([[1, 2],\n",
       "       [3, 4],\n",
       "       [5, 6]])"
      ]
     },
     "execution_count": 187,
     "metadata": {},
     "output_type": "execute_result"
    }
   ],
   "source": [
    "a2 = a1.reshape(3, 2)\n",
    "a2"
   ]
  },
  {
   "cell_type": "code",
   "execution_count": null,
   "id": "36c04375",
   "metadata": {},
   "outputs": [
    {
     "data": {
      "text/plain": [
       "6"
      ]
     },
     "execution_count": 188,
     "metadata": {},
     "output_type": "execute_result"
    }
   ],
   "source": [
    "a1.size # số phần tử của ma trận"
   ]
  },
  {
   "cell_type": "code",
   "execution_count": null,
   "id": "cda0500f",
   "metadata": {},
   "outputs": [
    {
     "data": {
      "text/plain": [
       "array([1, 2, 3, 4, 5, 6])"
      ]
     },
     "execution_count": 196,
     "metadata": {},
     "output_type": "execute_result"
    }
   ],
   "source": [
    "'''\n",
    "Parameters\n",
    "order{‘C’, ‘F’, ‘A’, ‘K’} are optional\n",
    "‘C’ means to flatten in row-major (C-style) order. \n",
    "‘F’ means to flatten in column-major (Fortran- style) order. \n",
    "‘A’ means to flatten in column-major order \n",
    "if a is Fortran contiguous in memory, row-major order otherwise. \n",
    "‘K’ means to flatten a in \n",
    "the order the elements occur in memory. The default is ‘C’.\n",
    "'''\n",
    "a2 = a2.flatten()\n",
    "a2"
   ]
  },
  {
   "cell_type": "code",
   "execution_count": null,
   "id": "463bc808",
   "metadata": {},
   "outputs": [
    {
     "data": {
      "text/plain": [
       "array([[1, 2, 5],\n",
       "       [6, 7, 8]])"
      ]
     },
     "execution_count": 197,
     "metadata": {},
     "output_type": "execute_result"
    }
   ],
   "source": [
    "a1 = np.where(a1<3, a1, a1+2) # condition, array, another array\n",
    "a1"
   ]
  },
  {
   "cell_type": "code",
   "execution_count": 217,
   "id": "af5a4d20",
   "metadata": {},
   "outputs": [
    {
     "data": {
      "text/plain": [
       "array([6])"
      ]
     },
     "execution_count": 217,
     "metadata": {},
     "output_type": "execute_result"
    }
   ],
   "source": [
    "# slicing -> mảng có cùng địa chỉ với mảng đầu -> change thì mảng kia cũng change\n",
    "# mảng 1 chiều\n",
    "a2[::-1]\n",
    "a2[len(a2)-1:len(a2)]"
   ]
  },
  {
   "cell_type": "code",
   "execution_count": null,
   "id": "edf39130",
   "metadata": {},
   "outputs": [],
   "source": [
    "# mảng nhiều chiều\n",
    "a1[0:1, 0:2] # [hàng (x, y-1) , cột (x, y-1)]"
   ]
  },
  {
   "cell_type": "code",
   "execution_count": 218,
   "id": "fa005612",
   "metadata": {},
   "outputs": [
    {
     "name": "stdout",
     "output_type": "stream",
     "text": [
      "[5 6 7] (3,)\n",
      "[[5 6 7]] (1, 3)\n"
     ]
    }
   ],
   "source": [
    "a3 = np.array([[1, 2, 3], [5, 6, 7], [9, 10, 11]])\n",
    "# Cách 1: số chiều giảm \n",
    "row_r1 = a3[1, :]\n",
    "\n",
    "# Cách 2: số chiều được giữ nguyên \n",
    "row_r2 = a3[1:2, :]\n",
    "\n",
    "print(row_r1, row_r1.shape)\n",
    "print(row_r2, row_r2.shape)"
   ]
  },
  {
   "cell_type": "code",
   "execution_count": 219,
   "id": "ef2f0d1c",
   "metadata": {},
   "outputs": [
    {
     "name": "stdout",
     "output_type": "stream",
     "text": [
      "[ 2  6 10] (3,)\n",
      "[[ 2]\n",
      " [ 6]\n",
      " [10]] (3, 1)\n"
     ]
    }
   ],
   "source": [
    "# Cách 1: số chiều giảm \n",
    "col_r1 = a3[:, 1]\n",
    "\n",
    "# Cách 2: số chiều được giữ nguyên \n",
    "col_r2 = a3[:, 1:2]\n",
    "\n",
    "print(col_r1, col_r1.shape)\n",
    "print(col_r2, col_r2.shape)"
   ]
  },
  {
   "cell_type": "code",
   "execution_count": null,
   "id": "5060128c",
   "metadata": {},
   "outputs": [
    {
     "data": {
      "text/plain": [
       "array([5, 6, 7])"
      ]
     },
     "execution_count": 223,
     "metadata": {},
     "output_type": "execute_result"
    }
   ],
   "source": [
    "a1[(a1 > 3) & (a1 <= 7)] #chọn các phần tử của ma trận theo điều kiện thành 1 array"
   ]
  },
  {
   "cell_type": "code",
   "execution_count": 224,
   "id": "c8ce1d4c",
   "metadata": {},
   "outputs": [
    {
     "data": {
      "text/plain": [
       "array([[False, False,  True],\n",
       "       [ True,  True,  True]])"
      ]
     },
     "execution_count": 224,
     "metadata": {},
     "output_type": "execute_result"
    }
   ],
   "source": [
    "# boolean array -> tạo thành ma trận true false vs các giá trị phụ thuộc điều kiện\n",
    "bool_arr = (a1 > 4)\n",
    "bool_arr"
   ]
  },
  {
   "cell_type": "code",
   "execution_count": 232,
   "id": "c4ebf3b8",
   "metadata": {},
   "outputs": [
    {
     "data": {
      "text/plain": [
       "array([[1, 2, 2],\n",
       "       [6, 7, 2]])"
      ]
     },
     "execution_count": 232,
     "metadata": {},
     "output_type": "execute_result"
    }
   ],
   "source": [
    "# replace elements -> (array, index of flattened array, value) -> nên dùng flatten() trước\n",
    "np.put(a1, [1, 2, 5], [2, 2, 2])\n",
    "a1"
   ]
  },
  {
   "cell_type": "code",
   "execution_count": 233,
   "id": "28344d99",
   "metadata": {},
   "outputs": [
    {
     "data": {
      "text/plain": [
       "array([1, 2, 6, 7])"
      ]
     },
     "execution_count": 233,
     "metadata": {},
     "output_type": "execute_result"
    }
   ],
   "source": [
    "np.unique(a1)"
   ]
  },
  {
   "cell_type": "code",
   "execution_count": 246,
   "id": "7c56f426",
   "metadata": {},
   "outputs": [
    {
     "data": {
      "text/plain": [
       "array([[1, 6],\n",
       "       [2, 7],\n",
       "       [2, 2]])"
      ]
     },
     "execution_count": 246,
     "metadata": {},
     "output_type": "execute_result"
    }
   ],
   "source": [
    "# ma trận chuyển vị\n",
    "a1.transpose()\n",
    "a1.T\n",
    "a1.swapaxes(0, 1) # 0:hàng, 1:cột"
   ]
  },
  {
   "cell_type": "code",
   "execution_count": 285,
   "id": "955fc188",
   "metadata": {},
   "outputs": [
    {
     "name": "stdout",
     "output_type": "stream",
     "text": [
      "[[ 5  2  4 12  1  6]\n",
      " [ 7  6  8  7 14 17]]\n",
      "[[ 5  2  4]\n",
      " [ 7  6  8]\n",
      " [12  1  6]\n",
      " [ 7 14 17]]\n"
     ]
    }
   ],
   "source": [
    "arr1 = np.random.randint(10, size=(2, 3))\n",
    "arr2 = np.random.randint(20, size=(2, 3))\n",
    "\n",
    "# stacking\n",
    "horizontal = np.hstack((arr1, arr2)) #np.column_stack\n",
    "print(horizontal)\n",
    "vertical = np.vstack((arr1, arr2)) #np.row_stack\n",
    "print(vertical)"
   ]
  },
  {
   "cell_type": "code",
   "execution_count": 286,
   "id": "6bc35941",
   "metadata": {},
   "outputs": [
    {
     "data": {
      "text/plain": [
       "[array([[5, 2],\n",
       "        [7, 6]], dtype=int32),\n",
       " array([[ 4, 12],\n",
       "        [ 8,  7]], dtype=int32),\n",
       " array([[ 1,  6],\n",
       "        [14, 17]], dtype=int32)]"
      ]
     },
     "execution_count": 286,
     "metadata": {},
     "output_type": "execute_result"
    }
   ],
   "source": [
    "# spliting\n",
    "np.hsplit(horizontal, 3)"
   ]
  },
  {
   "cell_type": "code",
   "execution_count": 287,
   "id": "fc6b5664",
   "metadata": {},
   "outputs": [
    {
     "data": {
      "text/plain": [
       "[array([[5, 2],\n",
       "        [7, 6]], dtype=int32),\n",
       " array([[ 4, 12,  1,  6],\n",
       "        [ 8,  7, 14, 17]], dtype=int32),\n",
       " array([], shape=(2, 0), dtype=int32)]"
      ]
     },
     "execution_count": 287,
     "metadata": {},
     "output_type": "execute_result"
    }
   ],
   "source": [
    "# chia 3 phần từ cột 2 đến 6\n",
    "np.hsplit(horizontal, (2, 6)) # np.hsplit(horizontal, [2, 6]) -> kết quả giống nhau"
   ]
  },
  {
   "cell_type": "markdown",
   "id": "5cff4b50",
   "metadata": {},
   "source": [
    "### Phép toán"
   ]
  },
  {
   "cell_type": "code",
   "execution_count": 288,
   "id": "1bf9424f",
   "metadata": {},
   "outputs": [
    {
     "name": "stdout",
     "output_type": "stream",
     "text": [
      "[[5 2 4]\n",
      " [7 6 8]]\n",
      "[[12  1  6]\n",
      " [ 7 14 17]]\n"
     ]
    }
   ],
   "source": [
    "print(arr1)\n",
    "print(arr2)"
   ]
  },
  {
   "cell_type": "code",
   "execution_count": null,
   "id": "f8de76f9",
   "metadata": {},
   "outputs": [
    {
     "name": "stdout",
     "output_type": "stream",
     "text": [
      "[[17  3 10]\n",
      " [14 20 25]]\n",
      "[[17  3 10]\n",
      " [14 20 25]]\n",
      "[[5 0 4]\n",
      " [0 6 8]]\n"
     ]
    },
    {
     "data": {
      "text/plain": [
       "array([[3.46410162, 1.        , 2.44948974],\n",
       "       [2.64575131, 3.74165739, 4.12310563]])"
      ]
     },
     "execution_count": 290,
     "metadata": {},
     "output_type": "execute_result"
    }
   ],
   "source": [
    "# phép tính với mảng\n",
    "print(arr1 + arr2)\n",
    "print(np.add(arr1, arr2))\n",
    "print(np.remainder(arr1, arr2)) # chia lấy dư\n",
    "# np.subtract(x, y) (x-y), np.divide(x, y) (x/y) , np.multiply(x, y) (x * y)\n",
    "np.sqrt(arr2) #căn bậc 2 cho từng phần tử"
   ]
  },
  {
   "cell_type": "code",
   "execution_count": 291,
   "id": "7a86841a",
   "metadata": {},
   "outputs": [
    {
     "name": "stdout",
     "output_type": "stream",
     "text": [
      "[[128  87]\n",
      " [232 185]]\n",
      "[[128  87]\n",
      " [232 185]]\n",
      "[[128  87]\n",
      " [232 185]]\n"
     ]
    }
   ],
   "source": [
    "arr2 = arr2.reshape(3, 2)\n",
    "arr2.shape\n",
    "\n",
    "print(np.matmul(arr1, arr2)) # chỉ dùng cho nhân ma trận\n",
    "print(arr1.dot(arr2)) # tích vô hướng, nhân ma trận, vector-matrix,...\n",
    "print(np.dot(arr1, arr2)) #giống .dot()"
   ]
  },
  {
   "cell_type": "code",
   "execution_count": 319,
   "id": "8724aed0",
   "metadata": {},
   "outputs": [
    {
     "name": "stdout",
     "output_type": "stream",
     "text": [
      "[[1 2 2]\n",
      " [6 7 2]]\n",
      "20\n",
      "[7 9 4]\n",
      "[ 5 15]\n",
      "[2 7] [1 2 2]\n",
      "[1 1] [0 0 0]\n",
      "[[ 11  31  51]\n",
      " [ 26  86 146]]\n"
     ]
    },
    {
     "data": {
      "text/plain": [
       "array([ 2,  0,  5, 90])"
      ]
     },
     "execution_count": 319,
     "metadata": {},
     "output_type": "execute_result"
    }
   ],
   "source": [
    "print(a1)\n",
    "# tính tổng\n",
    "print(np.sum(a1))  \n",
    "# Tính tổng theo từng cột \n",
    "print(np.sum(a1, axis=0))  \n",
    "# Tính tổng theo từng hàng\n",
    "print(np.sum(a1, axis=1)) \n",
    "# max-min -> value\n",
    "print(a1.max(axis=1), a1.min(axis=0))\n",
    "# argmax-argmin -> index\n",
    "print(np.argmax(a1, axis=1), np.argmin(a1, axis=0))\n",
    "# inner product\n",
    "print(np.inner(a1, a3))\n",
    "#absolute\n",
    "np.absolute([-2, 0, -5, 90])"
   ]
  },
  {
   "cell_type": "code",
   "execution_count": null,
   "id": "f0010f69",
   "metadata": {},
   "outputs": [
    {
     "name": "stdout",
     "output_type": "stream",
     "text": [
      "[[1 2 2]\n",
      " [6 7 2]]\n",
      "[[   2.71828183    7.3890561     7.3890561 ]\n",
      " [ 403.42879349 1096.63315843    7.3890561 ]]\n",
      "[[0.         0.69314718 0.69314718]\n",
      " [1.79175947 1.94591015 0.69314718]]\n",
      "3.141592653589793\n",
      "180.0\n"
     ]
    }
   ],
   "source": [
    "print(a1)\n",
    "# e^x[i]\n",
    "print(np.exp(a1))\n",
    "#log(x[i])\n",
    "print(np.log(a1))\n",
    "#pi\n",
    "print(np.pi)\n",
    "#rad2deg -> np.sin(), np.cos(), np.arcsin(),...\n",
    "print(np.rad2deg(np.pi))"
   ]
  },
  {
   "cell_type": "markdown",
   "id": "f873c6f4",
   "metadata": {},
   "source": [
    "### Thống kê"
   ]
  },
  {
   "cell_type": "code",
   "execution_count": 303,
   "id": "2d19e87c",
   "metadata": {},
   "outputs": [
    {
     "data": {
      "text/plain": [
       "array([0, 1, 2, 3, 4, 5, 6, 7, 8, 9])"
      ]
     },
     "execution_count": 303,
     "metadata": {},
     "output_type": "execute_result"
    }
   ],
   "source": [
    "a5 = np.arange(10, dtype=int)\n",
    "a5"
   ]
  },
  {
   "cell_type": "code",
   "execution_count": 306,
   "id": "d5ff00c0",
   "metadata": {},
   "outputs": [
    {
     "name": "stdout",
     "output_type": "stream",
     "text": [
      "4.5\n",
      "4.5\n",
      "6.333333333333333\n",
      "2.8722813232690143\n",
      "8.25\n",
      "4.5\n"
     ]
    }
   ],
   "source": [
    "print(np.mean(a5)) # không có trọng số\n",
    "print(np.median(a5))\n",
    "print(np.average(a5, weights=np.arange(10, dtype=int))) # có trọng số\n",
    "print(np.std(a5))\n",
    "print(np.var(a5))\n",
    "print(np.percentile(a5, 50, axis=0))"
   ]
  },
  {
   "cell_type": "markdown",
   "id": "32e55773",
   "metadata": {},
   "source": [
    "### Thư viện linalg"
   ]
  },
  {
   "cell_type": "code",
   "execution_count": 313,
   "id": "94864788",
   "metadata": {},
   "outputs": [
    {
     "name": "stdout",
     "output_type": "stream",
     "text": [
      "[[1 1]\n",
      " [2 2]],[[8 6]\n",
      " [6 7]],[[14 19]\n",
      " [18 11]]\n"
     ]
    }
   ],
   "source": [
    "from numpy import linalg as LA\n",
    "\n",
    "ar1 = np.random.randint(1, 5, (2, 2))\n",
    "ar2= np.random.randint(6, 10, (2, 2))\n",
    "ar3 = np.random.randint(10, 20, (2, 2))\n",
    "\n",
    "print(ar1, ar2, ar3, sep=',')"
   ]
  },
  {
   "cell_type": "code",
   "execution_count": 315,
   "id": "6abe2a5f",
   "metadata": {},
   "outputs": [
    {
     "data": {
      "text/plain": [
       "array([[430, 409],\n",
       "       [860, 818]], dtype=int32)"
      ]
     },
     "execution_count": 315,
     "metadata": {},
     "output_type": "execute_result"
    }
   ],
   "source": [
    "LA.multi_dot([ar1, ar2, ar3])"
   ]
  },
  {
   "cell_type": "code",
   "execution_count": 327,
   "id": "fbdc1546",
   "metadata": {},
   "outputs": [
    {
     "name": "stdout",
     "output_type": "stream",
     "text": [
      "3.1622776601683795\n",
      "EigResult(eigenvalues=array([0., 3.]), eigenvectors=array([[-0.70710678, -0.4472136 ],\n",
      "       [ 0.70710678, -0.89442719]]))\n",
      "[0. 3.]\n",
      "9.140597967047107\n",
      "[[ 0.35 -0.3 ]\n",
      " [-0.3   0.4 ]]\n",
      "19.999999999999996\n",
      "[[3 3]\n",
      " [6 6]]\n"
     ]
    }
   ],
   "source": [
    "print(LA.norm(ar1))\n",
    "print(LA.eig(ar1))\n",
    "print(LA.eigvals(ar1))\n",
    "print(LA.cond(ar2))\n",
    "print(LA.inv(ar2))\n",
    "print(LA.det(ar2))\n",
    "print(LA.matrix_power(ar1, 2))"
   ]
  },
  {
   "cell_type": "markdown",
   "id": "59eea09a",
   "metadata": {},
   "source": [
    "### Broadcasting"
   ]
  },
  {
   "cell_type": "markdown",
   "id": "1b42b439",
   "metadata": {},
   "source": [
    "Broadcasting cho phép thực thi các phép toán trên các mảng có kích thước khác nhau.\n",
    "\n",
    "Ví dụ: chúng ta muốn cộng vector cho mỗi hàng của ma trận. Chúng ta có thể làm như sau:"
   ]
  },
  {
   "cell_type": "code",
   "execution_count": 328,
   "id": "d4a01b84",
   "metadata": {},
   "outputs": [
    {
     "name": "stdout",
     "output_type": "stream",
     "text": [
      "Matrix X: \n",
      " [[ 1  2  3]\n",
      " [ 4  5  6]\n",
      " [ 7  8  9]\n",
      " [10 11 12]]\n",
      "\n",
      "Vector v: \n",
      " [1 0 1]\n",
      "\n",
      "Matrix Y: \n",
      " [[ 2  2  4]\n",
      " [ 5  5  7]\n",
      " [ 8  8 10]\n",
      " [11 11 13]]\n"
     ]
    }
   ],
   "source": [
    "import numpy as np\n",
    "\n",
    "X = np.array([[1,2,3],[4,5,6],[7,8,9],[10,11,12]])\n",
    "v = np.array([1,0,1])\n",
    "Y = np.empty_like(X)\n",
    "\n",
    "# Cách 1: Thêm vector v vào mỗi hàng của ma trận X bằng vòng lặp \n",
    "for i in range(4):\n",
    "    Y[i, :] = X[i, :] + v\n",
    "    \n",
    "print('Matrix X: \\n', X)\n",
    "print('\\nVector v: \\n', v)\n",
    "print('\\nMatrix Y: \\n', Y)"
   ]
  },
  {
   "cell_type": "markdown",
   "id": "00830a4e",
   "metadata": {},
   "source": [
    "Cách này hoạt động bình thường với ma trận X nhỏ. Khi ma trận X lớn, việc sử dụng vòng lặp này sẽ rất chậm.\n",
    "\n",
    "Chúng ta có thể thực hiện mục đích trên bằng cách xếp chồng nhiều bản sao của v theo chiều dọc, sau đó thực hiện phép tính tổng với X. Chúng ta có thể thực hiện phương pháp này như sau:\n"
   ]
  },
  {
   "cell_type": "code",
   "execution_count": 329,
   "id": "2e842c61",
   "metadata": {},
   "outputs": [
    {
     "name": "stdout",
     "output_type": "stream",
     "text": [
      "Matrix X: \n",
      " [[ 1  2  3]\n",
      " [ 4  5  6]\n",
      " [ 7  8  9]\n",
      " [10 11 12]]\n",
      "\n",
      "Vector v: \n",
      " [1 0 1]\n",
      "\n",
      "Matrix v: \n",
      " [[1 0 1]\n",
      " [1 0 1]\n",
      " [1 0 1]\n",
      " [1 0 1]]\n",
      "\n",
      "Matrix Y: \n",
      " [[ 2  2  4]\n",
      " [ 5  5  7]\n",
      " [ 8  8 10]\n",
      " [11 11 13]]\n"
     ]
    }
   ],
   "source": [
    "import numpy as np\n",
    "\n",
    "X = np.array([[1,2,3],[4,5,6],[7,8,9],[10,11,12]])\n",
    "v = np.array([1,0,1])\n",
    "\n",
    "# Xếp chồng 4 bản sao của v lên nhau:\n",
    "V_t = np.tile(v, (4, 1))\n",
    "\n",
    "# Thực hiện phép cộng\n",
    "Y = X + V_t\n",
    "\n",
    "print('Matrix X: \\n', X)\n",
    "print('\\nVector v: \\n', v)\n",
    "print('\\nMatrix v: \\n', V_t)\n",
    "print('\\nMatrix Y: \\n', Y)"
   ]
  },
  {
   "cell_type": "markdown",
   "id": "f9cc970f",
   "metadata": {},
   "source": [
    "Numpy broadcasting cho phép chúng ta thực thi tính toán này mà không cần phải làm thêm các bước thêm nào.\n",
    "import numpy as np"
   ]
  },
  {
   "cell_type": "code",
   "execution_count": 330,
   "id": "7f77b81b",
   "metadata": {},
   "outputs": [
    {
     "name": "stdout",
     "output_type": "stream",
     "text": [
      "[[ 2  2  4]\n",
      " [ 5  5  7]\n",
      " [ 8  8 10]\n",
      " [11 11 13]]\n"
     ]
    }
   ],
   "source": [
    "X = np.array([[1,2,3],[4,5,6],[7,8,9],[10,11,12]])\n",
    "v = np.array([1,0,1])\n",
    "Y = X + v \n",
    "print(Y)"
   ]
  },
  {
   "cell_type": "markdown",
   "id": "35dbfb49",
   "metadata": {},
   "source": [
    "## Matplotlib"
   ]
  },
  {
   "cell_type": "markdown",
   "id": "abb77b04",
   "metadata": {},
   "source": [
    "### Cơ bản"
   ]
  },
  {
   "cell_type": "markdown",
   "id": "9a7b4557",
   "metadata": {},
   "source": [
    "Một vài cú pháp cơ bản:\n",
    "\n",
    "- `plt.figure()`: tạo một figure \n",
    "\n",
    "\n",
    "- `plt.plot()`: vẽ đồ thị với giá trị trục x so với trục y \n",
    "\n",
    "\n",
    "- `plt.xlabel()`: đặt tên cho trục x\n",
    "\n",
    "\n",
    "- `plt.ylabel()`: đặt tên cho trục y\n",
    "\n",
    "\n",
    "- `plt.title()`: đặt tên cho figure \n",
    "\n",
    "\n",
    "- `plt.grid()`: hiển thị các đường lưới \n",
    "\n",
    "\n",
    "- `plt.legend()`: hiển thị chú thích cho đồ thị \n",
    "\n",
    "\n",
    "- `plt.savefig()`: lưu hình về máy \n",
    "\n",
    "\n",
    "- `plt.show()`: hiển thị hình vẽ \n",
    "\n",
    "\n",
    "- `plt.clf()`: xoá hình hiện tại (hữu ích khi có nhiều figure trong 1 chương trình)"
   ]
  },
  {
   "cell_type": "code",
   "execution_count": 6,
   "id": "1d61ad2a",
   "metadata": {},
   "outputs": [],
   "source": [
    "import matplotlib.pyplot as plt"
   ]
  },
  {
   "cell_type": "code",
   "execution_count": 7,
   "id": "4d6156c8",
   "metadata": {},
   "outputs": [
    {
     "data": {
      "image/png": "[encoded data removed]",
      "text/plain": [
       "<Figure size 640x480 with 1 Axes>"
      ]
     },
     "metadata": {},
     "output_type": "display_data"
    }
   ],
   "source": [
    "# Tạo hàm số\n",
    "x = np.arange(-5, 5, 0.01)\n",
    "y = x ** 3\n",
    "\n",
    "# Đặt tên \n",
    "plt.title('Hàm y = x^3')\n",
    "plt.xlabel('Trục x')\n",
    "plt.ylabel('Trục y')\n",
    "\n",
    "# Hiển thị lưới \n",
    "plt.grid()\n",
    "\n",
    "# Vẽ plt.plot()\n",
    "plt.plot(x, y, label='y = x^3')\n",
    "\n",
    "# HIển thị chú thích \n",
    "plt.legend()\n",
    "\n",
    "# Hiển thị hình vẽ\n",
    "plt.show()"
   ]
  },
  {
   "cell_type": "markdown",
   "id": "57a004ce",
   "metadata": {},
   "source": [
    "Hơn nữa, Matplotlib còn cho chúng ta có thể vẽ nhiều hình trên 1 Figure:\n",
    "- Chúng ta có thể sử dụng phương thức `.subplot()` gồm có 3 thông số cụ thể:\n",
    "    - `nrows`: số lượng hàng trên Figure\n",
    "    \n",
    "    - `ncols`: số lượng cột trên Figure\n",
    "      \n",
    "    - `plot_number`: vị trí của plot trong Figure"
   ]
  },
  {
   "cell_type": "code",
   "execution_count": 4,
   "id": "b3ec0212",
   "metadata": {},
   "outputs": [
    {
     "data": {
      "image/png": "[encoded data removed]",
      "text/plain": [
       "<Figure size 640x480 with 2 Axes>"
      ]
     },
     "metadata": {},
     "output_type": "display_data"
    }
   ],
   "source": [
    "# plt.subplot(nrows, ncols, plot_number)\n",
    "\n",
    "# nrows = 1, ncols = 2 (1 hàng, 2 cột)\n",
    "plt.subplot(1, 2, 1) # vẽ ở vị trí 1\n",
    "plt.plot(x, y, 'red')\n",
    "\n",
    "plt.subplot(1, 2, 2) # vẽ ở vị trí 2\n",
    "plt.plot(x, y, 'green')\n",
    "\n",
    "plt.show()"
   ]
  },
  {
   "cell_type": "code",
   "execution_count": 22,
   "id": "e2d2d59b",
   "metadata": {},
   "outputs": [
    {
     "data": {
      "image/png": "[encoded data removed]",
      "text/plain": [
       "<Figure size 640x480 with 1 Axes>"
      ]
     },
     "metadata": {},
     "output_type": "display_data"
    }
   ],
   "source": [
    "#fig, ax = plt.subplots(figsize = (12,8))\n",
    "x = np.linspace(0,10,1000)\n",
    "y = 2*x\n",
    "plt.plot(x, np.sin(x), label='y=sin(x)')\n",
    "plt.plot(x,np.cos(x), label='y=cos(x)')\n",
    "plt.title('Sine and Cosine Functions ')\n",
    "plt.xlabel(\"x-axis\")\n",
    "plt.ylabel(\"y-axis\")\n",
    "plt.grid()\n",
    "plt.legend() # Describing the element of the graph\n",
    "plt.show()"
   ]
  },
  {
   "cell_type": "markdown",
   "id": "96e2632b",
   "metadata": {},
   "source": [
    "### Hướng đối tượng (Figure)"
   ]
  },
  {
   "cell_type": "markdown",
   "id": "d9723cd2",
   "metadata": {},
   "source": [
    "#### Figure \n",
    "Như đã nói ở trên, thành phần chính của **figure** là các **axes**. Một **figure** có thể chứa một hoặc nhiều **axes**. Hay nói cách khác, **figure** chỉ là khung chứa, chính xác **axes** mới thật sự là nơi các hình được vẽ lên.\n",
    "\n",
    "Như vậy, sẽ **không có** những cách gọi kiểu như:\n",
    "    - f̶̶i̶̶g̶̶.̶̶p̶̶l̶̶o̶̶t̶̶(̶) \n",
    "    - f̶̶i̶̶g̶̶.̶̶x̶̶l̶̶a̶̶b̶̶e̶̶l̶̶(̶)\n",
    "    - ..."
   ]
  },
  {
   "cell_type": "code",
   "execution_count": 8,
   "id": "d61a2449",
   "metadata": {},
   "outputs": [
    {
     "data": {
      "text/plain": [
       "<Figure size 640x480 with 0 Axes>"
      ]
     },
     "metadata": {},
     "output_type": "display_data"
    }
   ],
   "source": [
    "# Khởi tạo figure trống\n",
    "fig = plt.figure()\n",
    "\n",
    "# Hiển thị figure hiện tại \n",
    "plt.show()"
   ]
  },
  {
   "cell_type": "markdown",
   "id": "6bcf9e9d",
   "metadata": {},
   "source": [
    "Bây giờ chúng ta cần thêm các **axes** vào **figure**, bằng phương thức: `.add_axes()` gồm 4 đối số: `bên trái, phía dưới, chiều rộng, chiều cao.`"
   ]
  },
  {
   "cell_type": "code",
   "execution_count": 9,
   "id": "5be46f14",
   "metadata": {},
   "outputs": [
    {
     "data": {
      "image/png": "[encoded data removed]",
      "text/plain": [
       "<Figure size 640x480 with 2 Axes>"
      ]
     },
     "metadata": {},
     "output_type": "display_data"
    }
   ],
   "source": [
    "fig = plt.figure()\n",
    "\n",
    "# Có thể gọi tắt subplot(1,1,1) thành subplot(111)\n",
    "fig.add_subplot(111)\n",
    "\n",
    "# facecolor là màu nền \n",
    "ax = fig.add_axes([0, 0.5, 0.5, 0.5], facecolor='#BECAFB')\n",
    "ax.plot(x, y, 'red')\n",
    "\n",
    "plt.show()"
   ]
  },
  {
   "cell_type": "markdown",
   "id": "e9b0064a",
   "metadata": {},
   "source": [
    "Thêm tiêu đề cho các axes bằng cách:\n",
    "   - `.set_xlabel()`: tiêu đề trục x\n",
    "   \n",
    "   - `.set_ylabel()`: tiêu đề trục y\n",
    "   \n",
    "   - `.set_title()`: tiêu đề axes"
   ]
  },
  {
   "cell_type": "code",
   "execution_count": 10,
   "id": "6ad876e1",
   "metadata": {},
   "outputs": [
    {
     "data": {
      "image/png": "[encoded data removed]",
      "text/plain": [
       "<Figure size 640x480 with 3 Axes>"
      ]
     },
     "metadata": {},
     "output_type": "display_data"
    }
   ],
   "source": [
    "fig = plt.figure()\n",
    "\n",
    "# Có thể gọi tắt subplot(1,1,1) thành subplot(111)\n",
    "fig.add_subplot(111)\n",
    "\n",
    "ax = fig.add_axes([0, 0.5, 0.5, 0.5], facecolor='#BECAFB')\n",
    "ax.plot(x, y, 'red')\n",
    "\n",
    "ax.set_xlabel('Trục x')\n",
    "ax.set_ylabel('Trục y')\n",
    "ax.set_title('Hình thứ 1')\n",
    "\n",
    "# Tạo thêm 1 axes trong cùng 1 figure\n",
    "ax2 = fig.add_axes([0.5, -0.1, 0.5, 0.5])\n",
    "\n",
    "x = np.linspace(0, 2, 100)\n",
    "ax2.plot(x, x, label='linear')\n",
    "ax2.plot(x, x**2, label='quadratic')\n",
    "ax2.plot(x, x**3, label='cubic')\n",
    "\n",
    "ax2.set_xlabel('Trục x')\n",
    "ax2.set_ylabel('Trục y')\n",
    "ax2.set_title('Hình thứ 2')\n",
    "ax2.legend()\n",
    "\n",
    "plt.show()"
   ]
  },
  {
   "cell_type": "markdown",
   "id": "e60b06ce",
   "metadata": {},
   "source": [
    "#### Thuộc tính Figure \n",
    "1. Chỉnh kích thước của Figure bằng phương thức `figsize` (đơn vị inch).\n",
    "2. `dpi` độ phân giải của hình, giá trị mặc định là 100. `dpi` càng cao thì chất lượng ảnh càng cao.\n",
    "3. Lưu Figure bằng `fig.savefig()`\n",
    "4. Kiểm tra Figure đã lưu chưa? `plt.imshow(mpimg.imread('my_figure.png'))`\n",
    "5. Cách xoá, đóng 1 figure:\n",
    "    - Xoá nội dung của fig:\n",
    "        - `fig.clf()`\n",
    "        - `plt.clf()`\n",
    "\n",
    "    - Đóng fig:\n",
    "        - `plt.close(<Tên fig>)`"
   ]
  },
  {
   "cell_type": "code",
   "execution_count": 11,
   "id": "d424971a",
   "metadata": {},
   "outputs": [
    {
     "data": {
      "image/png": "[encoded data removed]",
      "text/plain": [
       "<Figure size 1000x500 with 1 Axes>"
      ]
     },
     "metadata": {},
     "output_type": "display_data"
    }
   ],
   "source": [
    "# Khởi tạo nhanh Figure và Axes -> plt.subplots()\n",
    "fig, ax = plt.subplots(figsize=(10,5))\n",
    "\n",
    "x = np.linspace(0, 2, 100)\n",
    "ax.plot(x, x, label='linear')\n",
    "ax.plot(x, x**2, label='quadratic')\n",
    "ax.plot(x, x**3, label='cubic')\n",
    "\n",
    "ax.set_xlabel('Trục x')\n",
    "ax.set_ylabel('Trục y')\n",
    "ax.set_title('Hình thứ 2')\n",
    "ax.legend()\n",
    "\n",
    "plt.show()\n",
    "\n",
    "# Lưu figure cùng thư mục với code \n",
    "#fig.savefig('my_figure.png')"
   ]
  },
  {
   "cell_type": "markdown",
   "id": "b1950431",
   "metadata": {},
   "source": [
    "#### Chỉnh trục toạ độ trong Figure ( Spines và Ticks của đồ thị )\n",
    "Axis spine - đường ghi nhận ranh giới khu vực dữ liệu. Spine là đường kết nối các dấu ticks trên trục và ghi nhận ranh giới của khu vực dữ liệu. Chúng ta có thể cài đặt tuỳ ý.\n",
    "\n",
    "Ví dụ: khảo sát và vẽ đồ thị hàm số y = sin(x)"
   ]
  },
  {
   "cell_type": "code",
   "execution_count": 12,
   "id": "08340337",
   "metadata": {},
   "outputs": [
    {
     "data": {
      "image/png": "[encoded data removed]",
      "text/plain": [
       "<Figure size 640x480 with 1 Axes>"
      ]
     },
     "metadata": {},
     "output_type": "display_data"
    }
   ],
   "source": [
    "# Trong trường hợp chưa chỉnh các trục toạ độ \n",
    "x = np.arange(-10., 10., 0.2)\n",
    "y = np.sin(x)\n",
    "\n",
    "plt.plot(x, y)\n",
    "plt.show()"
   ]
  },
  {
   "cell_type": "code",
   "execution_count": 13,
   "id": "5ef4f996",
   "metadata": {},
   "outputs": [
    {
     "data": {
      "image/png": "[encoded data removed]",
      "text/plain": [
       "<Figure size 1000x600 with 1 Axes>"
      ]
     },
     "metadata": {},
     "output_type": "display_data"
    }
   ],
   "source": [
    "# Chỉnh lại trục toạ độ \n",
    "fig, ax = plt.subplots(figsize=(10,6))\n",
    "x = np.arange(-10., 10., 0.2)\n",
    "y = np.sin(x)\n",
    "\n",
    "# Biến đường biên bên trên và bên phải -> vô hình \n",
    "ax.spines['top'].set_color('none')\n",
    "ax.spines['right'].set_color('none')\n",
    "\n",
    "# Di chuyển đường bên dưới vào giữa  & ở vị trí y = 0\n",
    "ax.xaxis.set_ticks_position('bottom')\n",
    "ax.spines['bottom'].set_position(('data',0))\n",
    "\n",
    "# Di chuyển đường bên trái vào giữa & ở vị trí x = 0\n",
    "ax.yaxis.set_ticks_position('left')\n",
    "# ax.spines['left'].set_position(('data', 0))\n",
    "\n",
    "# Hoặc thay ('data', 0) thành 'center'\n",
    "ax.spines['left'].set_position('center')\n",
    "\n",
    "ax.plot(x, y)\n",
    "plt.show()"
   ]
  },
  {
   "cell_type": "markdown",
   "id": "959c7a99",
   "metadata": {},
   "source": [
    "#### Vẽ đồ thị kiểu điểm \n",
    "Trong nhiều trường hợp, ta muốn hiển thị từng điểm thay vì đường thẳng, việc chuyển đường thẳng sang điểm chúng ta sử dụng thêm các `marker` trong `.plot()`.\n",
    "\n",
    "Các `marker` thông dụng:\n",
    "<img src=\"https://imgur.com/nOixtOT.png\"> "
   ]
  },
  {
   "cell_type": "code",
   "execution_count": 14,
   "id": "b28cda8b",
   "metadata": {},
   "outputs": [
    {
     "data": {
      "image/png": "[encoded data removed]",
      "text/plain": [
       "<Figure size 640x480 with 1 Axes>"
      ]
     },
     "metadata": {},
     "output_type": "display_data"
    }
   ],
   "source": [
    "t = np.arange(0., 10., 0.5)\n",
    "\n",
    "plt.plot(t, t**2, 'X')\n",
    "plt.show()"
   ]
  },
  {
   "cell_type": "markdown",
   "id": "6b7c7451",
   "metadata": {},
   "source": [
    "Cách vẽ vừa điểm, vừa đường:\n",
    "- Cách 1: nối các điểm bằng đường \n",
    "\n",
    "Một số kiểu `linestyle`:\n",
    "<img src=\"https://imgur.com/YhFLaeY.png\"> "
   ]
  },
  {
   "cell_type": "code",
   "execution_count": 15,
   "id": "faa5d6f6",
   "metadata": {},
   "outputs": [
    {
     "data": {
      "image/png": "[encoded data removed]",
      "text/plain": [
       "<Figure size 640x480 with 1 Axes>"
      ]
     },
     "metadata": {},
     "output_type": "display_data"
    }
   ],
   "source": [
    "x = [1, 2, 3, 5]\n",
    "y = [4, 5, 6, 7]\n",
    "\n",
    "plt.plot(x, y, linestyle='--', marker='o', color='b')\n",
    "\n",
    "# Một cách ngắn hơn \n",
    "plt.plot(x, y, '--bo')\n",
    "plt.show()"
   ]
  },
  {
   "cell_type": "markdown",
   "id": "e5e5ad1a",
   "metadata": {},
   "source": [
    "- Cách 2: Vẽ một vài điểm trên đường "
   ]
  },
  {
   "cell_type": "code",
   "execution_count": 16,
   "id": "c20f828e",
   "metadata": {},
   "outputs": [
    {
     "data": {
      "image/png": "[encoded data removed]",
      "text/plain": [
       "<Figure size 640x480 with 1 Axes>"
      ]
     },
     "metadata": {},
     "output_type": "display_data"
    }
   ],
   "source": [
    "x = np.linspace(-np.pi, np.pi, 30)\n",
    "y = np.sin(x)\n",
    "markers_on = [0, 19, 12, 5]\n",
    "plt.plot(x, y, '-gD', markevery=markers_on)\n",
    "plt.show()"
   ]
  }
 ],
 "metadata": {
  "kernelspec": {
   "display_name": "venv",
   "language": "python",
   "name": "python3"
  },
  "language_info": {
   "codemirror_mode": {
    "name": "ipython",
    "version": 3
   },
   "file_extension": ".py",
   "mimetype": "text/x-python",
   "name": "python",
   "nbconvert_exporter": "python",
   "pygments_lexer": "ipython3",
   "version": "3.13.1"
  }
 },
 "nbformat": 4,
 "nbformat_minor": 5
}
